{
  "nbformat": 4,
  "nbformat_minor": 0,
  "metadata": {
    "colab": {
      "name": "practice_1.ipynb",
      "provenance": [],
      "collapsed_sections": [],
      "authorship_tag": "ABX9TyOGeHJe3BAJd8pXBVQxlirT"
    },
    "kernelspec": {
      "name": "python3",
      "display_name": "Python 3"
    }
  },
  "cells": [
    {
      "cell_type": "code",
      "metadata": {
        "id": "6LlOmIrfRfMt",
        "colab_type": "code",
        "colab": {
          "base_uri": "https://localhost:8080/",
          "height": 34
        },
        "outputId": "9fc52f85-f772-4cf0-e536-4f1ea3c2fde5"
      },
      "source": [
        "miles = 1820\n",
        "gallons = 97\n",
        "mpg = miles / gallons\n",
        "print(mpg)"
      ],
      "execution_count": 2,
      "outputs": [
        {
          "output_type": "stream",
          "text": [
            "18.762886597938145\n"
          ],
          "name": "stdout"
        }
      ]
    },
    {
      "cell_type": "code",
      "metadata": {
        "id": "6ohpYV3XTd1S",
        "colab_type": "code",
        "colab": {
          "base_uri": "https://localhost:8080/",
          "height": 34
        },
        "outputId": "7afda7ef-e857-45bc-af66-810243330f93"
      },
      "source": [
        "print(mpg)"
      ],
      "execution_count": 6,
      "outputs": [
        {
          "output_type": "stream",
          "text": [
            "18.762886597938145\n"
          ],
          "name": "stdout"
        }
      ]
    },
    {
      "cell_type": "markdown",
      "metadata": {
        "id": "nu0jfYnZTkwz",
        "colab_type": "text"
      },
      "source": [
        "# Intro to Numpy \n",
        "## importing a library"
      ]
    },
    {
      "cell_type": "markdown",
      "metadata": {
        "id": "GKRvooIBU8cP",
        "colab_type": "text"
      },
      "source": [
        "as np = Is an alias. So that is what we are going to refer to numpy as"
      ]
    },
    {
      "cell_type": "code",
      "metadata": {
        "id": "CSrK7oDOTtfP",
        "colab_type": "code",
        "colab": {}
      },
      "source": [
        "import numpy as np\n",
        "gert = np.array([1, 2, 3, 4])"
      ],
      "execution_count": 17,
      "outputs": []
    },
    {
      "cell_type": "code",
      "metadata": {
        "id": "KteyUUfMT4nP",
        "colab_type": "code",
        "colab": {
          "base_uri": "https://localhost:8080/",
          "height": 34
        },
        "outputId": "d283f260-7476-41e0-bc25-f26d9bd622d5"
      },
      "source": [
        "gert"
      ],
      "execution_count": 5,
      "outputs": [
        {
          "output_type": "execute_result",
          "data": {
            "text/plain": [
              "array([1, 2, 3, 4])"
            ]
          },
          "metadata": {
            "tags": []
          },
          "execution_count": 5
        }
      ]
    },
    {
      "cell_type": "code",
      "metadata": {
        "id": "0eFkkPooUThl",
        "colab_type": "code",
        "colab": {}
      },
      "source": [
        "gert_2D = np.array([[1, 2, 3, 4], [5, 6, 7, 8]])"
      ],
      "execution_count": 10,
      "outputs": []
    },
    {
      "cell_type": "code",
      "metadata": {
        "id": "D_ISQpOmUjRd",
        "colab_type": "code",
        "colab": {
          "base_uri": "https://localhost:8080/",
          "height": 51
        },
        "outputId": "7f16625a-346d-49d5-b9b0-b10a17a46932"
      },
      "source": [
        "gert_2D"
      ],
      "execution_count": 11,
      "outputs": [
        {
          "output_type": "execute_result",
          "data": {
            "text/plain": [
              "array([[1, 2, 3, 4],\n",
              "       [5, 6, 7, 8]])"
            ]
          },
          "metadata": {
            "tags": []
          },
          "execution_count": 11
        }
      ]
    },
    {
      "cell_type": "markdown",
      "metadata": {
        "id": "L_xAbLcfVdPC",
        "colab_type": "text"
      },
      "source": [
        "## Other ways to create arrays"
      ]
    },
    {
      "cell_type": "code",
      "metadata": {
        "id": "7y-69kOlViwA",
        "colab_type": "code",
        "colab": {}
      },
      "source": [
        "gumbo = [x for x in range(10)]"
      ],
      "execution_count": 13,
      "outputs": []
    },
    {
      "cell_type": "code",
      "metadata": {
        "id": "m9RPXVCvV04M",
        "colab_type": "code",
        "colab": {
          "base_uri": "https://localhost:8080/",
          "height": 34
        },
        "outputId": "2b759707-fbb1-437f-c574-1475517918e7"
      },
      "source": [
        "gumbo"
      ],
      "execution_count": 14,
      "outputs": [
        {
          "output_type": "execute_result",
          "data": {
            "text/plain": [
              "[0, 1, 2, 3, 4, 5, 6, 7, 8, 9]"
            ]
          },
          "metadata": {
            "tags": []
          },
          "execution_count": 14
        }
      ]
    },
    {
      "cell_type": "code",
      "metadata": {
        "id": "_JJeQhDyX1TG",
        "colab_type": "code",
        "colab": {
          "base_uri": "https://localhost:8080/",
          "height": 187
        },
        "outputId": "afdbc61e-279b-4c33-ed62-7c6e0d651bc1"
      },
      "source": [
        "gumbo_2D = [[x + y * 10 for x in range(10)] for y in range(10)]\n",
        "gumbo_2D"
      ],
      "execution_count": 15,
      "outputs": [
        {
          "output_type": "execute_result",
          "data": {
            "text/plain": [
              "[[0, 1, 2, 3, 4, 5, 6, 7, 8, 9],\n",
              " [10, 11, 12, 13, 14, 15, 16, 17, 18, 19],\n",
              " [20, 21, 22, 23, 24, 25, 26, 27, 28, 29],\n",
              " [30, 31, 32, 33, 34, 35, 36, 37, 38, 39],\n",
              " [40, 41, 42, 43, 44, 45, 46, 47, 48, 49],\n",
              " [50, 51, 52, 53, 54, 55, 56, 57, 58, 59],\n",
              " [60, 61, 62, 63, 64, 65, 66, 67, 68, 69],\n",
              " [70, 71, 72, 73, 74, 75, 76, 77, 78, 79],\n",
              " [80, 81, 82, 83, 84, 85, 86, 87, 88, 89],\n",
              " [90, 91, 92, 93, 94, 95, 96, 97, 98, 99]]"
            ]
          },
          "metadata": {
            "tags": []
          },
          "execution_count": 15
        }
      ]
    },
    {
      "cell_type": "markdown",
      "metadata": {
        "id": "ZXTyOGf0YdGE",
        "colab_type": "text"
      },
      "source": [
        "## In Numpy"
      ]
    },
    {
      "cell_type": "code",
      "metadata": {
        "id": "WjUBReR-Yhfr",
        "colab_type": "code",
        "colab": {
          "base_uri": "https://localhost:8080/",
          "height": 119
        },
        "outputId": "1755aed4-5ae0-4e6a-cccb-f722f935ba67"
      },
      "source": [
        "## numpy is already imported, so don't need to repeat\n",
        "wonton = np.arange(100)\n",
        "wonton"
      ],
      "execution_count": 19,
      "outputs": [
        {
          "output_type": "execute_result",
          "data": {
            "text/plain": [
              "array([ 0,  1,  2,  3,  4,  5,  6,  7,  8,  9, 10, 11, 12, 13, 14, 15, 16,\n",
              "       17, 18, 19, 20, 21, 22, 23, 24, 25, 26, 27, 28, 29, 30, 31, 32, 33,\n",
              "       34, 35, 36, 37, 38, 39, 40, 41, 42, 43, 44, 45, 46, 47, 48, 49, 50,\n",
              "       51, 52, 53, 54, 55, 56, 57, 58, 59, 60, 61, 62, 63, 64, 65, 66, 67,\n",
              "       68, 69, 70, 71, 72, 73, 74, 75, 76, 77, 78, 79, 80, 81, 82, 83, 84,\n",
              "       85, 86, 87, 88, 89, 90, 91, 92, 93, 94, 95, 96, 97, 98, 99])"
            ]
          },
          "metadata": {
            "tags": []
          },
          "execution_count": 19
        }
      ]
    },
    {
      "cell_type": "code",
      "metadata": {
        "id": "0RKmI_UhY61V",
        "colab_type": "code",
        "colab": {
          "base_uri": "https://localhost:8080/",
          "height": 187
        },
        "outputId": "aa166457-d658-48a0-c57e-7931378da001"
      },
      "source": [
        "wonton.reshape([10,10])"
      ],
      "execution_count": 20,
      "outputs": [
        {
          "output_type": "execute_result",
          "data": {
            "text/plain": [
              "array([[ 0,  1,  2,  3,  4,  5,  6,  7,  8,  9],\n",
              "       [10, 11, 12, 13, 14, 15, 16, 17, 18, 19],\n",
              "       [20, 21, 22, 23, 24, 25, 26, 27, 28, 29],\n",
              "       [30, 31, 32, 33, 34, 35, 36, 37, 38, 39],\n",
              "       [40, 41, 42, 43, 44, 45, 46, 47, 48, 49],\n",
              "       [50, 51, 52, 53, 54, 55, 56, 57, 58, 59],\n",
              "       [60, 61, 62, 63, 64, 65, 66, 67, 68, 69],\n",
              "       [70, 71, 72, 73, 74, 75, 76, 77, 78, 79],\n",
              "       [80, 81, 82, 83, 84, 85, 86, 87, 88, 89],\n",
              "       [90, 91, 92, 93, 94, 95, 96, 97, 98, 99]])"
            ]
          },
          "metadata": {
            "tags": []
          },
          "execution_count": 20
        }
      ]
    },
    {
      "cell_type": "code",
      "metadata": {
        "id": "aDSpZDYsaTM9",
        "colab_type": "code",
        "colab": {
          "base_uri": "https://localhost:8080/",
          "height": 34
        },
        "outputId": "cda1af9c-3a66-498a-979d-fb2c60d3056a"
      },
      "source": [
        "wonton[3]"
      ],
      "execution_count": 21,
      "outputs": [
        {
          "output_type": "execute_result",
          "data": {
            "text/plain": [
              "3"
            ]
          },
          "metadata": {
            "tags": []
          },
          "execution_count": 21
        }
      ]
    },
    {
      "cell_type": "code",
      "metadata": {
        "id": "BLlqwlBIaYRC",
        "colab_type": "code",
        "colab": {
          "base_uri": "https://localhost:8080/",
          "height": 34
        },
        "outputId": "aefbc065-3cfd-45b4-e49c-ebcc81b0b188"
      },
      "source": [
        "gumbo_2D[7][2]"
      ],
      "execution_count": 26,
      "outputs": [
        {
          "output_type": "execute_result",
          "data": {
            "text/plain": [
              "72"
            ]
          },
          "metadata": {
            "tags": []
          },
          "execution_count": 26
        }
      ]
    },
    {
      "cell_type": "markdown",
      "metadata": {
        "id": "6tA2iE8Dbbeg",
        "colab_type": "text"
      },
      "source": [
        "## Comparing Numpy and Python\n",
        "### Speed"
      ]
    },
    {
      "cell_type": "code",
      "metadata": {
        "id": "ZKVjOpzIcXzE",
        "colab_type": "code",
        "colab": {
          "base_uri": "https://localhost:8080/",
          "height": 51
        },
        "outputId": "35f37d8c-6e7b-4997-80c5-74db8c95b696"
      },
      "source": [
        "%time pyT1 = [[x + y * 1000 for x in range(1000)] for y in range (1000)]"
      ],
      "execution_count": 28,
      "outputs": [
        {
          "output_type": "stream",
          "text": [
            "CPU times: user 97.5 ms, sys: 20.9 ms, total: 118 ms\n",
            "Wall time: 120 ms\n"
          ],
          "name": "stdout"
        }
      ]
    },
    {
      "cell_type": "code",
      "metadata": {
        "id": "7A-8XJFgc0-G",
        "colab_type": "code",
        "colab": {
          "base_uri": "https://localhost:8080/",
          "height": 51
        },
        "outputId": "07e8bd6b-cdb2-414e-e2e0-47b2cc478899"
      },
      "source": [
        "%time npT1 = np.arange(1000000).reshape((1000, 1000))"
      ],
      "execution_count": 30,
      "outputs": [
        {
          "output_type": "stream",
          "text": [
            "CPU times: user 2.81 ms, sys: 0 ns, total: 2.81 ms\n",
            "Wall time: 2.36 ms\n"
          ],
          "name": "stdout"
        }
      ]
    },
    {
      "cell_type": "markdown",
      "metadata": {
        "id": "P7yTddszdnyo",
        "colab_type": "text"
      },
      "source": [
        "## Add 1 to each element\n",
        "## Python"
      ]
    },
    {
      "cell_type": "code",
      "metadata": {
        "id": "hSoqaVtpdsf3",
        "colab_type": "code",
        "colab": {
          "base_uri": "https://localhost:8080/",
          "height": 51
        },
        "outputId": "04d01d9b-f9db-4213-d8e3-5e0a9f11ca7b"
      },
      "source": [
        "## this is a 2D array \n",
        "def add1():\n",
        "  for i in range(5):\n",
        "    for j in range(5):\n",
        "      pyT1[i][j] = pyT1[i][j] + 1\n",
        "      # print(pyT1[i][j])\n",
        "%time add1()\n"
      ],
      "execution_count": 42,
      "outputs": [
        {
          "output_type": "stream",
          "text": [
            "CPU times: user 46 µs, sys: 0 ns, total: 46 µs\n",
            "Wall time: 51 µs\n"
          ],
          "name": "stdout"
        }
      ]
    },
    {
      "cell_type": "code",
      "metadata": {
        "id": "OIbgdylHeYUB",
        "colab_type": "code",
        "colab": {
          "base_uri": "https://localhost:8080/",
          "height": 170
        },
        "outputId": "ea3320f9-b2f1-45a0-884c-f6d3aa99fd6b"
      },
      "source": [
        "%time npT1 + 1"
      ],
      "execution_count": 33,
      "outputs": [
        {
          "output_type": "stream",
          "text": [
            "CPU times: user 3.22 ms, sys: 3.08 ms, total: 6.3 ms\n",
            "Wall time: 8.27 ms\n"
          ],
          "name": "stdout"
        },
        {
          "output_type": "execute_result",
          "data": {
            "text/plain": [
              "array([[      1,       2,       3, ...,     998,     999,    1000],\n",
              "       [   1001,    1002,    1003, ...,    1998,    1999,    2000],\n",
              "       [   2001,    2002,    2003, ...,    2998,    2999,    3000],\n",
              "       ...,\n",
              "       [ 997001,  997002,  997003, ...,  997998,  997999,  998000],\n",
              "       [ 998001,  998002,  998003, ...,  998998,  998999,  999000],\n",
              "       [ 999001,  999002,  999003, ...,  999998,  999999, 1000000]])"
            ]
          },
          "metadata": {
            "tags": []
          },
          "execution_count": 33
        }
      ]
    },
    {
      "cell_type": "markdown",
      "metadata": {
        "id": "UdcKyDbDeocO",
        "colab_type": "text"
      },
      "source": [
        "## Numpy Functions"
      ]
    },
    {
      "cell_type": "code",
      "metadata": {
        "id": "76fDM18ReqFZ",
        "colab_type": "code",
        "colab": {
          "base_uri": "https://localhost:8080/",
          "height": 34
        },
        "outputId": "61d79f96-2bbc-42c8-9f09-b14baa5a7a09"
      },
      "source": [
        "npT1.sum()"
      ],
      "execution_count": 34,
      "outputs": [
        {
          "output_type": "execute_result",
          "data": {
            "text/plain": [
              "499999500000"
            ]
          },
          "metadata": {
            "tags": []
          },
          "execution_count": 34
        }
      ]
    }
  ]
}