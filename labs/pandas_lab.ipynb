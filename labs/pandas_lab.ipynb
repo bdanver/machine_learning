{
  "nbformat": 4,
  "nbformat_minor": 0,
  "metadata": {
    "anaconda-cloud": {},
    "kernelspec": {
      "display_name": "Python 3",
      "language": "python",
      "name": "python3"
    },
    "language_info": {
      "codemirror_mode": {
        "name": "ipython",
        "version": 3
      },
      "file_extension": ".py",
      "mimetype": "text/x-python",
      "name": "python",
      "nbconvert_exporter": "python",
      "pygments_lexer": "ipython3",
      "version": "3.8.3"
    },
    "colab": {
      "name": "pandas_lab.ipynb",
      "provenance": [],
      "collapsed_sections": [],
      "include_colab_link": true
    }
  },
  "cells": [
    {
      "cell_type": "markdown",
      "metadata": {
        "id": "view-in-github",
        "colab_type": "text"
      },
      "source": [
        "<a href=\"https://colab.research.google.com/github/bdanver/machine_learning/blob/master/labs/pandas_lab.ipynb\" target=\"_parent\"><img src=\"https://colab.research.google.com/assets/colab-badge.svg\" alt=\"Open In Colab\"/></a>"
      ]
    },
    {
      "cell_type": "markdown",
      "metadata": {
        "id": "Vou4I462VJjK",
        "colab_type": "text"
      },
      "source": [
        "# Intro to Pandas\n",
        "![](https://raw.githubusercontent.com/zacharski/ml-class/master/labs/pics/Pandas_logo.svg)\n",
        "\n",
        "(logo by [Marc Garcia](https://github.com/pandas-dev/pandas/blob/master/web/pandas/static/img/pandas.svg))\n",
        "\n",
        "The Pandas Library is built on top of Numpy and is designed to make working with data fast and easy. Like Numpy, the library includes data structures and functions to manipulate that data.\n",
        "\n",
        "As we learned in the Numpy Notebook, we need to load in the library before we can use it."
      ]
    },
    {
      "cell_type": "code",
      "metadata": {
        "id": "2b-uZoTRVJjL",
        "colab_type": "code",
        "colab": {}
      },
      "source": [
        "from pandas import Series, DataFrame\n",
        "import numpy as np\n",
        "import pandas as pd"
      ],
      "execution_count": 1,
      "outputs": []
    },
    {
      "cell_type": "markdown",
      "metadata": {
        "id": "hicgvDg6VJjQ",
        "colab_type": "text"
      },
      "source": [
        "Let's dissect the code above.\n",
        "\n",
        "The `Series` and `DataFrame` datatypes are commonly used so we import them directly with\n",
        "\n",
        "```\n",
        "from pandas import Series, DataFrame\n",
        "```\n",
        "\n",
        "For all other datatypes and functions in the library the `pd` prefix is commonly used so we import that with\n",
        "\n",
        "```\n",
        "import pandas as pd\n",
        "```\n",
        "\n",
        "## Series\n",
        "A series is a 1d array-like object\n",
        "\n",
        "Let's consider the heights (in cm) of Japan's Women's Basketball Team at the 2016 Olympics.      \n",
        "\n",
        "We can create a series in a number of ways.\n",
        "\n",
        "##### directly from a Python list"
      ]
    },
    {
      "cell_type": "code",
      "metadata": {
        "id": "erhr3THzVJjR",
        "colab_type": "code",
        "colab": {}
      },
      "source": [
        "japan = [173, 182, 185, 176, 183, 165, 191, 177, 165, 161, 175, 189]\n",
        "athletesHeight = Series(japan)"
      ],
      "execution_count": 2,
      "outputs": []
    },
    {
      "cell_type": "markdown",
      "metadata": {
        "id": "ZMmtpF1EVJjT",
        "colab_type": "text"
      },
      "source": [
        "We could also have done"
      ]
    },
    {
      "cell_type": "code",
      "metadata": {
        "id": "fRI654R4VJjU",
        "colab_type": "code",
        "colab": {}
      },
      "source": [
        "athletesHeight = Series([173, 182, 185, 176, 183, 165, 191, 177, 165, 161, 175, 189])"
      ],
      "execution_count": 3,
      "outputs": []
    },
    {
      "cell_type": "markdown",
      "metadata": {
        "id": "I7_sImz-VJjW",
        "colab_type": "text"
      },
      "source": [
        "In either case we can see the value of the Series athletesHeight"
      ]
    },
    {
      "cell_type": "code",
      "metadata": {
        "id": "gA_R308QVJjX",
        "colab_type": "code",
        "colab": {
          "base_uri": "https://localhost:8080/",
          "height": 238
        },
        "outputId": "2d7f5598-709b-4382-e23c-9085a667b1d8"
      },
      "source": [
        " athletesHeight"
      ],
      "execution_count": 4,
      "outputs": [
        {
          "output_type": "execute_result",
          "data": {
            "text/plain": [
              "0     173\n",
              "1     182\n",
              "2     185\n",
              "3     176\n",
              "4     183\n",
              "5     165\n",
              "6     191\n",
              "7     177\n",
              "8     165\n",
              "9     161\n",
              "10    175\n",
              "11    189\n",
              "dtype: int64"
            ]
          },
          "metadata": {
            "tags": []
          },
          "execution_count": 4
        }
      ]
    },
    {
      "cell_type": "markdown",
      "metadata": {
        "id": "qQPAOh1PVJja",
        "colab_type": "text"
      },
      "source": [
        "As like arrays you are familiar with, the left number is the index and the right the value. And we can find the value at a particular index by the usual:"
      ]
    },
    {
      "cell_type": "code",
      "metadata": {
        "id": "81QaEfO9VJjb",
        "colab_type": "code",
        "colab": {
          "base_uri": "https://localhost:8080/",
          "height": 34
        },
        "outputId": "6d56a17e-7d66-48e9-85fb-39f62525b8c4"
      },
      "source": [
        "athletesHeight[3]"
      ],
      "execution_count": 5,
      "outputs": [
        {
          "output_type": "execute_result",
          "data": {
            "text/plain": [
              "176"
            ]
          },
          "metadata": {
            "tags": []
          },
          "execution_count": 5
        }
      ]
    },
    {
      "cell_type": "markdown",
      "metadata": {
        "collapsed": true,
        "id": "WDxTROaUVJjd",
        "colab_type": "text"
      },
      "source": [
        "#### specifying indices\n",
        "Instead of the index 0, 1, 2, 3 ... you can specify your own index values. For example, we can label them 'Aiko'. 'Ayumi', \"Fujiko\" ... etc. "
      ]
    },
    {
      "cell_type": "code",
      "metadata": {
        "id": "r5hzcf47VJje",
        "colab_type": "code",
        "colab": {
          "base_uri": "https://localhost:8080/",
          "height": 238
        },
        "outputId": "e4d5ea9c-225b-4643-b7f6-e4cb5bf74f03"
      },
      "source": [
        "athletes2 = Series(japan, index = ['Aiko', 'Ayumi', 'Fujiko', 'Hiroko', 'Itsumi', 'Junko', 'Kanae','Kotori', 'Mieko', 'Momoko', 'Nao', 'Rei'])\n",
        "athletes2"
      ],
      "execution_count": 6,
      "outputs": [
        {
          "output_type": "execute_result",
          "data": {
            "text/plain": [
              "Aiko      173\n",
              "Ayumi     182\n",
              "Fujiko    185\n",
              "Hiroko    176\n",
              "Itsumi    183\n",
              "Junko     165\n",
              "Kanae     191\n",
              "Kotori    177\n",
              "Mieko     165\n",
              "Momoko    161\n",
              "Nao       175\n",
              "Rei       189\n",
              "dtype: int64"
            ]
          },
          "metadata": {
            "tags": []
          },
          "execution_count": 6
        }
      ]
    },
    {
      "cell_type": "markdown",
      "metadata": {
        "id": "dokWkeOQVJjh",
        "colab_type": "text"
      },
      "source": [
        "The names we see are not another column of the data. We can see the shape of athletes2 by:"
      ]
    },
    {
      "cell_type": "code",
      "metadata": {
        "id": "0joThaY9VJjh",
        "colab_type": "code",
        "colab": {
          "base_uri": "https://localhost:8080/",
          "height": 34
        },
        "outputId": "a9b89358-12b7-4e97-f91a-4e130f81486f"
      },
      "source": [
        "athletes2.shape"
      ],
      "execution_count": 7,
      "outputs": [
        {
          "output_type": "execute_result",
          "data": {
            "text/plain": [
              "(12,)"
            ]
          },
          "metadata": {
            "tags": []
          },
          "execution_count": 7
        }
      ]
    },
    {
      "cell_type": "markdown",
      "metadata": {
        "id": "pBK99EaTVJjn",
        "colab_type": "text"
      },
      "source": [
        "This shows that athletes2 is a one dimensional matrix and that dimension has a length of 12. So the names we see are not values in a column but rather the indices.\n",
        "\n",
        "\n",
        "Let's use the index to get the Height of Junko:"
      ]
    },
    {
      "cell_type": "code",
      "metadata": {
        "id": "0ZLd2fHeVJjn",
        "colab_type": "code",
        "colab": {
          "base_uri": "https://localhost:8080/",
          "height": 34
        },
        "outputId": "237c357a-5e49-41be-87a9-485ed94c6ee1"
      },
      "source": [
        "athletes2['Junko']"
      ],
      "execution_count": 8,
      "outputs": [
        {
          "output_type": "execute_result",
          "data": {
            "text/plain": [
              "165"
            ]
          },
          "metadata": {
            "tags": []
          },
          "execution_count": 8
        }
      ]
    },
    {
      "cell_type": "markdown",
      "metadata": {
        "id": "MmyHJUq7VJjr",
        "colab_type": "text"
      },
      "source": [
        "How would you get the height of Nao?\n"
      ]
    },
    {
      "cell_type": "code",
      "metadata": {
        "id": "BcDGkg2vVJjs",
        "colab_type": "code",
        "colab": {
          "base_uri": "https://localhost:8080/",
          "height": 34
        },
        "outputId": "c52cb72b-861d-4be7-ac1d-a4a8e083a195"
      },
      "source": [
        "athletes2['Nao']"
      ],
      "execution_count": 9,
      "outputs": [
        {
          "output_type": "execute_result",
          "data": {
            "text/plain": [
              "175"
            ]
          },
          "metadata": {
            "tags": []
          },
          "execution_count": 9
        }
      ]
    },
    {
      "cell_type": "markdown",
      "metadata": {
        "id": "0A1VnV3IVJjv",
        "colab_type": "text"
      },
      "source": [
        "\n",
        "## DataFrame\n",
        "DataFrames are the most important data structure of Pandas and are simply\n",
        "a table or spreadsheet like structure.  A DataFrame represents a table like:\n",
        "\n",
        "make | mpg | cylinders | HP | 0-60 \n",
        ":---- | :---: | :---: | :---: | :---: \n",
        "Fiat | 38 | 4 | 157   | 6.9 \n",
        "Ford F150 | 19 | 6 | 386 | 6.3 \n",
        "Mazda 3 | 37 | 4 | 155 |  7.5 \n",
        "Ford Escape | 27 | 4 | 245 | 7.1 \n",
        "Kia Soul | 31 | 4 | 164 | 8.5 \n",
        "\n",
        "A common way to create a DataFrame is to use a python dictionary as follows:"
      ]
    },
    {
      "cell_type": "code",
      "metadata": {
        "id": "pV8xgl5LVJjw",
        "colab_type": "code",
        "colab": {}
      },
      "source": [
        "cars = {'make': ['Fiat 500', 'Ford F-150', 'Mazda 3', 'Ford Escape', 'Kia Soul'],\n",
        "        'mpg': [38, 19, 37, 27, 31],\n",
        "        'cylinders': [4, 6, 4, 4, 4],\n",
        "        'HP': [157, 386, 155, 245, 164],\n",
        "        '0-60': [6.9, 6.3, 7.5, 7.1, 8.5]}\n"
      ],
      "execution_count": 10,
      "outputs": []
    },
    {
      "cell_type": "markdown",
      "metadata": {
        "id": "IypJZOegVJj1",
        "colab_type": "text"
      },
      "source": [
        "Just to check that you are paying attention, what is the code to show the MPG of a Ford F-150? (so `cars['make'][3]` will print out something, what will print out the MPG of a Ford F-150?"
      ]
    },
    {
      "cell_type": "code",
      "metadata": {
        "id": "z0-fyVqbVJj1",
        "colab_type": "code",
        "colab": {
          "base_uri": "https://localhost:8080/",
          "height": 34
        },
        "outputId": "5d420ee0-ff48-46be-f78a-55038b589f81"
      },
      "source": [
        "cars['mpg'][1]"
      ],
      "execution_count": 11,
      "outputs": [
        {
          "output_type": "execute_result",
          "data": {
            "text/plain": [
              "19"
            ]
          },
          "metadata": {
            "tags": []
          },
          "execution_count": 11
        }
      ]
    },
    {
      "cell_type": "markdown",
      "metadata": {
        "id": "vW0DD-KKVJj4",
        "colab_type": "text"
      },
      "source": [
        "and now we will create a DataFrame from the `cars` Python dictionary:"
      ]
    },
    {
      "cell_type": "code",
      "metadata": {
        "id": "bTkD60D9VJj5",
        "colab_type": "code",
        "colab": {
          "base_uri": "https://localhost:8080/",
          "height": 204
        },
        "outputId": "54cb99bb-b3eb-4b0d-e056-6056f1b75ea4"
      },
      "source": [
        "df = DataFrame(cars)\n",
        "df\n"
      ],
      "execution_count": 12,
      "outputs": [
        {
          "output_type": "execute_result",
          "data": {
            "text/html": [
              "<div>\n",
              "<style scoped>\n",
              "    .dataframe tbody tr th:only-of-type {\n",
              "        vertical-align: middle;\n",
              "    }\n",
              "\n",
              "    .dataframe tbody tr th {\n",
              "        vertical-align: top;\n",
              "    }\n",
              "\n",
              "    .dataframe thead th {\n",
              "        text-align: right;\n",
              "    }\n",
              "</style>\n",
              "<table border=\"1\" class=\"dataframe\">\n",
              "  <thead>\n",
              "    <tr style=\"text-align: right;\">\n",
              "      <th></th>\n",
              "      <th>make</th>\n",
              "      <th>mpg</th>\n",
              "      <th>cylinders</th>\n",
              "      <th>HP</th>\n",
              "      <th>0-60</th>\n",
              "    </tr>\n",
              "  </thead>\n",
              "  <tbody>\n",
              "    <tr>\n",
              "      <th>0</th>\n",
              "      <td>Fiat 500</td>\n",
              "      <td>38</td>\n",
              "      <td>4</td>\n",
              "      <td>157</td>\n",
              "      <td>6.9</td>\n",
              "    </tr>\n",
              "    <tr>\n",
              "      <th>1</th>\n",
              "      <td>Ford F-150</td>\n",
              "      <td>19</td>\n",
              "      <td>6</td>\n",
              "      <td>386</td>\n",
              "      <td>6.3</td>\n",
              "    </tr>\n",
              "    <tr>\n",
              "      <th>2</th>\n",
              "      <td>Mazda 3</td>\n",
              "      <td>37</td>\n",
              "      <td>4</td>\n",
              "      <td>155</td>\n",
              "      <td>7.5</td>\n",
              "    </tr>\n",
              "    <tr>\n",
              "      <th>3</th>\n",
              "      <td>Ford Escape</td>\n",
              "      <td>27</td>\n",
              "      <td>4</td>\n",
              "      <td>245</td>\n",
              "      <td>7.1</td>\n",
              "    </tr>\n",
              "    <tr>\n",
              "      <th>4</th>\n",
              "      <td>Kia Soul</td>\n",
              "      <td>31</td>\n",
              "      <td>4</td>\n",
              "      <td>164</td>\n",
              "      <td>8.5</td>\n",
              "    </tr>\n",
              "  </tbody>\n",
              "</table>\n",
              "</div>"
            ],
            "text/plain": [
              "          make  mpg  cylinders   HP  0-60\n",
              "0     Fiat 500   38          4  157   6.9\n",
              "1   Ford F-150   19          6  386   6.3\n",
              "2      Mazda 3   37          4  155   7.5\n",
              "3  Ford Escape   27          4  245   7.1\n",
              "4     Kia Soul   31          4  164   8.5"
            ]
          },
          "metadata": {
            "tags": []
          },
          "execution_count": 12
        }
      ]
    },
    {
      "cell_type": "markdown",
      "metadata": {
        "id": "UhKGEPk9VJj9",
        "colab_type": "text"
      },
      "source": [
        "Prior to my life with Pandas, I would represent a table like the above one as:"
      ]
    },
    {
      "cell_type": "code",
      "metadata": {
        "id": "SjS4KURdVJj9",
        "colab_type": "code",
        "colab": {
          "base_uri": "https://localhost:8080/",
          "height": 35
        },
        "outputId": "7945e8f5-77ac-4463-a639-090a947eb206"
      },
      "source": [
        "prePandas = [{'make': 'Fiat', 'mpg': 38, 'cylinders': 4, 'HP': 157, '0-60': 6.9},\n",
        "            {'make': 'Ford F-150', 'mpg': 19, 'cylinders': 6, 'HP': 386, '0-60': 6.3},\n",
        "            {'make': 'Mazda 3', 'mpg': 37, 'cylinders': 4, 'HP': 155, '0-60': 7.5},\n",
        "            {'make': 'Ford Escape', 'mpg': 27, 'cylinders': 4, 'HP': 245, '0-60': 7.1},\n",
        "            {'make': 'Kia Soul', 'mpg': 31, 'cylinders': 4, 'HP': 164, '0-60':8.5}]\n",
        "\n",
        "prePandas[0]['make']"
      ],
      "execution_count": 13,
      "outputs": [
        {
          "output_type": "execute_result",
          "data": {
            "application/vnd.google.colaboratory.intrinsic+json": {
              "type": "string"
            },
            "text/plain": [
              "'Fiat'"
            ]
          },
          "metadata": {
            "tags": []
          },
          "execution_count": 13
        }
      ]
    },
    {
      "cell_type": "markdown",
      "metadata": {
        "id": "jRliv843VJkA",
        "colab_type": "text"
      },
      "source": [
        "In the prePandas scheme the data is organized first by rows. That seemed logical to me since each row represents an object and is how we organize data in an SQL database. In the Pandas representation the data is organized by columns. \n",
        "\n",
        "Perhaps you noticed that the columns are displayed in alphabetically sorted order. If we want to specify a column order we can do so:\n",
        "\n",
        "\n"
      ]
    },
    {
      "cell_type": "code",
      "metadata": {
        "id": "36brUPG2VJkA",
        "colab_type": "code",
        "colab": {
          "base_uri": "https://localhost:8080/",
          "height": 204
        },
        "outputId": "fdf5b09f-d8b7-41d7-99e6-f10a31a837da"
      },
      "source": [
        "df2 = DataFrame(cars, columns=['make', 'mpg', 'cylinders', 'HP', '0-60' ])\n",
        "df2"
      ],
      "execution_count": 14,
      "outputs": [
        {
          "output_type": "execute_result",
          "data": {
            "text/html": [
              "<div>\n",
              "<style scoped>\n",
              "    .dataframe tbody tr th:only-of-type {\n",
              "        vertical-align: middle;\n",
              "    }\n",
              "\n",
              "    .dataframe tbody tr th {\n",
              "        vertical-align: top;\n",
              "    }\n",
              "\n",
              "    .dataframe thead th {\n",
              "        text-align: right;\n",
              "    }\n",
              "</style>\n",
              "<table border=\"1\" class=\"dataframe\">\n",
              "  <thead>\n",
              "    <tr style=\"text-align: right;\">\n",
              "      <th></th>\n",
              "      <th>make</th>\n",
              "      <th>mpg</th>\n",
              "      <th>cylinders</th>\n",
              "      <th>HP</th>\n",
              "      <th>0-60</th>\n",
              "    </tr>\n",
              "  </thead>\n",
              "  <tbody>\n",
              "    <tr>\n",
              "      <th>0</th>\n",
              "      <td>Fiat 500</td>\n",
              "      <td>38</td>\n",
              "      <td>4</td>\n",
              "      <td>157</td>\n",
              "      <td>6.9</td>\n",
              "    </tr>\n",
              "    <tr>\n",
              "      <th>1</th>\n",
              "      <td>Ford F-150</td>\n",
              "      <td>19</td>\n",
              "      <td>6</td>\n",
              "      <td>386</td>\n",
              "      <td>6.3</td>\n",
              "    </tr>\n",
              "    <tr>\n",
              "      <th>2</th>\n",
              "      <td>Mazda 3</td>\n",
              "      <td>37</td>\n",
              "      <td>4</td>\n",
              "      <td>155</td>\n",
              "      <td>7.5</td>\n",
              "    </tr>\n",
              "    <tr>\n",
              "      <th>3</th>\n",
              "      <td>Ford Escape</td>\n",
              "      <td>27</td>\n",
              "      <td>4</td>\n",
              "      <td>245</td>\n",
              "      <td>7.1</td>\n",
              "    </tr>\n",
              "    <tr>\n",
              "      <th>4</th>\n",
              "      <td>Kia Soul</td>\n",
              "      <td>31</td>\n",
              "      <td>4</td>\n",
              "      <td>164</td>\n",
              "      <td>8.5</td>\n",
              "    </tr>\n",
              "  </tbody>\n",
              "</table>\n",
              "</div>"
            ],
            "text/plain": [
              "          make  mpg  cylinders   HP  0-60\n",
              "0     Fiat 500   38          4  157   6.9\n",
              "1   Ford F-150   19          6  386   6.3\n",
              "2      Mazda 3   37          4  155   7.5\n",
              "3  Ford Escape   27          4  245   7.1\n",
              "4     Kia Soul   31          4  164   8.5"
            ]
          },
          "metadata": {
            "tags": []
          },
          "execution_count": 14
        }
      ]
    },
    {
      "cell_type": "markdown",
      "metadata": {
        "id": "7Hln9Rt-VJkD",
        "colab_type": "text"
      },
      "source": [
        "We can also create a DataFrame from a set of Series objects:"
      ]
    },
    {
      "cell_type": "code",
      "metadata": {
        "id": "QlnSRyOHVJkE",
        "colab_type": "code",
        "colab": {
          "base_uri": "https://localhost:8080/",
          "height": 204
        },
        "outputId": "d58008ce-4961-4eca-e3b6-8aef9f413f62"
      },
      "source": [
        "cars2 = {'make': Series(['Fiat 500', 'Ford F-150', 'Mazda 3', 'Ford Escape', 'Kia Soul']),\n",
        "        'mpg': Series([38, 19, 37, 27, 31]),\n",
        "        'cylinders': Series([4, 6, 4, 4, 4]),\n",
        "        'HP': [157, 386, 155, 245, 164],\n",
        "        '0-60': Series([6.9, 6.3, 7.5, 7.1, 8.5])}\n",
        "        \n",
        "df3 = DataFrame(cars2)\n",
        "df3"
      ],
      "execution_count": 15,
      "outputs": [
        {
          "output_type": "execute_result",
          "data": {
            "text/html": [
              "<div>\n",
              "<style scoped>\n",
              "    .dataframe tbody tr th:only-of-type {\n",
              "        vertical-align: middle;\n",
              "    }\n",
              "\n",
              "    .dataframe tbody tr th {\n",
              "        vertical-align: top;\n",
              "    }\n",
              "\n",
              "    .dataframe thead th {\n",
              "        text-align: right;\n",
              "    }\n",
              "</style>\n",
              "<table border=\"1\" class=\"dataframe\">\n",
              "  <thead>\n",
              "    <tr style=\"text-align: right;\">\n",
              "      <th></th>\n",
              "      <th>make</th>\n",
              "      <th>mpg</th>\n",
              "      <th>cylinders</th>\n",
              "      <th>HP</th>\n",
              "      <th>0-60</th>\n",
              "    </tr>\n",
              "  </thead>\n",
              "  <tbody>\n",
              "    <tr>\n",
              "      <th>0</th>\n",
              "      <td>Fiat 500</td>\n",
              "      <td>38</td>\n",
              "      <td>4</td>\n",
              "      <td>157</td>\n",
              "      <td>6.9</td>\n",
              "    </tr>\n",
              "    <tr>\n",
              "      <th>1</th>\n",
              "      <td>Ford F-150</td>\n",
              "      <td>19</td>\n",
              "      <td>6</td>\n",
              "      <td>386</td>\n",
              "      <td>6.3</td>\n",
              "    </tr>\n",
              "    <tr>\n",
              "      <th>2</th>\n",
              "      <td>Mazda 3</td>\n",
              "      <td>37</td>\n",
              "      <td>4</td>\n",
              "      <td>155</td>\n",
              "      <td>7.5</td>\n",
              "    </tr>\n",
              "    <tr>\n",
              "      <th>3</th>\n",
              "      <td>Ford Escape</td>\n",
              "      <td>27</td>\n",
              "      <td>4</td>\n",
              "      <td>245</td>\n",
              "      <td>7.1</td>\n",
              "    </tr>\n",
              "    <tr>\n",
              "      <th>4</th>\n",
              "      <td>Kia Soul</td>\n",
              "      <td>31</td>\n",
              "      <td>4</td>\n",
              "      <td>164</td>\n",
              "      <td>8.5</td>\n",
              "    </tr>\n",
              "  </tbody>\n",
              "</table>\n",
              "</div>"
            ],
            "text/plain": [
              "          make  mpg  cylinders   HP  0-60\n",
              "0     Fiat 500   38          4  157   6.9\n",
              "1   Ford F-150   19          6  386   6.3\n",
              "2      Mazda 3   37          4  155   7.5\n",
              "3  Ford Escape   27          4  245   7.1\n",
              "4     Kia Soul   31          4  164   8.5"
            ]
          },
          "metadata": {
            "tags": []
          },
          "execution_count": 15
        }
      ]
    },
    {
      "cell_type": "markdown",
      "metadata": {
        "id": "1VYLh3V2VJkG",
        "colab_type": "text"
      },
      "source": [
        "<h3 style=\"color:red\">Q1. You Try</h3>\n",
        "<span style=\"color:red\">Make a DataFrame representing the data in the following table:</span>\n",
        "\n",
        "Athlete | Sport | Height | Weight \n",
        "----: | :---: | :---: | :---:\n",
        "Aly Raisman |\tGymnastics | \t62 | 115\n",
        "Crystal Langhorne |\tBasketball |\t74 |\t190\n",
        "Diana Taurasi\t| Basketball\t| 72\t| 163\n",
        "Paula Radcliffe\t| Track\t| 68 |\t120\n",
        "Simone Biles | Gymnastics | 57 | 104\n",
        "Madison Kocian | Gymnastics |62 | 101\n",
        "Amy Cragg |Track | 64 | 99\n"
      ]
    },
    {
      "cell_type": "code",
      "metadata": {
        "colab_type": "code",
        "id": "1_dMBLjOs3Kk",
        "colab": {
          "base_uri": "https://localhost:8080/",
          "height": 266
        },
        "outputId": "b7105b94-2efe-4071-bba6-64c7c1d7fba2"
      },
      "source": [
        "athletes = {'athlete': ['Aly Raisman', 'Crystal Langhorne', 'Diana Taurasi', 'Paula Radcliffe', 'Simone Biles', 'Madison Kocian', 'Amy Cragg '],\n",
        "        'sport': ['Gymnastics', 'Basketball', 'Basketball', 'Track', 'Gymnastics', 'Gymnastics', 'Track'],\n",
        "        'height': [62, 74, 72, 68, 57, 62, 64],\n",
        "        'weight': [115, 190, 163, 120, 104, 101, 99]}\n",
        "dataframe = DataFrame(athletes)\n",
        "dataframe"
      ],
      "execution_count": 16,
      "outputs": [
        {
          "output_type": "execute_result",
          "data": {
            "text/html": [
              "<div>\n",
              "<style scoped>\n",
              "    .dataframe tbody tr th:only-of-type {\n",
              "        vertical-align: middle;\n",
              "    }\n",
              "\n",
              "    .dataframe tbody tr th {\n",
              "        vertical-align: top;\n",
              "    }\n",
              "\n",
              "    .dataframe thead th {\n",
              "        text-align: right;\n",
              "    }\n",
              "</style>\n",
              "<table border=\"1\" class=\"dataframe\">\n",
              "  <thead>\n",
              "    <tr style=\"text-align: right;\">\n",
              "      <th></th>\n",
              "      <th>athlete</th>\n",
              "      <th>sport</th>\n",
              "      <th>height</th>\n",
              "      <th>weight</th>\n",
              "    </tr>\n",
              "  </thead>\n",
              "  <tbody>\n",
              "    <tr>\n",
              "      <th>0</th>\n",
              "      <td>Aly Raisman</td>\n",
              "      <td>Gymnastics</td>\n",
              "      <td>62</td>\n",
              "      <td>115</td>\n",
              "    </tr>\n",
              "    <tr>\n",
              "      <th>1</th>\n",
              "      <td>Crystal Langhorne</td>\n",
              "      <td>Basketball</td>\n",
              "      <td>74</td>\n",
              "      <td>190</td>\n",
              "    </tr>\n",
              "    <tr>\n",
              "      <th>2</th>\n",
              "      <td>Diana Taurasi</td>\n",
              "      <td>Basketball</td>\n",
              "      <td>72</td>\n",
              "      <td>163</td>\n",
              "    </tr>\n",
              "    <tr>\n",
              "      <th>3</th>\n",
              "      <td>Paula Radcliffe</td>\n",
              "      <td>Track</td>\n",
              "      <td>68</td>\n",
              "      <td>120</td>\n",
              "    </tr>\n",
              "    <tr>\n",
              "      <th>4</th>\n",
              "      <td>Simone Biles</td>\n",
              "      <td>Gymnastics</td>\n",
              "      <td>57</td>\n",
              "      <td>104</td>\n",
              "    </tr>\n",
              "    <tr>\n",
              "      <th>5</th>\n",
              "      <td>Madison Kocian</td>\n",
              "      <td>Gymnastics</td>\n",
              "      <td>62</td>\n",
              "      <td>101</td>\n",
              "    </tr>\n",
              "    <tr>\n",
              "      <th>6</th>\n",
              "      <td>Amy Cragg</td>\n",
              "      <td>Track</td>\n",
              "      <td>64</td>\n",
              "      <td>99</td>\n",
              "    </tr>\n",
              "  </tbody>\n",
              "</table>\n",
              "</div>"
            ],
            "text/plain": [
              "             athlete       sport  height  weight\n",
              "0        Aly Raisman  Gymnastics      62     115\n",
              "1  Crystal Langhorne  Basketball      74     190\n",
              "2      Diana Taurasi  Basketball      72     163\n",
              "3    Paula Radcliffe       Track      68     120\n",
              "4       Simone Biles  Gymnastics      57     104\n",
              "5     Madison Kocian  Gymnastics      62     101\n",
              "6         Amy Cragg        Track      64      99"
            ]
          },
          "metadata": {
            "tags": []
          },
          "execution_count": 16
        }
      ]
    },
    {
      "cell_type": "markdown",
      "metadata": {
        "id": "z3DfCur7VJkK",
        "colab_type": "text"
      },
      "source": [
        "## reading data from different sources.\n",
        "### csv file:\n",
        "We can create a DataFrame from a CSV file (comma separated values), which is a common format for datasets. \n",
        "\n",
        "\n",
        "We use the `pd.read_csv` function to do so.  `pd.read_csv` can read a csv file from either your local machine or the web. Let's start with the web.\n",
        "\n",
        "#### Reading a CSV file from the web.\n",
        "To read a file from the web, we simply provide a URL:\n"
      ]
    },
    {
      "cell_type": "code",
      "metadata": {
        "id": "4a8QdMWQVJkK",
        "colab_type": "code",
        "colab": {
          "base_uri": "https://localhost:8080/",
          "height": 917
        },
        "outputId": "680da081-5f95-4723-9905-7ea267ceac66"
      },
      "source": [
        "df4 = pd.read_csv('https://raw.githubusercontent.com/zacharski/ml-class/master/data/athletes.csv')\n",
        "df4"
      ],
      "execution_count": 17,
      "outputs": [
        {
          "output_type": "execute_result",
          "data": {
            "text/html": [
              "<div>\n",
              "<style scoped>\n",
              "    .dataframe tbody tr th:only-of-type {\n",
              "        vertical-align: middle;\n",
              "    }\n",
              "\n",
              "    .dataframe tbody tr th {\n",
              "        vertical-align: top;\n",
              "    }\n",
              "\n",
              "    .dataframe thead th {\n",
              "        text-align: right;\n",
              "    }\n",
              "</style>\n",
              "<table border=\"1\" class=\"dataframe\">\n",
              "  <thead>\n",
              "    <tr style=\"text-align: right;\">\n",
              "      <th></th>\n",
              "      <th>Name</th>\n",
              "      <th>Sport</th>\n",
              "      <th>Height</th>\n",
              "      <th>Weight</th>\n",
              "    </tr>\n",
              "  </thead>\n",
              "  <tbody>\n",
              "    <tr>\n",
              "      <th>0</th>\n",
              "      <td>Asuka Teramoto</td>\n",
              "      <td>Gymnastics</td>\n",
              "      <td>54</td>\n",
              "      <td>66</td>\n",
              "    </tr>\n",
              "    <tr>\n",
              "      <th>1</th>\n",
              "      <td>Brittainey Raven</td>\n",
              "      <td>Basketball</td>\n",
              "      <td>72</td>\n",
              "      <td>162</td>\n",
              "    </tr>\n",
              "    <tr>\n",
              "      <th>2</th>\n",
              "      <td>Chen Nan</td>\n",
              "      <td>Basketball</td>\n",
              "      <td>78</td>\n",
              "      <td>204</td>\n",
              "    </tr>\n",
              "    <tr>\n",
              "      <th>3</th>\n",
              "      <td>Gabby Douglas</td>\n",
              "      <td>Gymnastics</td>\n",
              "      <td>49</td>\n",
              "      <td>90</td>\n",
              "    </tr>\n",
              "    <tr>\n",
              "      <th>4</th>\n",
              "      <td>Helalia Johannes</td>\n",
              "      <td>Track</td>\n",
              "      <td>65</td>\n",
              "      <td>99</td>\n",
              "    </tr>\n",
              "    <tr>\n",
              "      <th>5</th>\n",
              "      <td>Irina Miketenko</td>\n",
              "      <td>Track</td>\n",
              "      <td>63</td>\n",
              "      <td>106</td>\n",
              "    </tr>\n",
              "    <tr>\n",
              "      <th>6</th>\n",
              "      <td>Jennifer Lacy</td>\n",
              "      <td>Basketball</td>\n",
              "      <td>75</td>\n",
              "      <td>175</td>\n",
              "    </tr>\n",
              "    <tr>\n",
              "      <th>7</th>\n",
              "      <td>Kara Goucher</td>\n",
              "      <td>Track</td>\n",
              "      <td>67</td>\n",
              "      <td>123</td>\n",
              "    </tr>\n",
              "    <tr>\n",
              "      <th>8</th>\n",
              "      <td>Linlin Deng</td>\n",
              "      <td>Gymnastics</td>\n",
              "      <td>54</td>\n",
              "      <td>68</td>\n",
              "    </tr>\n",
              "    <tr>\n",
              "      <th>9</th>\n",
              "      <td>Nakia Sanford</td>\n",
              "      <td>Basketball</td>\n",
              "      <td>76</td>\n",
              "      <td>200</td>\n",
              "    </tr>\n",
              "    <tr>\n",
              "      <th>10</th>\n",
              "      <td>Nikki Blue</td>\n",
              "      <td>Basketball</td>\n",
              "      <td>68</td>\n",
              "      <td>163</td>\n",
              "    </tr>\n",
              "    <tr>\n",
              "      <th>11</th>\n",
              "      <td>Qiushuang Huang</td>\n",
              "      <td>Gymnastics</td>\n",
              "      <td>61</td>\n",
              "      <td>95</td>\n",
              "    </tr>\n",
              "    <tr>\n",
              "      <th>12</th>\n",
              "      <td>Rebecca Tunney</td>\n",
              "      <td>Gymnastics</td>\n",
              "      <td>58</td>\n",
              "      <td>77</td>\n",
              "    </tr>\n",
              "    <tr>\n",
              "      <th>13</th>\n",
              "      <td>Rene Kalmer</td>\n",
              "      <td>Track</td>\n",
              "      <td>70</td>\n",
              "      <td>108</td>\n",
              "    </tr>\n",
              "    <tr>\n",
              "      <th>14</th>\n",
              "      <td>Shanna Crossley</td>\n",
              "      <td>Basketball</td>\n",
              "      <td>70</td>\n",
              "      <td>155</td>\n",
              "    </tr>\n",
              "    <tr>\n",
              "      <th>15</th>\n",
              "      <td>Shavonte Zellous</td>\n",
              "      <td>Basketball</td>\n",
              "      <td>70</td>\n",
              "      <td>155</td>\n",
              "    </tr>\n",
              "    <tr>\n",
              "      <th>16</th>\n",
              "      <td>Tatyana Petrova</td>\n",
              "      <td>Track</td>\n",
              "      <td>63</td>\n",
              "      <td>108</td>\n",
              "    </tr>\n",
              "    <tr>\n",
              "      <th>17</th>\n",
              "      <td>Tiki Gelana</td>\n",
              "      <td>Track</td>\n",
              "      <td>65</td>\n",
              "      <td>106</td>\n",
              "    </tr>\n",
              "    <tr>\n",
              "      <th>18</th>\n",
              "      <td>Valeria Straneo</td>\n",
              "      <td>Track</td>\n",
              "      <td>66</td>\n",
              "      <td>97</td>\n",
              "    </tr>\n",
              "    <tr>\n",
              "      <th>19</th>\n",
              "      <td>Viktoria Komova</td>\n",
              "      <td>Gymnastics</td>\n",
              "      <td>61</td>\n",
              "      <td>76</td>\n",
              "    </tr>\n",
              "    <tr>\n",
              "      <th>20</th>\n",
              "      <td>Amy Cragg</td>\n",
              "      <td>Track</td>\n",
              "      <td>64</td>\n",
              "      <td>99</td>\n",
              "    </tr>\n",
              "    <tr>\n",
              "      <th>21</th>\n",
              "      <td>Simone Biles</td>\n",
              "      <td>Gymnastics</td>\n",
              "      <td>57</td>\n",
              "      <td>104</td>\n",
              "    </tr>\n",
              "    <tr>\n",
              "      <th>22</th>\n",
              "      <td>Madison Kocian</td>\n",
              "      <td>Gymnastics</td>\n",
              "      <td>62</td>\n",
              "      <td>101</td>\n",
              "    </tr>\n",
              "    <tr>\n",
              "      <th>23</th>\n",
              "      <td>Elena Delle Donne</td>\n",
              "      <td>Basketball</td>\n",
              "      <td>77</td>\n",
              "      <td>188</td>\n",
              "    </tr>\n",
              "    <tr>\n",
              "      <th>24</th>\n",
              "      <td>Seimone Augustus</td>\n",
              "      <td>Basketball</td>\n",
              "      <td>72</td>\n",
              "      <td>166</td>\n",
              "    </tr>\n",
              "    <tr>\n",
              "      <th>25</th>\n",
              "      <td>Desiree Linden</td>\n",
              "      <td>Track</td>\n",
              "      <td>61</td>\n",
              "      <td>97</td>\n",
              "    </tr>\n",
              "    <tr>\n",
              "      <th>26</th>\n",
              "      <td>Shalane Flanagan</td>\n",
              "      <td>Track</td>\n",
              "      <td>65</td>\n",
              "      <td>106</td>\n",
              "    </tr>\n",
              "    <tr>\n",
              "      <th>27</th>\n",
              "      <td>Laurie Hernandez</td>\n",
              "      <td>Gymnastics</td>\n",
              "      <td>60</td>\n",
              "      <td>106</td>\n",
              "    </tr>\n",
              "  </tbody>\n",
              "</table>\n",
              "</div>"
            ],
            "text/plain": [
              "                 Name       Sport  Height  Weight\n",
              "0      Asuka Teramoto  Gymnastics      54      66\n",
              "1    Brittainey Raven  Basketball      72     162\n",
              "2            Chen Nan  Basketball      78     204\n",
              "3       Gabby Douglas  Gymnastics      49      90\n",
              "4    Helalia Johannes       Track      65      99\n",
              "5     Irina Miketenko       Track      63     106\n",
              "6       Jennifer Lacy  Basketball      75     175\n",
              "7        Kara Goucher       Track      67     123\n",
              "8         Linlin Deng  Gymnastics      54      68\n",
              "9       Nakia Sanford  Basketball      76     200\n",
              "10         Nikki Blue  Basketball      68     163\n",
              "11    Qiushuang Huang  Gymnastics      61      95\n",
              "12     Rebecca Tunney  Gymnastics      58      77\n",
              "13        Rene Kalmer       Track      70     108\n",
              "14    Shanna Crossley  Basketball      70     155\n",
              "15   Shavonte Zellous  Basketball      70     155\n",
              "16    Tatyana Petrova       Track      63     108\n",
              "17        Tiki Gelana       Track      65     106\n",
              "18    Valeria Straneo       Track      66      97\n",
              "19    Viktoria Komova  Gymnastics      61      76\n",
              "20          Amy Cragg       Track      64      99\n",
              "21       Simone Biles  Gymnastics      57     104\n",
              "22     Madison Kocian  Gymnastics      62     101\n",
              "23  Elena Delle Donne  Basketball      77     188\n",
              "24   Seimone Augustus  Basketball      72     166\n",
              "25     Desiree Linden       Track      61      97\n",
              "26   Shalane Flanagan       Track      65     106\n",
              "27   Laurie Hernandez  Gymnastics      60     106"
            ]
          },
          "metadata": {
            "tags": []
          },
          "execution_count": 17
        }
      ]
    },
    {
      "cell_type": "markdown",
      "metadata": {
        "id": "kGyrU74iVJkM",
        "colab_type": "text"
      },
      "source": [
        "Sometimes the csv file has a header row as was the case in the example above. That file starts\n",
        "\n",
        "    Name,Sport,Height,Weight\n",
        "    Asuka Teramoto,Gymnastics,54,66\n",
        "    Brittainey Raven,Basketball,72,162\n",
        "    Chen Nan,Basketball,78,204\n",
        "    Gabby Douglas,Gymnastics,49,90\n",
        "    \n",
        "\n"
      ]
    },
    {
      "cell_type": "code",
      "metadata": {
        "id": "ek6jCq5wVJkN",
        "colab_type": "code",
        "colab": {
          "base_uri": "https://localhost:8080/",
          "height": 510
        },
        "outputId": "19cea737-bc7d-4065-db3d-87c024e395c0"
      },
      "source": [
        "!curl https://raw.githubusercontent.com/zacharski/ml-class/master/data/athletes.csv"
      ],
      "execution_count": 18,
      "outputs": [
        {
          "output_type": "stream",
          "text": [
            "Name,Sport,Height,Weight\n",
            "Asuka Teramoto,Gymnastics,54,66\n",
            "Brittainey Raven,Basketball,72,162\n",
            "Chen Nan,Basketball,78,204\n",
            "Gabby Douglas,Gymnastics,49,90\n",
            "Helalia Johannes,Track,65,99\n",
            "Irina Miketenko,Track,63,106\n",
            "Jennifer Lacy,Basketball,75,175\n",
            "Kara Goucher,Track,67,123\n",
            "Linlin Deng,Gymnastics,54,68\n",
            "Nakia Sanford,Basketball,76,200\n",
            "Nikki Blue,Basketball,68,163\n",
            "Qiushuang Huang,Gymnastics,61,95\n",
            "Rebecca Tunney,Gymnastics,58,77\n",
            "Rene Kalmer,Track,70,108\n",
            "Shanna Crossley,Basketball,70,155\n",
            "Shavonte Zellous,Basketball,70,155\n",
            "Tatyana Petrova,Track,63,108\n",
            "Tiki Gelana,Track,65,106\n",
            "Valeria Straneo,Track,66,97\n",
            "Viktoria Komova,Gymnastics,61,76\n",
            "Amy Cragg,Track,64,99\n",
            "Simone Biles,Gymnastics,57,104\n",
            "Madison Kocian,Gymnastics,62,101\n",
            "Elena Delle Donne,Basketball,77,188\n",
            "Seimone Augustus,Basketball,72,166\n",
            "Desiree Linden,Track,61,97\n",
            "Shalane Flanagan,Track,65,106\n",
            "Laurie Hernandez,Gymnastics,60,106"
          ],
          "name": "stdout"
        }
      ]
    },
    {
      "cell_type": "markdown",
      "metadata": {
        "id": "tOyIG1nqVJkP",
        "colab_type": "text"
      },
      "source": [
        "As you can see we can preface any Unix command with a bang (!) to have it execute in our Notebook.  This is amazingly handy:\n",
        "\n"
      ]
    },
    {
      "cell_type": "code",
      "metadata": {
        "id": "hLMnnLmWVJkP",
        "colab_type": "code",
        "colab": {
          "base_uri": "https://localhost:8080/",
          "height": 34
        },
        "outputId": "df75974d-8bac-4cc9-a694-b71618c44b76"
      },
      "source": [
        "!ls"
      ],
      "execution_count": 19,
      "outputs": [
        {
          "output_type": "stream",
          "text": [
            "sample_data\n"
          ],
          "name": "stdout"
        }
      ]
    },
    {
      "cell_type": "code",
      "metadata": {
        "id": "cKvzFrRDVJkR",
        "colab_type": "code",
        "colab": {
          "base_uri": "https://localhost:8080/",
          "height": 34
        },
        "outputId": "0599e11f-431e-471a-a325-6e246adcd0cb"
      },
      "source": [
        "!pwd"
      ],
      "execution_count": 20,
      "outputs": [
        {
          "output_type": "stream",
          "text": [
            "/content\n"
          ],
          "name": "stdout"
        }
      ]
    },
    {
      "cell_type": "markdown",
      "metadata": {
        "id": "4g0LXm0cVJkU",
        "colab_type": "text"
      },
      "source": [
        "Back to Pandas.\n",
        "\n",
        "Sometimes the csv file does not have a header row. So for example, a csv file might have the contents:\n",
        "\n",
        "Asuka Teramoto,Gymnastics,54,66\n",
        "Brittainey Raven,Basketball,72,162\n",
        "Chen Nan,Basketball,78,204\n",
        "Gabby Douglas,Gymnastics,49,90\n",
        "In that case you specify the names of the columns using the names attribute:"
      ]
    },
    {
      "cell_type": "code",
      "metadata": {
        "id": "I3Y4rZtHVJkU",
        "colab_type": "code",
        "colab": {
          "base_uri": "https://localhost:8080/",
          "height": 917
        },
        "outputId": "4ea9dd84-98b3-4d8c-b420-efc84efcce31"
      },
      "source": [
        "athletes = pd.read_csv('https://raw.githubusercontent.com/zacharski/ml-class/master/data/athletesNoHeader.csv', names=['Name', 'Sport', 'Height', 'Weight'])\n",
        "athletes"
      ],
      "execution_count": 21,
      "outputs": [
        {
          "output_type": "execute_result",
          "data": {
            "text/html": [
              "<div>\n",
              "<style scoped>\n",
              "    .dataframe tbody tr th:only-of-type {\n",
              "        vertical-align: middle;\n",
              "    }\n",
              "\n",
              "    .dataframe tbody tr th {\n",
              "        vertical-align: top;\n",
              "    }\n",
              "\n",
              "    .dataframe thead th {\n",
              "        text-align: right;\n",
              "    }\n",
              "</style>\n",
              "<table border=\"1\" class=\"dataframe\">\n",
              "  <thead>\n",
              "    <tr style=\"text-align: right;\">\n",
              "      <th></th>\n",
              "      <th>Name</th>\n",
              "      <th>Sport</th>\n",
              "      <th>Height</th>\n",
              "      <th>Weight</th>\n",
              "    </tr>\n",
              "  </thead>\n",
              "  <tbody>\n",
              "    <tr>\n",
              "      <th>0</th>\n",
              "      <td>Asuka Teramoto</td>\n",
              "      <td>Gymnastics</td>\n",
              "      <td>54</td>\n",
              "      <td>66</td>\n",
              "    </tr>\n",
              "    <tr>\n",
              "      <th>1</th>\n",
              "      <td>Brittainey Raven</td>\n",
              "      <td>Basketball</td>\n",
              "      <td>72</td>\n",
              "      <td>162</td>\n",
              "    </tr>\n",
              "    <tr>\n",
              "      <th>2</th>\n",
              "      <td>Chen Nan</td>\n",
              "      <td>Basketball</td>\n",
              "      <td>78</td>\n",
              "      <td>204</td>\n",
              "    </tr>\n",
              "    <tr>\n",
              "      <th>3</th>\n",
              "      <td>Gabby Douglas</td>\n",
              "      <td>Gymnastics</td>\n",
              "      <td>49</td>\n",
              "      <td>90</td>\n",
              "    </tr>\n",
              "    <tr>\n",
              "      <th>4</th>\n",
              "      <td>Helalia Johannes</td>\n",
              "      <td>Track</td>\n",
              "      <td>65</td>\n",
              "      <td>99</td>\n",
              "    </tr>\n",
              "    <tr>\n",
              "      <th>5</th>\n",
              "      <td>Irina Miketenko</td>\n",
              "      <td>Track</td>\n",
              "      <td>63</td>\n",
              "      <td>106</td>\n",
              "    </tr>\n",
              "    <tr>\n",
              "      <th>6</th>\n",
              "      <td>Jennifer Lacy</td>\n",
              "      <td>Basketball</td>\n",
              "      <td>75</td>\n",
              "      <td>175</td>\n",
              "    </tr>\n",
              "    <tr>\n",
              "      <th>7</th>\n",
              "      <td>Kara Goucher</td>\n",
              "      <td>Track</td>\n",
              "      <td>67</td>\n",
              "      <td>123</td>\n",
              "    </tr>\n",
              "    <tr>\n",
              "      <th>8</th>\n",
              "      <td>Linlin Deng</td>\n",
              "      <td>Gymnastics</td>\n",
              "      <td>54</td>\n",
              "      <td>68</td>\n",
              "    </tr>\n",
              "    <tr>\n",
              "      <th>9</th>\n",
              "      <td>Nakia Sanford</td>\n",
              "      <td>Basketball</td>\n",
              "      <td>76</td>\n",
              "      <td>200</td>\n",
              "    </tr>\n",
              "    <tr>\n",
              "      <th>10</th>\n",
              "      <td>Nikki Blue</td>\n",
              "      <td>Basketball</td>\n",
              "      <td>68</td>\n",
              "      <td>163</td>\n",
              "    </tr>\n",
              "    <tr>\n",
              "      <th>11</th>\n",
              "      <td>Qiushuang Huang</td>\n",
              "      <td>Gymnastics</td>\n",
              "      <td>61</td>\n",
              "      <td>95</td>\n",
              "    </tr>\n",
              "    <tr>\n",
              "      <th>12</th>\n",
              "      <td>Rebecca Tunney</td>\n",
              "      <td>Gymnastics</td>\n",
              "      <td>58</td>\n",
              "      <td>77</td>\n",
              "    </tr>\n",
              "    <tr>\n",
              "      <th>13</th>\n",
              "      <td>Rene Kalmer</td>\n",
              "      <td>Track</td>\n",
              "      <td>70</td>\n",
              "      <td>108</td>\n",
              "    </tr>\n",
              "    <tr>\n",
              "      <th>14</th>\n",
              "      <td>Shanna Crossley</td>\n",
              "      <td>Basketball</td>\n",
              "      <td>70</td>\n",
              "      <td>155</td>\n",
              "    </tr>\n",
              "    <tr>\n",
              "      <th>15</th>\n",
              "      <td>Shavonte Zellous</td>\n",
              "      <td>Basketball</td>\n",
              "      <td>70</td>\n",
              "      <td>155</td>\n",
              "    </tr>\n",
              "    <tr>\n",
              "      <th>16</th>\n",
              "      <td>Tatyana Petrova</td>\n",
              "      <td>Track</td>\n",
              "      <td>63</td>\n",
              "      <td>108</td>\n",
              "    </tr>\n",
              "    <tr>\n",
              "      <th>17</th>\n",
              "      <td>Tiki Gelana</td>\n",
              "      <td>Track</td>\n",
              "      <td>65</td>\n",
              "      <td>106</td>\n",
              "    </tr>\n",
              "    <tr>\n",
              "      <th>18</th>\n",
              "      <td>Valeria Straneo</td>\n",
              "      <td>Track</td>\n",
              "      <td>66</td>\n",
              "      <td>97</td>\n",
              "    </tr>\n",
              "    <tr>\n",
              "      <th>19</th>\n",
              "      <td>Viktoria Komova</td>\n",
              "      <td>Gymnastics</td>\n",
              "      <td>61</td>\n",
              "      <td>76</td>\n",
              "    </tr>\n",
              "    <tr>\n",
              "      <th>20</th>\n",
              "      <td>Amy Cragg</td>\n",
              "      <td>Track</td>\n",
              "      <td>64</td>\n",
              "      <td>99</td>\n",
              "    </tr>\n",
              "    <tr>\n",
              "      <th>21</th>\n",
              "      <td>Simone Biles</td>\n",
              "      <td>Gymnastics</td>\n",
              "      <td>57</td>\n",
              "      <td>104</td>\n",
              "    </tr>\n",
              "    <tr>\n",
              "      <th>22</th>\n",
              "      <td>Madison Kocian</td>\n",
              "      <td>Gymnastics</td>\n",
              "      <td>62</td>\n",
              "      <td>101</td>\n",
              "    </tr>\n",
              "    <tr>\n",
              "      <th>23</th>\n",
              "      <td>Elena Delle Donne</td>\n",
              "      <td>Basketball</td>\n",
              "      <td>77</td>\n",
              "      <td>188</td>\n",
              "    </tr>\n",
              "    <tr>\n",
              "      <th>24</th>\n",
              "      <td>Seimone Augustus</td>\n",
              "      <td>Basketball</td>\n",
              "      <td>72</td>\n",
              "      <td>166</td>\n",
              "    </tr>\n",
              "    <tr>\n",
              "      <th>25</th>\n",
              "      <td>Desiree Linden</td>\n",
              "      <td>Track</td>\n",
              "      <td>61</td>\n",
              "      <td>97</td>\n",
              "    </tr>\n",
              "    <tr>\n",
              "      <th>26</th>\n",
              "      <td>Shalane Flanagan</td>\n",
              "      <td>Track</td>\n",
              "      <td>65</td>\n",
              "      <td>106</td>\n",
              "    </tr>\n",
              "    <tr>\n",
              "      <th>27</th>\n",
              "      <td>Laurie Hernandez</td>\n",
              "      <td>Gymnastics</td>\n",
              "      <td>60</td>\n",
              "      <td>106</td>\n",
              "    </tr>\n",
              "  </tbody>\n",
              "</table>\n",
              "</div>"
            ],
            "text/plain": [
              "                 Name       Sport  Height  Weight\n",
              "0      Asuka Teramoto  Gymnastics      54      66\n",
              "1    Brittainey Raven  Basketball      72     162\n",
              "2            Chen Nan  Basketball      78     204\n",
              "3       Gabby Douglas  Gymnastics      49      90\n",
              "4    Helalia Johannes       Track      65      99\n",
              "5     Irina Miketenko       Track      63     106\n",
              "6       Jennifer Lacy  Basketball      75     175\n",
              "7        Kara Goucher       Track      67     123\n",
              "8         Linlin Deng  Gymnastics      54      68\n",
              "9       Nakia Sanford  Basketball      76     200\n",
              "10         Nikki Blue  Basketball      68     163\n",
              "11    Qiushuang Huang  Gymnastics      61      95\n",
              "12     Rebecca Tunney  Gymnastics      58      77\n",
              "13        Rene Kalmer       Track      70     108\n",
              "14    Shanna Crossley  Basketball      70     155\n",
              "15   Shavonte Zellous  Basketball      70     155\n",
              "16    Tatyana Petrova       Track      63     108\n",
              "17        Tiki Gelana       Track      65     106\n",
              "18    Valeria Straneo       Track      66      97\n",
              "19    Viktoria Komova  Gymnastics      61      76\n",
              "20          Amy Cragg       Track      64      99\n",
              "21       Simone Biles  Gymnastics      57     104\n",
              "22     Madison Kocian  Gymnastics      62     101\n",
              "23  Elena Delle Donne  Basketball      77     188\n",
              "24   Seimone Augustus  Basketball      72     166\n",
              "25     Desiree Linden       Track      61      97\n",
              "26   Shalane Flanagan       Track      65     106\n",
              "27   Laurie Hernandez  Gymnastics      60     106"
            ]
          },
          "metadata": {
            "tags": []
          },
          "execution_count": 21
        }
      ]
    },
    {
      "cell_type": "markdown",
      "metadata": {
        "id": "nGHfs5CQVJkX",
        "colab_type": "text"
      },
      "source": [
        "### Reading a CSV file the local machine\n",
        "First, let's get that file onto our local machine:"
      ]
    },
    {
      "cell_type": "code",
      "metadata": {
        "id": "pZ7MnzHqVJkX",
        "colab_type": "code",
        "colab": {
          "base_uri": "https://localhost:8080/",
          "height": 68
        },
        "outputId": "8acb78f1-2f50-4047-fb43-0d5beb12b754"
      },
      "source": [
        "!curl https://raw.githubusercontent.com/zacharski/ml-class/master/data/athletes.csv > localAthletes.csv"
      ],
      "execution_count": 22,
      "outputs": [
        {
          "output_type": "stream",
          "text": [
            "  % Total    % Received % Xferd  Average Speed   Time    Time     Time  Current\n",
            "                                 Dload  Upload   Total   Spent    Left  Speed\n",
            "\r  0     0    0     0    0     0      0      0 --:--:-- --:--:-- --:--:--     0\r100   878  100   878    0     0  10839      0 --:--:-- --:--:-- --:--:-- 10839\n"
          ],
          "name": "stdout"
        }
      ]
    },
    {
      "cell_type": "markdown",
      "metadata": {
        "id": "dPgNjZqDVJka",
        "colab_type": "text"
      },
      "source": [
        "Hmm. That didn't work. Can you fix the error and rerun that cell?\n",
        "\n",
        "---\n",
        "Now we can specify the local file using `pd=read_csv`"
      ]
    },
    {
      "cell_type": "code",
      "metadata": {
        "scrolled": true,
        "id": "NR4CWASSVJka",
        "colab_type": "code",
        "colab": {
          "base_uri": "https://localhost:8080/",
          "height": 917
        },
        "outputId": "ead3fed1-329f-496e-fed1-0c8b40a163d9"
      },
      "source": [
        "d6 = pd.read_csv('localAthletes.csv')\n",
        "d6"
      ],
      "execution_count": 23,
      "outputs": [
        {
          "output_type": "execute_result",
          "data": {
            "text/html": [
              "<div>\n",
              "<style scoped>\n",
              "    .dataframe tbody tr th:only-of-type {\n",
              "        vertical-align: middle;\n",
              "    }\n",
              "\n",
              "    .dataframe tbody tr th {\n",
              "        vertical-align: top;\n",
              "    }\n",
              "\n",
              "    .dataframe thead th {\n",
              "        text-align: right;\n",
              "    }\n",
              "</style>\n",
              "<table border=\"1\" class=\"dataframe\">\n",
              "  <thead>\n",
              "    <tr style=\"text-align: right;\">\n",
              "      <th></th>\n",
              "      <th>Name</th>\n",
              "      <th>Sport</th>\n",
              "      <th>Height</th>\n",
              "      <th>Weight</th>\n",
              "    </tr>\n",
              "  </thead>\n",
              "  <tbody>\n",
              "    <tr>\n",
              "      <th>0</th>\n",
              "      <td>Asuka Teramoto</td>\n",
              "      <td>Gymnastics</td>\n",
              "      <td>54</td>\n",
              "      <td>66</td>\n",
              "    </tr>\n",
              "    <tr>\n",
              "      <th>1</th>\n",
              "      <td>Brittainey Raven</td>\n",
              "      <td>Basketball</td>\n",
              "      <td>72</td>\n",
              "      <td>162</td>\n",
              "    </tr>\n",
              "    <tr>\n",
              "      <th>2</th>\n",
              "      <td>Chen Nan</td>\n",
              "      <td>Basketball</td>\n",
              "      <td>78</td>\n",
              "      <td>204</td>\n",
              "    </tr>\n",
              "    <tr>\n",
              "      <th>3</th>\n",
              "      <td>Gabby Douglas</td>\n",
              "      <td>Gymnastics</td>\n",
              "      <td>49</td>\n",
              "      <td>90</td>\n",
              "    </tr>\n",
              "    <tr>\n",
              "      <th>4</th>\n",
              "      <td>Helalia Johannes</td>\n",
              "      <td>Track</td>\n",
              "      <td>65</td>\n",
              "      <td>99</td>\n",
              "    </tr>\n",
              "    <tr>\n",
              "      <th>5</th>\n",
              "      <td>Irina Miketenko</td>\n",
              "      <td>Track</td>\n",
              "      <td>63</td>\n",
              "      <td>106</td>\n",
              "    </tr>\n",
              "    <tr>\n",
              "      <th>6</th>\n",
              "      <td>Jennifer Lacy</td>\n",
              "      <td>Basketball</td>\n",
              "      <td>75</td>\n",
              "      <td>175</td>\n",
              "    </tr>\n",
              "    <tr>\n",
              "      <th>7</th>\n",
              "      <td>Kara Goucher</td>\n",
              "      <td>Track</td>\n",
              "      <td>67</td>\n",
              "      <td>123</td>\n",
              "    </tr>\n",
              "    <tr>\n",
              "      <th>8</th>\n",
              "      <td>Linlin Deng</td>\n",
              "      <td>Gymnastics</td>\n",
              "      <td>54</td>\n",
              "      <td>68</td>\n",
              "    </tr>\n",
              "    <tr>\n",
              "      <th>9</th>\n",
              "      <td>Nakia Sanford</td>\n",
              "      <td>Basketball</td>\n",
              "      <td>76</td>\n",
              "      <td>200</td>\n",
              "    </tr>\n",
              "    <tr>\n",
              "      <th>10</th>\n",
              "      <td>Nikki Blue</td>\n",
              "      <td>Basketball</td>\n",
              "      <td>68</td>\n",
              "      <td>163</td>\n",
              "    </tr>\n",
              "    <tr>\n",
              "      <th>11</th>\n",
              "      <td>Qiushuang Huang</td>\n",
              "      <td>Gymnastics</td>\n",
              "      <td>61</td>\n",
              "      <td>95</td>\n",
              "    </tr>\n",
              "    <tr>\n",
              "      <th>12</th>\n",
              "      <td>Rebecca Tunney</td>\n",
              "      <td>Gymnastics</td>\n",
              "      <td>58</td>\n",
              "      <td>77</td>\n",
              "    </tr>\n",
              "    <tr>\n",
              "      <th>13</th>\n",
              "      <td>Rene Kalmer</td>\n",
              "      <td>Track</td>\n",
              "      <td>70</td>\n",
              "      <td>108</td>\n",
              "    </tr>\n",
              "    <tr>\n",
              "      <th>14</th>\n",
              "      <td>Shanna Crossley</td>\n",
              "      <td>Basketball</td>\n",
              "      <td>70</td>\n",
              "      <td>155</td>\n",
              "    </tr>\n",
              "    <tr>\n",
              "      <th>15</th>\n",
              "      <td>Shavonte Zellous</td>\n",
              "      <td>Basketball</td>\n",
              "      <td>70</td>\n",
              "      <td>155</td>\n",
              "    </tr>\n",
              "    <tr>\n",
              "      <th>16</th>\n",
              "      <td>Tatyana Petrova</td>\n",
              "      <td>Track</td>\n",
              "      <td>63</td>\n",
              "      <td>108</td>\n",
              "    </tr>\n",
              "    <tr>\n",
              "      <th>17</th>\n",
              "      <td>Tiki Gelana</td>\n",
              "      <td>Track</td>\n",
              "      <td>65</td>\n",
              "      <td>106</td>\n",
              "    </tr>\n",
              "    <tr>\n",
              "      <th>18</th>\n",
              "      <td>Valeria Straneo</td>\n",
              "      <td>Track</td>\n",
              "      <td>66</td>\n",
              "      <td>97</td>\n",
              "    </tr>\n",
              "    <tr>\n",
              "      <th>19</th>\n",
              "      <td>Viktoria Komova</td>\n",
              "      <td>Gymnastics</td>\n",
              "      <td>61</td>\n",
              "      <td>76</td>\n",
              "    </tr>\n",
              "    <tr>\n",
              "      <th>20</th>\n",
              "      <td>Amy Cragg</td>\n",
              "      <td>Track</td>\n",
              "      <td>64</td>\n",
              "      <td>99</td>\n",
              "    </tr>\n",
              "    <tr>\n",
              "      <th>21</th>\n",
              "      <td>Simone Biles</td>\n",
              "      <td>Gymnastics</td>\n",
              "      <td>57</td>\n",
              "      <td>104</td>\n",
              "    </tr>\n",
              "    <tr>\n",
              "      <th>22</th>\n",
              "      <td>Madison Kocian</td>\n",
              "      <td>Gymnastics</td>\n",
              "      <td>62</td>\n",
              "      <td>101</td>\n",
              "    </tr>\n",
              "    <tr>\n",
              "      <th>23</th>\n",
              "      <td>Elena Delle Donne</td>\n",
              "      <td>Basketball</td>\n",
              "      <td>77</td>\n",
              "      <td>188</td>\n",
              "    </tr>\n",
              "    <tr>\n",
              "      <th>24</th>\n",
              "      <td>Seimone Augustus</td>\n",
              "      <td>Basketball</td>\n",
              "      <td>72</td>\n",
              "      <td>166</td>\n",
              "    </tr>\n",
              "    <tr>\n",
              "      <th>25</th>\n",
              "      <td>Desiree Linden</td>\n",
              "      <td>Track</td>\n",
              "      <td>61</td>\n",
              "      <td>97</td>\n",
              "    </tr>\n",
              "    <tr>\n",
              "      <th>26</th>\n",
              "      <td>Shalane Flanagan</td>\n",
              "      <td>Track</td>\n",
              "      <td>65</td>\n",
              "      <td>106</td>\n",
              "    </tr>\n",
              "    <tr>\n",
              "      <th>27</th>\n",
              "      <td>Laurie Hernandez</td>\n",
              "      <td>Gymnastics</td>\n",
              "      <td>60</td>\n",
              "      <td>106</td>\n",
              "    </tr>\n",
              "  </tbody>\n",
              "</table>\n",
              "</div>"
            ],
            "text/plain": [
              "                 Name       Sport  Height  Weight\n",
              "0      Asuka Teramoto  Gymnastics      54      66\n",
              "1    Brittainey Raven  Basketball      72     162\n",
              "2            Chen Nan  Basketball      78     204\n",
              "3       Gabby Douglas  Gymnastics      49      90\n",
              "4    Helalia Johannes       Track      65      99\n",
              "5     Irina Miketenko       Track      63     106\n",
              "6       Jennifer Lacy  Basketball      75     175\n",
              "7        Kara Goucher       Track      67     123\n",
              "8         Linlin Deng  Gymnastics      54      68\n",
              "9       Nakia Sanford  Basketball      76     200\n",
              "10         Nikki Blue  Basketball      68     163\n",
              "11    Qiushuang Huang  Gymnastics      61      95\n",
              "12     Rebecca Tunney  Gymnastics      58      77\n",
              "13        Rene Kalmer       Track      70     108\n",
              "14    Shanna Crossley  Basketball      70     155\n",
              "15   Shavonte Zellous  Basketball      70     155\n",
              "16    Tatyana Petrova       Track      63     108\n",
              "17        Tiki Gelana       Track      65     106\n",
              "18    Valeria Straneo       Track      66      97\n",
              "19    Viktoria Komova  Gymnastics      61      76\n",
              "20          Amy Cragg       Track      64      99\n",
              "21       Simone Biles  Gymnastics      57     104\n",
              "22     Madison Kocian  Gymnastics      62     101\n",
              "23  Elena Delle Donne  Basketball      77     188\n",
              "24   Seimone Augustus  Basketball      72     166\n",
              "25     Desiree Linden       Track      61      97\n",
              "26   Shalane Flanagan       Track      65     106\n",
              "27   Laurie Hernandez  Gymnastics      60     106"
            ]
          },
          "metadata": {
            "tags": []
          },
          "execution_count": 23
        }
      ]
    },
    {
      "cell_type": "markdown",
      "metadata": {
        "id": "zGM6JkcTVJkg",
        "colab_type": "text"
      },
      "source": [
        "Suppose we want that file in a data directory. Let's go ahead and create the directory and move the file there."
      ]
    },
    {
      "cell_type": "code",
      "metadata": {
        "id": "VJMDMnZlVJkh",
        "colab_type": "code",
        "colab": {}
      },
      "source": [
        "!mkdir data\n",
        "!mv localAthletes.csv data"
      ],
      "execution_count": 24,
      "outputs": []
    },
    {
      "cell_type": "markdown",
      "metadata": {
        "id": "uKbtsd88VJkm",
        "colab_type": "text"
      },
      "source": [
        "Now when we load the file we need to give more of a path:"
      ]
    },
    {
      "cell_type": "code",
      "metadata": {
        "id": "aQy1stAAVJkn",
        "colab_type": "code",
        "colab": {
          "base_uri": "https://localhost:8080/",
          "height": 917
        },
        "outputId": "91eed9d7-6a72-4119-a280-cb14edd6634f"
      },
      "source": [
        "d6 = pd.read_csv('data/localAthletes.csv')\n",
        "d6"
      ],
      "execution_count": 25,
      "outputs": [
        {
          "output_type": "execute_result",
          "data": {
            "text/html": [
              "<div>\n",
              "<style scoped>\n",
              "    .dataframe tbody tr th:only-of-type {\n",
              "        vertical-align: middle;\n",
              "    }\n",
              "\n",
              "    .dataframe tbody tr th {\n",
              "        vertical-align: top;\n",
              "    }\n",
              "\n",
              "    .dataframe thead th {\n",
              "        text-align: right;\n",
              "    }\n",
              "</style>\n",
              "<table border=\"1\" class=\"dataframe\">\n",
              "  <thead>\n",
              "    <tr style=\"text-align: right;\">\n",
              "      <th></th>\n",
              "      <th>Name</th>\n",
              "      <th>Sport</th>\n",
              "      <th>Height</th>\n",
              "      <th>Weight</th>\n",
              "    </tr>\n",
              "  </thead>\n",
              "  <tbody>\n",
              "    <tr>\n",
              "      <th>0</th>\n",
              "      <td>Asuka Teramoto</td>\n",
              "      <td>Gymnastics</td>\n",
              "      <td>54</td>\n",
              "      <td>66</td>\n",
              "    </tr>\n",
              "    <tr>\n",
              "      <th>1</th>\n",
              "      <td>Brittainey Raven</td>\n",
              "      <td>Basketball</td>\n",
              "      <td>72</td>\n",
              "      <td>162</td>\n",
              "    </tr>\n",
              "    <tr>\n",
              "      <th>2</th>\n",
              "      <td>Chen Nan</td>\n",
              "      <td>Basketball</td>\n",
              "      <td>78</td>\n",
              "      <td>204</td>\n",
              "    </tr>\n",
              "    <tr>\n",
              "      <th>3</th>\n",
              "      <td>Gabby Douglas</td>\n",
              "      <td>Gymnastics</td>\n",
              "      <td>49</td>\n",
              "      <td>90</td>\n",
              "    </tr>\n",
              "    <tr>\n",
              "      <th>4</th>\n",
              "      <td>Helalia Johannes</td>\n",
              "      <td>Track</td>\n",
              "      <td>65</td>\n",
              "      <td>99</td>\n",
              "    </tr>\n",
              "    <tr>\n",
              "      <th>5</th>\n",
              "      <td>Irina Miketenko</td>\n",
              "      <td>Track</td>\n",
              "      <td>63</td>\n",
              "      <td>106</td>\n",
              "    </tr>\n",
              "    <tr>\n",
              "      <th>6</th>\n",
              "      <td>Jennifer Lacy</td>\n",
              "      <td>Basketball</td>\n",
              "      <td>75</td>\n",
              "      <td>175</td>\n",
              "    </tr>\n",
              "    <tr>\n",
              "      <th>7</th>\n",
              "      <td>Kara Goucher</td>\n",
              "      <td>Track</td>\n",
              "      <td>67</td>\n",
              "      <td>123</td>\n",
              "    </tr>\n",
              "    <tr>\n",
              "      <th>8</th>\n",
              "      <td>Linlin Deng</td>\n",
              "      <td>Gymnastics</td>\n",
              "      <td>54</td>\n",
              "      <td>68</td>\n",
              "    </tr>\n",
              "    <tr>\n",
              "      <th>9</th>\n",
              "      <td>Nakia Sanford</td>\n",
              "      <td>Basketball</td>\n",
              "      <td>76</td>\n",
              "      <td>200</td>\n",
              "    </tr>\n",
              "    <tr>\n",
              "      <th>10</th>\n",
              "      <td>Nikki Blue</td>\n",
              "      <td>Basketball</td>\n",
              "      <td>68</td>\n",
              "      <td>163</td>\n",
              "    </tr>\n",
              "    <tr>\n",
              "      <th>11</th>\n",
              "      <td>Qiushuang Huang</td>\n",
              "      <td>Gymnastics</td>\n",
              "      <td>61</td>\n",
              "      <td>95</td>\n",
              "    </tr>\n",
              "    <tr>\n",
              "      <th>12</th>\n",
              "      <td>Rebecca Tunney</td>\n",
              "      <td>Gymnastics</td>\n",
              "      <td>58</td>\n",
              "      <td>77</td>\n",
              "    </tr>\n",
              "    <tr>\n",
              "      <th>13</th>\n",
              "      <td>Rene Kalmer</td>\n",
              "      <td>Track</td>\n",
              "      <td>70</td>\n",
              "      <td>108</td>\n",
              "    </tr>\n",
              "    <tr>\n",
              "      <th>14</th>\n",
              "      <td>Shanna Crossley</td>\n",
              "      <td>Basketball</td>\n",
              "      <td>70</td>\n",
              "      <td>155</td>\n",
              "    </tr>\n",
              "    <tr>\n",
              "      <th>15</th>\n",
              "      <td>Shavonte Zellous</td>\n",
              "      <td>Basketball</td>\n",
              "      <td>70</td>\n",
              "      <td>155</td>\n",
              "    </tr>\n",
              "    <tr>\n",
              "      <th>16</th>\n",
              "      <td>Tatyana Petrova</td>\n",
              "      <td>Track</td>\n",
              "      <td>63</td>\n",
              "      <td>108</td>\n",
              "    </tr>\n",
              "    <tr>\n",
              "      <th>17</th>\n",
              "      <td>Tiki Gelana</td>\n",
              "      <td>Track</td>\n",
              "      <td>65</td>\n",
              "      <td>106</td>\n",
              "    </tr>\n",
              "    <tr>\n",
              "      <th>18</th>\n",
              "      <td>Valeria Straneo</td>\n",
              "      <td>Track</td>\n",
              "      <td>66</td>\n",
              "      <td>97</td>\n",
              "    </tr>\n",
              "    <tr>\n",
              "      <th>19</th>\n",
              "      <td>Viktoria Komova</td>\n",
              "      <td>Gymnastics</td>\n",
              "      <td>61</td>\n",
              "      <td>76</td>\n",
              "    </tr>\n",
              "    <tr>\n",
              "      <th>20</th>\n",
              "      <td>Amy Cragg</td>\n",
              "      <td>Track</td>\n",
              "      <td>64</td>\n",
              "      <td>99</td>\n",
              "    </tr>\n",
              "    <tr>\n",
              "      <th>21</th>\n",
              "      <td>Simone Biles</td>\n",
              "      <td>Gymnastics</td>\n",
              "      <td>57</td>\n",
              "      <td>104</td>\n",
              "    </tr>\n",
              "    <tr>\n",
              "      <th>22</th>\n",
              "      <td>Madison Kocian</td>\n",
              "      <td>Gymnastics</td>\n",
              "      <td>62</td>\n",
              "      <td>101</td>\n",
              "    </tr>\n",
              "    <tr>\n",
              "      <th>23</th>\n",
              "      <td>Elena Delle Donne</td>\n",
              "      <td>Basketball</td>\n",
              "      <td>77</td>\n",
              "      <td>188</td>\n",
              "    </tr>\n",
              "    <tr>\n",
              "      <th>24</th>\n",
              "      <td>Seimone Augustus</td>\n",
              "      <td>Basketball</td>\n",
              "      <td>72</td>\n",
              "      <td>166</td>\n",
              "    </tr>\n",
              "    <tr>\n",
              "      <th>25</th>\n",
              "      <td>Desiree Linden</td>\n",
              "      <td>Track</td>\n",
              "      <td>61</td>\n",
              "      <td>97</td>\n",
              "    </tr>\n",
              "    <tr>\n",
              "      <th>26</th>\n",
              "      <td>Shalane Flanagan</td>\n",
              "      <td>Track</td>\n",
              "      <td>65</td>\n",
              "      <td>106</td>\n",
              "    </tr>\n",
              "    <tr>\n",
              "      <th>27</th>\n",
              "      <td>Laurie Hernandez</td>\n",
              "      <td>Gymnastics</td>\n",
              "      <td>60</td>\n",
              "      <td>106</td>\n",
              "    </tr>\n",
              "  </tbody>\n",
              "</table>\n",
              "</div>"
            ],
            "text/plain": [
              "                 Name       Sport  Height  Weight\n",
              "0      Asuka Teramoto  Gymnastics      54      66\n",
              "1    Brittainey Raven  Basketball      72     162\n",
              "2            Chen Nan  Basketball      78     204\n",
              "3       Gabby Douglas  Gymnastics      49      90\n",
              "4    Helalia Johannes       Track      65      99\n",
              "5     Irina Miketenko       Track      63     106\n",
              "6       Jennifer Lacy  Basketball      75     175\n",
              "7        Kara Goucher       Track      67     123\n",
              "8         Linlin Deng  Gymnastics      54      68\n",
              "9       Nakia Sanford  Basketball      76     200\n",
              "10         Nikki Blue  Basketball      68     163\n",
              "11    Qiushuang Huang  Gymnastics      61      95\n",
              "12     Rebecca Tunney  Gymnastics      58      77\n",
              "13        Rene Kalmer       Track      70     108\n",
              "14    Shanna Crossley  Basketball      70     155\n",
              "15   Shavonte Zellous  Basketball      70     155\n",
              "16    Tatyana Petrova       Track      63     108\n",
              "17        Tiki Gelana       Track      65     106\n",
              "18    Valeria Straneo       Track      66      97\n",
              "19    Viktoria Komova  Gymnastics      61      76\n",
              "20          Amy Cragg       Track      64      99\n",
              "21       Simone Biles  Gymnastics      57     104\n",
              "22     Madison Kocian  Gymnastics      62     101\n",
              "23  Elena Delle Donne  Basketball      77     188\n",
              "24   Seimone Augustus  Basketball      72     166\n",
              "25     Desiree Linden       Track      61      97\n",
              "26   Shalane Flanagan       Track      65     106\n",
              "27   Laurie Hernandez  Gymnastics      60     106"
            ]
          },
          "metadata": {
            "tags": []
          },
          "execution_count": 25
        }
      ]
    },
    {
      "cell_type": "markdown",
      "metadata": {
        "id": "qxuvNtgWVJkq",
        "colab_type": "text"
      },
      "source": [
        "## Missing Data\n",
        "\n",
        "In real machine learning tasks, we often encounter missing values.\n",
        "\n",
        "For example, suppose we didn't know Brittainey Raven's height. In that case our CSV file would start\n",
        "\n",
        "    Name,Sport,Height,Weight\n",
        "    Asuka Teramoto,Gymnastics,54,66\n",
        "    Brittainey Raven,Basketball,,162\n",
        "    Chen Nan,Basketball,78,204\n",
        "\n",
        "with the double comma on the Brittainey line representing the missing data. When we read that file.\n",
        "\n"
      ]
    },
    {
      "cell_type": "code",
      "metadata": {
        "id": "gNZLVm5UVJkr",
        "colab_type": "code",
        "colab": {
          "base_uri": "https://localhost:8080/",
          "height": 917
        },
        "outputId": "2125ca8d-4f21-4616-a90d-95e8123d2a81"
      },
      "source": [
        "df7 = pd.read_csv('https://raw.githubusercontent.com/zacharski/ml-class/master/data/athletesMissingValue.csv')\n",
        "df7"
      ],
      "execution_count": 26,
      "outputs": [
        {
          "output_type": "execute_result",
          "data": {
            "text/html": [
              "<div>\n",
              "<style scoped>\n",
              "    .dataframe tbody tr th:only-of-type {\n",
              "        vertical-align: middle;\n",
              "    }\n",
              "\n",
              "    .dataframe tbody tr th {\n",
              "        vertical-align: top;\n",
              "    }\n",
              "\n",
              "    .dataframe thead th {\n",
              "        text-align: right;\n",
              "    }\n",
              "</style>\n",
              "<table border=\"1\" class=\"dataframe\">\n",
              "  <thead>\n",
              "    <tr style=\"text-align: right;\">\n",
              "      <th></th>\n",
              "      <th>Name</th>\n",
              "      <th>Sport</th>\n",
              "      <th>Height</th>\n",
              "      <th>Weight</th>\n",
              "    </tr>\n",
              "  </thead>\n",
              "  <tbody>\n",
              "    <tr>\n",
              "      <th>0</th>\n",
              "      <td>Asuka Teramoto</td>\n",
              "      <td>Gymnastics</td>\n",
              "      <td>54.0</td>\n",
              "      <td>66</td>\n",
              "    </tr>\n",
              "    <tr>\n",
              "      <th>1</th>\n",
              "      <td>Brittainey Raven</td>\n",
              "      <td>Basketball</td>\n",
              "      <td>NaN</td>\n",
              "      <td>162</td>\n",
              "    </tr>\n",
              "    <tr>\n",
              "      <th>2</th>\n",
              "      <td>Chen Nan</td>\n",
              "      <td>Basketball</td>\n",
              "      <td>78.0</td>\n",
              "      <td>204</td>\n",
              "    </tr>\n",
              "    <tr>\n",
              "      <th>3</th>\n",
              "      <td>Gabby Douglas</td>\n",
              "      <td>Gymnastics</td>\n",
              "      <td>49.0</td>\n",
              "      <td>90</td>\n",
              "    </tr>\n",
              "    <tr>\n",
              "      <th>4</th>\n",
              "      <td>Helalia Johannes</td>\n",
              "      <td>Track</td>\n",
              "      <td>65.0</td>\n",
              "      <td>99</td>\n",
              "    </tr>\n",
              "    <tr>\n",
              "      <th>5</th>\n",
              "      <td>Irina Miketenko</td>\n",
              "      <td>Track</td>\n",
              "      <td>NaN</td>\n",
              "      <td>106</td>\n",
              "    </tr>\n",
              "    <tr>\n",
              "      <th>6</th>\n",
              "      <td>Jennifer Lacy</td>\n",
              "      <td>Basketball</td>\n",
              "      <td>75.0</td>\n",
              "      <td>175</td>\n",
              "    </tr>\n",
              "    <tr>\n",
              "      <th>7</th>\n",
              "      <td>Kara Goucher</td>\n",
              "      <td>Track</td>\n",
              "      <td>67.0</td>\n",
              "      <td>123</td>\n",
              "    </tr>\n",
              "    <tr>\n",
              "      <th>8</th>\n",
              "      <td>Linlin Deng</td>\n",
              "      <td>Gymnastics</td>\n",
              "      <td>54.0</td>\n",
              "      <td>68</td>\n",
              "    </tr>\n",
              "    <tr>\n",
              "      <th>9</th>\n",
              "      <td>Nakia Sanford</td>\n",
              "      <td>Basketball</td>\n",
              "      <td>76.0</td>\n",
              "      <td>200</td>\n",
              "    </tr>\n",
              "    <tr>\n",
              "      <th>10</th>\n",
              "      <td>Nikki Blue</td>\n",
              "      <td>Basketball</td>\n",
              "      <td>68.0</td>\n",
              "      <td>163</td>\n",
              "    </tr>\n",
              "    <tr>\n",
              "      <th>11</th>\n",
              "      <td>Qiushuang Huang</td>\n",
              "      <td>Gymnastics</td>\n",
              "      <td>61.0</td>\n",
              "      <td>95</td>\n",
              "    </tr>\n",
              "    <tr>\n",
              "      <th>12</th>\n",
              "      <td>Rebecca Tunney</td>\n",
              "      <td>Gymnastics</td>\n",
              "      <td>NaN</td>\n",
              "      <td>77</td>\n",
              "    </tr>\n",
              "    <tr>\n",
              "      <th>13</th>\n",
              "      <td>Rene Kalmer</td>\n",
              "      <td>Track</td>\n",
              "      <td>70.0</td>\n",
              "      <td>108</td>\n",
              "    </tr>\n",
              "    <tr>\n",
              "      <th>14</th>\n",
              "      <td>Shanna Crossley</td>\n",
              "      <td>Basketball</td>\n",
              "      <td>70.0</td>\n",
              "      <td>155</td>\n",
              "    </tr>\n",
              "    <tr>\n",
              "      <th>15</th>\n",
              "      <td>Shavonte Zellous</td>\n",
              "      <td>Basketball</td>\n",
              "      <td>70.0</td>\n",
              "      <td>155</td>\n",
              "    </tr>\n",
              "    <tr>\n",
              "      <th>16</th>\n",
              "      <td>Tatyana Petrova</td>\n",
              "      <td>Track</td>\n",
              "      <td>63.0</td>\n",
              "      <td>108</td>\n",
              "    </tr>\n",
              "    <tr>\n",
              "      <th>17</th>\n",
              "      <td>Tiki Gelana</td>\n",
              "      <td>Track</td>\n",
              "      <td>65.0</td>\n",
              "      <td>106</td>\n",
              "    </tr>\n",
              "    <tr>\n",
              "      <th>18</th>\n",
              "      <td>Valeria Straneo</td>\n",
              "      <td>Track</td>\n",
              "      <td>66.0</td>\n",
              "      <td>97</td>\n",
              "    </tr>\n",
              "    <tr>\n",
              "      <th>19</th>\n",
              "      <td>Viktoria Komova</td>\n",
              "      <td>Gymnastics</td>\n",
              "      <td>61.0</td>\n",
              "      <td>76</td>\n",
              "    </tr>\n",
              "    <tr>\n",
              "      <th>20</th>\n",
              "      <td>Amy Cragg</td>\n",
              "      <td>NaN</td>\n",
              "      <td>64.0</td>\n",
              "      <td>99</td>\n",
              "    </tr>\n",
              "    <tr>\n",
              "      <th>21</th>\n",
              "      <td>Simone Biles</td>\n",
              "      <td>Gymnastics</td>\n",
              "      <td>57.0</td>\n",
              "      <td>104</td>\n",
              "    </tr>\n",
              "    <tr>\n",
              "      <th>22</th>\n",
              "      <td>Madison Kocian</td>\n",
              "      <td>Gymnastics</td>\n",
              "      <td>62.0</td>\n",
              "      <td>101</td>\n",
              "    </tr>\n",
              "    <tr>\n",
              "      <th>23</th>\n",
              "      <td>Elena Delle Donne</td>\n",
              "      <td>Basketball</td>\n",
              "      <td>77.0</td>\n",
              "      <td>188</td>\n",
              "    </tr>\n",
              "    <tr>\n",
              "      <th>24</th>\n",
              "      <td>Seimone Augustus</td>\n",
              "      <td>Basketball</td>\n",
              "      <td>72.0</td>\n",
              "      <td>166</td>\n",
              "    </tr>\n",
              "    <tr>\n",
              "      <th>25</th>\n",
              "      <td>Desiree Linden</td>\n",
              "      <td>Track</td>\n",
              "      <td>61.0</td>\n",
              "      <td>97</td>\n",
              "    </tr>\n",
              "    <tr>\n",
              "      <th>26</th>\n",
              "      <td>Shalane Flanagan</td>\n",
              "      <td>Track</td>\n",
              "      <td>65.0</td>\n",
              "      <td>106</td>\n",
              "    </tr>\n",
              "    <tr>\n",
              "      <th>27</th>\n",
              "      <td>Laurie Hernandez</td>\n",
              "      <td>Gymnastics</td>\n",
              "      <td>60.0</td>\n",
              "      <td>106</td>\n",
              "    </tr>\n",
              "  </tbody>\n",
              "</table>\n",
              "</div>"
            ],
            "text/plain": [
              "                 Name       Sport  Height  Weight\n",
              "0      Asuka Teramoto  Gymnastics    54.0      66\n",
              "1    Brittainey Raven  Basketball     NaN     162\n",
              "2            Chen Nan  Basketball    78.0     204\n",
              "3       Gabby Douglas  Gymnastics    49.0      90\n",
              "4    Helalia Johannes       Track    65.0      99\n",
              "5     Irina Miketenko       Track     NaN     106\n",
              "6       Jennifer Lacy  Basketball    75.0     175\n",
              "7        Kara Goucher       Track    67.0     123\n",
              "8         Linlin Deng  Gymnastics    54.0      68\n",
              "9       Nakia Sanford  Basketball    76.0     200\n",
              "10         Nikki Blue  Basketball    68.0     163\n",
              "11    Qiushuang Huang  Gymnastics    61.0      95\n",
              "12     Rebecca Tunney  Gymnastics     NaN      77\n",
              "13        Rene Kalmer       Track    70.0     108\n",
              "14    Shanna Crossley  Basketball    70.0     155\n",
              "15   Shavonte Zellous  Basketball    70.0     155\n",
              "16    Tatyana Petrova       Track    63.0     108\n",
              "17        Tiki Gelana       Track    65.0     106\n",
              "18    Valeria Straneo       Track    66.0      97\n",
              "19    Viktoria Komova  Gymnastics    61.0      76\n",
              "20          Amy Cragg         NaN    64.0      99\n",
              "21       Simone Biles  Gymnastics    57.0     104\n",
              "22     Madison Kocian  Gymnastics    62.0     101\n",
              "23  Elena Delle Donne  Basketball    77.0     188\n",
              "24   Seimone Augustus  Basketball    72.0     166\n",
              "25     Desiree Linden       Track    61.0      97\n",
              "26   Shalane Flanagan       Track    65.0     106\n",
              "27   Laurie Hernandez  Gymnastics    60.0     106"
            ]
          },
          "metadata": {
            "tags": []
          },
          "execution_count": 26
        }
      ]
    },
    {
      "cell_type": "markdown",
      "metadata": {
        "id": "lRQeUGtnVJkv",
        "colab_type": "text"
      },
      "source": [
        "We see that Brittainey Raven's height is now the floating point value NaN meaning Not a Number. This NaN value is used even in columns that do not contain floating point values. For example, in row 20 above, Amy Cragg has NaN in the Sport column. Wes McKinney, the developer of Pandas calls NaN a *sentinel* value that is easily detected and indicates a missing value.\n",
        "\n",
        "#### Adding a missing value by hand\n",
        "Suppose we didn't know the number of cylinders of a Ford F150:\n",
        "\n",
        "make | mpg | cylinders | HP | 0-60 |\n",
        "---- | :---: | :---: | :---: | :---: \n",
        "Fiat | 38 | 4 | 157   | 6.9 \n",
        "Ford F150 | 19 | - | 386 | 6.3 \n",
        "Mazda 3 | 37 | 4 | 155 |  7.5 \n",
        "Ford Escape | 27 | 4 | 245 | 7.1 \n",
        "Kia Soul | 31 | 4 | 164 | 8.5 \n",
        "\n",
        "In that case we can create a dataframe like:\n"
      ]
    },
    {
      "cell_type": "code",
      "metadata": {
        "id": "-IPkwEuWVJkw",
        "colab_type": "code",
        "colab": {
          "base_uri": "https://localhost:8080/",
          "height": 204
        },
        "outputId": "a4d58ed0-a7f2-4c6d-ec21-2698ddaa72f2"
      },
      "source": [
        "cars3 = {'make': Series(['Fiat 500', 'Ford F-150', 'Mazda 3', 'Ford Escape', 'Kia Soul']),\n",
        "        'mpg': Series([38, 19, 37, 27, 31]),\n",
        "        'cylinders': Series([4,np.nan, 4, 4, 4]),\n",
        "        'HP': [157, 386, 155, 245, 164],\n",
        "        '0-60': Series([6.9, 6.3, 7.5, 7.1, 8.5])}\n",
        "        \n",
        "carz = DataFrame(cars3)\n",
        "carz"
      ],
      "execution_count": 27,
      "outputs": [
        {
          "output_type": "execute_result",
          "data": {
            "text/html": [
              "<div>\n",
              "<style scoped>\n",
              "    .dataframe tbody tr th:only-of-type {\n",
              "        vertical-align: middle;\n",
              "    }\n",
              "\n",
              "    .dataframe tbody tr th {\n",
              "        vertical-align: top;\n",
              "    }\n",
              "\n",
              "    .dataframe thead th {\n",
              "        text-align: right;\n",
              "    }\n",
              "</style>\n",
              "<table border=\"1\" class=\"dataframe\">\n",
              "  <thead>\n",
              "    <tr style=\"text-align: right;\">\n",
              "      <th></th>\n",
              "      <th>make</th>\n",
              "      <th>mpg</th>\n",
              "      <th>cylinders</th>\n",
              "      <th>HP</th>\n",
              "      <th>0-60</th>\n",
              "    </tr>\n",
              "  </thead>\n",
              "  <tbody>\n",
              "    <tr>\n",
              "      <th>0</th>\n",
              "      <td>Fiat 500</td>\n",
              "      <td>38</td>\n",
              "      <td>4.0</td>\n",
              "      <td>157</td>\n",
              "      <td>6.9</td>\n",
              "    </tr>\n",
              "    <tr>\n",
              "      <th>1</th>\n",
              "      <td>Ford F-150</td>\n",
              "      <td>19</td>\n",
              "      <td>NaN</td>\n",
              "      <td>386</td>\n",
              "      <td>6.3</td>\n",
              "    </tr>\n",
              "    <tr>\n",
              "      <th>2</th>\n",
              "      <td>Mazda 3</td>\n",
              "      <td>37</td>\n",
              "      <td>4.0</td>\n",
              "      <td>155</td>\n",
              "      <td>7.5</td>\n",
              "    </tr>\n",
              "    <tr>\n",
              "      <th>3</th>\n",
              "      <td>Ford Escape</td>\n",
              "      <td>27</td>\n",
              "      <td>4.0</td>\n",
              "      <td>245</td>\n",
              "      <td>7.1</td>\n",
              "    </tr>\n",
              "    <tr>\n",
              "      <th>4</th>\n",
              "      <td>Kia Soul</td>\n",
              "      <td>31</td>\n",
              "      <td>4.0</td>\n",
              "      <td>164</td>\n",
              "      <td>8.5</td>\n",
              "    </tr>\n",
              "  </tbody>\n",
              "</table>\n",
              "</div>"
            ],
            "text/plain": [
              "          make  mpg  cylinders   HP  0-60\n",
              "0     Fiat 500   38        4.0  157   6.9\n",
              "1   Ford F-150   19        NaN  386   6.3\n",
              "2      Mazda 3   37        4.0  155   7.5\n",
              "3  Ford Escape   27        4.0  245   7.1\n",
              "4     Kia Soul   31        4.0  164   8.5"
            ]
          },
          "metadata": {
            "tags": []
          },
          "execution_count": 27
        }
      ]
    },
    {
      "cell_type": "markdown",
      "metadata": {
        "id": "JbItpr-eVJky",
        "colab_type": "text"
      },
      "source": [
        "where `np.nan` is Numpy's NaN.  We can also use Python's `None`:\n"
      ]
    },
    {
      "cell_type": "code",
      "metadata": {
        "id": "0GJmEsc3VJky",
        "colab_type": "code",
        "colab": {
          "base_uri": "https://localhost:8080/",
          "height": 204
        },
        "outputId": "bc8cbe3d-7565-444d-8327-2a1f05e02515"
      },
      "source": [
        "cars3 = {'make': Series(['Fiat 500', 'Ford F-150', 'Mazda 3', 'Ford Escape', 'Kia Soul']),\n",
        "        'mpg': Series([38, 19, 37, 27, 31]),\n",
        "        'cylinders': Series([4,None, 4, 4, 4]),\n",
        "        'HP': [157, 386, 155, 245, 164],\n",
        "        '0-60': Series([6.9, 6.3, 7.5, 7.1, 8.5])}\n",
        "        \n",
        "carz = DataFrame(cars3)\n",
        "carz"
      ],
      "execution_count": 28,
      "outputs": [
        {
          "output_type": "execute_result",
          "data": {
            "text/html": [
              "<div>\n",
              "<style scoped>\n",
              "    .dataframe tbody tr th:only-of-type {\n",
              "        vertical-align: middle;\n",
              "    }\n",
              "\n",
              "    .dataframe tbody tr th {\n",
              "        vertical-align: top;\n",
              "    }\n",
              "\n",
              "    .dataframe thead th {\n",
              "        text-align: right;\n",
              "    }\n",
              "</style>\n",
              "<table border=\"1\" class=\"dataframe\">\n",
              "  <thead>\n",
              "    <tr style=\"text-align: right;\">\n",
              "      <th></th>\n",
              "      <th>make</th>\n",
              "      <th>mpg</th>\n",
              "      <th>cylinders</th>\n",
              "      <th>HP</th>\n",
              "      <th>0-60</th>\n",
              "    </tr>\n",
              "  </thead>\n",
              "  <tbody>\n",
              "    <tr>\n",
              "      <th>0</th>\n",
              "      <td>Fiat 500</td>\n",
              "      <td>38</td>\n",
              "      <td>4.0</td>\n",
              "      <td>157</td>\n",
              "      <td>6.9</td>\n",
              "    </tr>\n",
              "    <tr>\n",
              "      <th>1</th>\n",
              "      <td>Ford F-150</td>\n",
              "      <td>19</td>\n",
              "      <td>NaN</td>\n",
              "      <td>386</td>\n",
              "      <td>6.3</td>\n",
              "    </tr>\n",
              "    <tr>\n",
              "      <th>2</th>\n",
              "      <td>Mazda 3</td>\n",
              "      <td>37</td>\n",
              "      <td>4.0</td>\n",
              "      <td>155</td>\n",
              "      <td>7.5</td>\n",
              "    </tr>\n",
              "    <tr>\n",
              "      <th>3</th>\n",
              "      <td>Ford Escape</td>\n",
              "      <td>27</td>\n",
              "      <td>4.0</td>\n",
              "      <td>245</td>\n",
              "      <td>7.1</td>\n",
              "    </tr>\n",
              "    <tr>\n",
              "      <th>4</th>\n",
              "      <td>Kia Soul</td>\n",
              "      <td>31</td>\n",
              "      <td>4.0</td>\n",
              "      <td>164</td>\n",
              "      <td>8.5</td>\n",
              "    </tr>\n",
              "  </tbody>\n",
              "</table>\n",
              "</div>"
            ],
            "text/plain": [
              "          make  mpg  cylinders   HP  0-60\n",
              "0     Fiat 500   38        4.0  157   6.9\n",
              "1   Ford F-150   19        NaN  386   6.3\n",
              "2      Mazda 3   37        4.0  155   7.5\n",
              "3  Ford Escape   27        4.0  245   7.1\n",
              "4     Kia Soul   31        4.0  164   8.5"
            ]
          },
          "metadata": {
            "tags": []
          },
          "execution_count": 28
        }
      ]
    },
    {
      "cell_type": "markdown",
      "metadata": {
        "id": "tfT1-sNPVJk2",
        "colab_type": "text"
      },
      "source": [
        "In addition to reading CSV files, there are many other ways of reading in data including from SQL databases, mongoDB, and webpages. See the Pandas documentation for details.\n",
        "\n",
        "<h3 style=\"color:red\">Q2. Pima Indians Diabetes Dataset</h3>\n",
        "It is time to look at a new dataset, the Pima Indians Diabetes Data Set developed by the\n",
        "United States National Institute of Diabetes and Digestive and Kidney Diseases.\n",
        "\n",
        "The majority of the Pima people live on a reservation in Arizona.\n",
        "\n",
        "![](https://upload.wikimedia.org/wikipedia/commons/6/65/Pinal_County_Arizona_Incorporated_and_Unincorporated_areas_GRIC_highlighted.svg)\n",
        "\n",
        "Astonishingly, over 30% of Pima people develop diabetes. In contrast, the diabetes rate in\n",
        "the United States is around 12% and in China it is 4.2%. The country with the lowest rate of diabetes is Benin at 1.5%.\n",
        "\n",
        "Each instance in the dataset represents information about a Pima woman over the age of 21\n",
        "and belonged to one of two classes: a person who developed diabetes within five years, or a\n",
        "person that did not. There are eight attributes in addition to the column representing whether or not they developed diabetes:\n",
        "\n",
        "\n",
        "1.  The number of times the woman was pregnant\n",
        "2.  Plasma glucose concentration a 2 hours in an oral glucose tolerance test \n",
        "3.  Diastolic blood pressure (mm Hg)\n",
        "4.  Triceps skin fold thickness (mm) \n",
        "5.  2-Hour serum insulin (mu U/ml) \n",
        "6.  Body mass index (weight in kg/(height in m)^2) \n",
        "7.  Diabetes pedigree function \n",
        "8.  Age\n",
        "9.  Whether they got diabetes or not (0 = no, 1 = yes)\n",
        "\n",
        "\n",
        "<span style=\"color:red\">Please create a dataframe from the csv file at </span>\n",
        "\n",
        "    https://raw.githubusercontent.com/zacharski/ml-class/master/data/pima-indians-diabetes.csv\n",
        "    \n",
        "<span style=\"color:red\">This file does not have a header row</span>"
      ]
    },
    {
      "cell_type": "code",
      "metadata": {
        "id": "BvIaME3BVJk2",
        "colab_type": "code",
        "colab": {
          "base_uri": "https://localhost:8080/",
          "height": 68
        },
        "outputId": "abbe6c51-ccf1-41c4-bb15-6e5ef1d16eb8"
      },
      "source": [
        "#Your code here\n",
        "!curl https://raw.githubusercontent.com/zacharski/ml-class/master/data/pima-indians-diabetes.csv > localPimaIndiansDiabetes.csv   "
      ],
      "execution_count": 29,
      "outputs": [
        {
          "output_type": "stream",
          "text": [
            "  % Total    % Received % Xferd  Average Speed   Time    Time     Time  Current\n",
            "                                 Dload  Upload   Total   Spent    Left  Speed\n",
            "\r  0     0    0     0    0     0      0      0 --:--:-- --:--:-- --:--:--     0\r100 23279  100 23279    0     0   123k      0 --:--:-- --:--:-- --:--:--  123k\n"
          ],
          "name": "stdout"
        }
      ]
    },
    {
      "cell_type": "code",
      "metadata": {
        "id": "KcCRRrhXklJW",
        "colab_type": "code",
        "colab": {
          "base_uri": "https://localhost:8080/",
          "height": 436
        },
        "outputId": "7a390f60-c321-4796-81b6-bcd6eeaee485"
      },
      "source": [
        "pima_df = pd.read_csv('localPimaIndiansDiabetes.csv', names=['Times Pregnant', 'Plasma glucose concentration', 'Diastolic blood pressure', 'Triceps skin fold thickness', \n",
        "                                                             '2-Hour serum insulin', 'BMI', 'Diabetes pedigree function', 'Age', 'Has Diabetes'])\n",
        "pima_df"
      ],
      "execution_count": 30,
      "outputs": [
        {
          "output_type": "execute_result",
          "data": {
            "text/html": [
              "<div>\n",
              "<style scoped>\n",
              "    .dataframe tbody tr th:only-of-type {\n",
              "        vertical-align: middle;\n",
              "    }\n",
              "\n",
              "    .dataframe tbody tr th {\n",
              "        vertical-align: top;\n",
              "    }\n",
              "\n",
              "    .dataframe thead th {\n",
              "        text-align: right;\n",
              "    }\n",
              "</style>\n",
              "<table border=\"1\" class=\"dataframe\">\n",
              "  <thead>\n",
              "    <tr style=\"text-align: right;\">\n",
              "      <th></th>\n",
              "      <th>Times Pregnant</th>\n",
              "      <th>Plasma glucose concentration</th>\n",
              "      <th>Diastolic blood pressure</th>\n",
              "      <th>Triceps skin fold thickness</th>\n",
              "      <th>2-Hour serum insulin</th>\n",
              "      <th>BMI</th>\n",
              "      <th>Diabetes pedigree function</th>\n",
              "      <th>Age</th>\n",
              "      <th>Has Diabetes</th>\n",
              "    </tr>\n",
              "  </thead>\n",
              "  <tbody>\n",
              "    <tr>\n",
              "      <th>0</th>\n",
              "      <td>6</td>\n",
              "      <td>148</td>\n",
              "      <td>72</td>\n",
              "      <td>35</td>\n",
              "      <td>0</td>\n",
              "      <td>33.6</td>\n",
              "      <td>0.627</td>\n",
              "      <td>50</td>\n",
              "      <td>1</td>\n",
              "    </tr>\n",
              "    <tr>\n",
              "      <th>1</th>\n",
              "      <td>1</td>\n",
              "      <td>85</td>\n",
              "      <td>66</td>\n",
              "      <td>29</td>\n",
              "      <td>0</td>\n",
              "      <td>26.6</td>\n",
              "      <td>0.351</td>\n",
              "      <td>31</td>\n",
              "      <td>0</td>\n",
              "    </tr>\n",
              "    <tr>\n",
              "      <th>2</th>\n",
              "      <td>8</td>\n",
              "      <td>183</td>\n",
              "      <td>64</td>\n",
              "      <td>0</td>\n",
              "      <td>0</td>\n",
              "      <td>23.3</td>\n",
              "      <td>0.672</td>\n",
              "      <td>32</td>\n",
              "      <td>1</td>\n",
              "    </tr>\n",
              "    <tr>\n",
              "      <th>3</th>\n",
              "      <td>1</td>\n",
              "      <td>89</td>\n",
              "      <td>66</td>\n",
              "      <td>23</td>\n",
              "      <td>94</td>\n",
              "      <td>28.1</td>\n",
              "      <td>0.167</td>\n",
              "      <td>21</td>\n",
              "      <td>0</td>\n",
              "    </tr>\n",
              "    <tr>\n",
              "      <th>4</th>\n",
              "      <td>0</td>\n",
              "      <td>137</td>\n",
              "      <td>40</td>\n",
              "      <td>35</td>\n",
              "      <td>168</td>\n",
              "      <td>43.1</td>\n",
              "      <td>2.288</td>\n",
              "      <td>33</td>\n",
              "      <td>1</td>\n",
              "    </tr>\n",
              "    <tr>\n",
              "      <th>...</th>\n",
              "      <td>...</td>\n",
              "      <td>...</td>\n",
              "      <td>...</td>\n",
              "      <td>...</td>\n",
              "      <td>...</td>\n",
              "      <td>...</td>\n",
              "      <td>...</td>\n",
              "      <td>...</td>\n",
              "      <td>...</td>\n",
              "    </tr>\n",
              "    <tr>\n",
              "      <th>763</th>\n",
              "      <td>10</td>\n",
              "      <td>101</td>\n",
              "      <td>76</td>\n",
              "      <td>48</td>\n",
              "      <td>180</td>\n",
              "      <td>32.9</td>\n",
              "      <td>0.171</td>\n",
              "      <td>63</td>\n",
              "      <td>0</td>\n",
              "    </tr>\n",
              "    <tr>\n",
              "      <th>764</th>\n",
              "      <td>2</td>\n",
              "      <td>122</td>\n",
              "      <td>70</td>\n",
              "      <td>27</td>\n",
              "      <td>0</td>\n",
              "      <td>36.8</td>\n",
              "      <td>0.340</td>\n",
              "      <td>27</td>\n",
              "      <td>0</td>\n",
              "    </tr>\n",
              "    <tr>\n",
              "      <th>765</th>\n",
              "      <td>5</td>\n",
              "      <td>121</td>\n",
              "      <td>72</td>\n",
              "      <td>23</td>\n",
              "      <td>112</td>\n",
              "      <td>26.2</td>\n",
              "      <td>0.245</td>\n",
              "      <td>30</td>\n",
              "      <td>0</td>\n",
              "    </tr>\n",
              "    <tr>\n",
              "      <th>766</th>\n",
              "      <td>1</td>\n",
              "      <td>126</td>\n",
              "      <td>60</td>\n",
              "      <td>0</td>\n",
              "      <td>0</td>\n",
              "      <td>30.1</td>\n",
              "      <td>0.349</td>\n",
              "      <td>47</td>\n",
              "      <td>1</td>\n",
              "    </tr>\n",
              "    <tr>\n",
              "      <th>767</th>\n",
              "      <td>1</td>\n",
              "      <td>93</td>\n",
              "      <td>70</td>\n",
              "      <td>31</td>\n",
              "      <td>0</td>\n",
              "      <td>30.4</td>\n",
              "      <td>0.315</td>\n",
              "      <td>23</td>\n",
              "      <td>0</td>\n",
              "    </tr>\n",
              "  </tbody>\n",
              "</table>\n",
              "<p>768 rows × 9 columns</p>\n",
              "</div>"
            ],
            "text/plain": [
              "     Times Pregnant  Plasma glucose concentration  ...  Age  Has Diabetes\n",
              "0                 6                           148  ...   50             1\n",
              "1                 1                            85  ...   31             0\n",
              "2                 8                           183  ...   32             1\n",
              "3                 1                            89  ...   21             0\n",
              "4                 0                           137  ...   33             1\n",
              "..              ...                           ...  ...  ...           ...\n",
              "763              10                           101  ...   63             0\n",
              "764               2                           122  ...   27             0\n",
              "765               5                           121  ...   30             0\n",
              "766               1                           126  ...   47             1\n",
              "767               1                            93  ...   23             0\n",
              "\n",
              "[768 rows x 9 columns]"
            ]
          },
          "metadata": {
            "tags": []
          },
          "execution_count": 30
        }
      ]
    },
    {
      "cell_type": "markdown",
      "metadata": {
        "id": "CpLY3DReVJk7",
        "colab_type": "text"
      },
      "source": [
        "## Accessing data in a DataFrame\n",
        "We can get a column of a DataFrame by using the column name:"
      ]
    },
    {
      "cell_type": "code",
      "metadata": {
        "id": "vFzP_-rcVJk7",
        "colab_type": "code",
        "colab": {
          "base_uri": "https://localhost:8080/",
          "height": 510
        },
        "outputId": "25195e0b-4503-4bc8-c0e0-fc4a00e54fbf"
      },
      "source": [
        "athletes['Weight']"
      ],
      "execution_count": 31,
      "outputs": [
        {
          "output_type": "execute_result",
          "data": {
            "text/plain": [
              "0      66\n",
              "1     162\n",
              "2     204\n",
              "3      90\n",
              "4      99\n",
              "5     106\n",
              "6     175\n",
              "7     123\n",
              "8      68\n",
              "9     200\n",
              "10    163\n",
              "11     95\n",
              "12     77\n",
              "13    108\n",
              "14    155\n",
              "15    155\n",
              "16    108\n",
              "17    106\n",
              "18     97\n",
              "19     76\n",
              "20     99\n",
              "21    104\n",
              "22    101\n",
              "23    188\n",
              "24    166\n",
              "25     97\n",
              "26    106\n",
              "27    106\n",
              "Name: Weight, dtype: int64"
            ]
          },
          "metadata": {
            "tags": []
          },
          "execution_count": 31
        }
      ]
    },
    {
      "cell_type": "markdown",
      "metadata": {
        "id": "kdXn2lvQVJk-",
        "colab_type": "text"
      },
      "source": [
        "and we can get multiple columns by passing a list of column names"
      ]
    },
    {
      "cell_type": "code",
      "metadata": {
        "id": "_ZfqhCrZVJk-",
        "colab_type": "code",
        "colab": {
          "base_uri": "https://localhost:8080/",
          "height": 917
        },
        "outputId": "e5171386-4e63-4087-8373-fedc2d1a761d"
      },
      "source": [
        "athletes[['Weight', 'Height']]"
      ],
      "execution_count": 32,
      "outputs": [
        {
          "output_type": "execute_result",
          "data": {
            "text/html": [
              "<div>\n",
              "<style scoped>\n",
              "    .dataframe tbody tr th:only-of-type {\n",
              "        vertical-align: middle;\n",
              "    }\n",
              "\n",
              "    .dataframe tbody tr th {\n",
              "        vertical-align: top;\n",
              "    }\n",
              "\n",
              "    .dataframe thead th {\n",
              "        text-align: right;\n",
              "    }\n",
              "</style>\n",
              "<table border=\"1\" class=\"dataframe\">\n",
              "  <thead>\n",
              "    <tr style=\"text-align: right;\">\n",
              "      <th></th>\n",
              "      <th>Weight</th>\n",
              "      <th>Height</th>\n",
              "    </tr>\n",
              "  </thead>\n",
              "  <tbody>\n",
              "    <tr>\n",
              "      <th>0</th>\n",
              "      <td>66</td>\n",
              "      <td>54</td>\n",
              "    </tr>\n",
              "    <tr>\n",
              "      <th>1</th>\n",
              "      <td>162</td>\n",
              "      <td>72</td>\n",
              "    </tr>\n",
              "    <tr>\n",
              "      <th>2</th>\n",
              "      <td>204</td>\n",
              "      <td>78</td>\n",
              "    </tr>\n",
              "    <tr>\n",
              "      <th>3</th>\n",
              "      <td>90</td>\n",
              "      <td>49</td>\n",
              "    </tr>\n",
              "    <tr>\n",
              "      <th>4</th>\n",
              "      <td>99</td>\n",
              "      <td>65</td>\n",
              "    </tr>\n",
              "    <tr>\n",
              "      <th>5</th>\n",
              "      <td>106</td>\n",
              "      <td>63</td>\n",
              "    </tr>\n",
              "    <tr>\n",
              "      <th>6</th>\n",
              "      <td>175</td>\n",
              "      <td>75</td>\n",
              "    </tr>\n",
              "    <tr>\n",
              "      <th>7</th>\n",
              "      <td>123</td>\n",
              "      <td>67</td>\n",
              "    </tr>\n",
              "    <tr>\n",
              "      <th>8</th>\n",
              "      <td>68</td>\n",
              "      <td>54</td>\n",
              "    </tr>\n",
              "    <tr>\n",
              "      <th>9</th>\n",
              "      <td>200</td>\n",
              "      <td>76</td>\n",
              "    </tr>\n",
              "    <tr>\n",
              "      <th>10</th>\n",
              "      <td>163</td>\n",
              "      <td>68</td>\n",
              "    </tr>\n",
              "    <tr>\n",
              "      <th>11</th>\n",
              "      <td>95</td>\n",
              "      <td>61</td>\n",
              "    </tr>\n",
              "    <tr>\n",
              "      <th>12</th>\n",
              "      <td>77</td>\n",
              "      <td>58</td>\n",
              "    </tr>\n",
              "    <tr>\n",
              "      <th>13</th>\n",
              "      <td>108</td>\n",
              "      <td>70</td>\n",
              "    </tr>\n",
              "    <tr>\n",
              "      <th>14</th>\n",
              "      <td>155</td>\n",
              "      <td>70</td>\n",
              "    </tr>\n",
              "    <tr>\n",
              "      <th>15</th>\n",
              "      <td>155</td>\n",
              "      <td>70</td>\n",
              "    </tr>\n",
              "    <tr>\n",
              "      <th>16</th>\n",
              "      <td>108</td>\n",
              "      <td>63</td>\n",
              "    </tr>\n",
              "    <tr>\n",
              "      <th>17</th>\n",
              "      <td>106</td>\n",
              "      <td>65</td>\n",
              "    </tr>\n",
              "    <tr>\n",
              "      <th>18</th>\n",
              "      <td>97</td>\n",
              "      <td>66</td>\n",
              "    </tr>\n",
              "    <tr>\n",
              "      <th>19</th>\n",
              "      <td>76</td>\n",
              "      <td>61</td>\n",
              "    </tr>\n",
              "    <tr>\n",
              "      <th>20</th>\n",
              "      <td>99</td>\n",
              "      <td>64</td>\n",
              "    </tr>\n",
              "    <tr>\n",
              "      <th>21</th>\n",
              "      <td>104</td>\n",
              "      <td>57</td>\n",
              "    </tr>\n",
              "    <tr>\n",
              "      <th>22</th>\n",
              "      <td>101</td>\n",
              "      <td>62</td>\n",
              "    </tr>\n",
              "    <tr>\n",
              "      <th>23</th>\n",
              "      <td>188</td>\n",
              "      <td>77</td>\n",
              "    </tr>\n",
              "    <tr>\n",
              "      <th>24</th>\n",
              "      <td>166</td>\n",
              "      <td>72</td>\n",
              "    </tr>\n",
              "    <tr>\n",
              "      <th>25</th>\n",
              "      <td>97</td>\n",
              "      <td>61</td>\n",
              "    </tr>\n",
              "    <tr>\n",
              "      <th>26</th>\n",
              "      <td>106</td>\n",
              "      <td>65</td>\n",
              "    </tr>\n",
              "    <tr>\n",
              "      <th>27</th>\n",
              "      <td>106</td>\n",
              "      <td>60</td>\n",
              "    </tr>\n",
              "  </tbody>\n",
              "</table>\n",
              "</div>"
            ],
            "text/plain": [
              "    Weight  Height\n",
              "0       66      54\n",
              "1      162      72\n",
              "2      204      78\n",
              "3       90      49\n",
              "4       99      65\n",
              "5      106      63\n",
              "6      175      75\n",
              "7      123      67\n",
              "8       68      54\n",
              "9      200      76\n",
              "10     163      68\n",
              "11      95      61\n",
              "12      77      58\n",
              "13     108      70\n",
              "14     155      70\n",
              "15     155      70\n",
              "16     108      63\n",
              "17     106      65\n",
              "18      97      66\n",
              "19      76      61\n",
              "20      99      64\n",
              "21     104      57\n",
              "22     101      62\n",
              "23     188      77\n",
              "24     166      72\n",
              "25      97      61\n",
              "26     106      65\n",
              "27     106      60"
            ]
          },
          "metadata": {
            "tags": []
          },
          "execution_count": 32
        }
      ]
    },
    {
      "cell_type": "markdown",
      "metadata": {
        "id": "kCHue0ILVJlA",
        "colab_type": "text"
      },
      "source": [
        "<h3 style=\"color:red\">Q3. Pima Indians Diabetes Dataframe</h3>\n",
        "\n",
        "<span style=\"color:red\">Suppose we want to create a new dataframe `pima2` from the original one but with only the columns</span>\n",
        "\n",
        "\n",
        "\n",
        "1.  Plasma glucose concentration a 2 hours in an oral glucose tolerance test \n",
        "2.  2-Hour serum insulin (mu U/ml) \n",
        "3.  Body mass index (weight in kg/(height in m)^2) \n",
        "4.  Diabetes pedigree function \n",
        "5.  Age\n",
        "6.  Whether they got diabetes or not (0 = no, 1 = yes)\n",
        "\n",
        "\n",
        "<span style=\"color:red\">How would you do so?</span>\n"
      ]
    },
    {
      "cell_type": "code",
      "metadata": {
        "id": "j4x5Id-jVJlA",
        "colab_type": "code",
        "colab": {
          "base_uri": "https://localhost:8080/",
          "height": 419
        },
        "outputId": "0c0fb477-548d-45a5-ed99-5f10b69acaab"
      },
      "source": [
        "# your code here\n",
        "pima2 = pima_df[['Plasma glucose concentration', '2-Hour serum insulin', 'BMI', 'Diabetes pedigree function', 'Age', 'Has Diabetes']]\n",
        "pima2"
      ],
      "execution_count": 33,
      "outputs": [
        {
          "output_type": "execute_result",
          "data": {
            "text/html": [
              "<div>\n",
              "<style scoped>\n",
              "    .dataframe tbody tr th:only-of-type {\n",
              "        vertical-align: middle;\n",
              "    }\n",
              "\n",
              "    .dataframe tbody tr th {\n",
              "        vertical-align: top;\n",
              "    }\n",
              "\n",
              "    .dataframe thead th {\n",
              "        text-align: right;\n",
              "    }\n",
              "</style>\n",
              "<table border=\"1\" class=\"dataframe\">\n",
              "  <thead>\n",
              "    <tr style=\"text-align: right;\">\n",
              "      <th></th>\n",
              "      <th>Plasma glucose concentration</th>\n",
              "      <th>2-Hour serum insulin</th>\n",
              "      <th>BMI</th>\n",
              "      <th>Diabetes pedigree function</th>\n",
              "      <th>Age</th>\n",
              "      <th>Has Diabetes</th>\n",
              "    </tr>\n",
              "  </thead>\n",
              "  <tbody>\n",
              "    <tr>\n",
              "      <th>0</th>\n",
              "      <td>148</td>\n",
              "      <td>0</td>\n",
              "      <td>33.6</td>\n",
              "      <td>0.627</td>\n",
              "      <td>50</td>\n",
              "      <td>1</td>\n",
              "    </tr>\n",
              "    <tr>\n",
              "      <th>1</th>\n",
              "      <td>85</td>\n",
              "      <td>0</td>\n",
              "      <td>26.6</td>\n",
              "      <td>0.351</td>\n",
              "      <td>31</td>\n",
              "      <td>0</td>\n",
              "    </tr>\n",
              "    <tr>\n",
              "      <th>2</th>\n",
              "      <td>183</td>\n",
              "      <td>0</td>\n",
              "      <td>23.3</td>\n",
              "      <td>0.672</td>\n",
              "      <td>32</td>\n",
              "      <td>1</td>\n",
              "    </tr>\n",
              "    <tr>\n",
              "      <th>3</th>\n",
              "      <td>89</td>\n",
              "      <td>94</td>\n",
              "      <td>28.1</td>\n",
              "      <td>0.167</td>\n",
              "      <td>21</td>\n",
              "      <td>0</td>\n",
              "    </tr>\n",
              "    <tr>\n",
              "      <th>4</th>\n",
              "      <td>137</td>\n",
              "      <td>168</td>\n",
              "      <td>43.1</td>\n",
              "      <td>2.288</td>\n",
              "      <td>33</td>\n",
              "      <td>1</td>\n",
              "    </tr>\n",
              "    <tr>\n",
              "      <th>...</th>\n",
              "      <td>...</td>\n",
              "      <td>...</td>\n",
              "      <td>...</td>\n",
              "      <td>...</td>\n",
              "      <td>...</td>\n",
              "      <td>...</td>\n",
              "    </tr>\n",
              "    <tr>\n",
              "      <th>763</th>\n",
              "      <td>101</td>\n",
              "      <td>180</td>\n",
              "      <td>32.9</td>\n",
              "      <td>0.171</td>\n",
              "      <td>63</td>\n",
              "      <td>0</td>\n",
              "    </tr>\n",
              "    <tr>\n",
              "      <th>764</th>\n",
              "      <td>122</td>\n",
              "      <td>0</td>\n",
              "      <td>36.8</td>\n",
              "      <td>0.340</td>\n",
              "      <td>27</td>\n",
              "      <td>0</td>\n",
              "    </tr>\n",
              "    <tr>\n",
              "      <th>765</th>\n",
              "      <td>121</td>\n",
              "      <td>112</td>\n",
              "      <td>26.2</td>\n",
              "      <td>0.245</td>\n",
              "      <td>30</td>\n",
              "      <td>0</td>\n",
              "    </tr>\n",
              "    <tr>\n",
              "      <th>766</th>\n",
              "      <td>126</td>\n",
              "      <td>0</td>\n",
              "      <td>30.1</td>\n",
              "      <td>0.349</td>\n",
              "      <td>47</td>\n",
              "      <td>1</td>\n",
              "    </tr>\n",
              "    <tr>\n",
              "      <th>767</th>\n",
              "      <td>93</td>\n",
              "      <td>0</td>\n",
              "      <td>30.4</td>\n",
              "      <td>0.315</td>\n",
              "      <td>23</td>\n",
              "      <td>0</td>\n",
              "    </tr>\n",
              "  </tbody>\n",
              "</table>\n",
              "<p>768 rows × 6 columns</p>\n",
              "</div>"
            ],
            "text/plain": [
              "     Plasma glucose concentration  2-Hour serum insulin  ...  Age  Has Diabetes\n",
              "0                             148                     0  ...   50             1\n",
              "1                              85                     0  ...   31             0\n",
              "2                             183                     0  ...   32             1\n",
              "3                              89                    94  ...   21             0\n",
              "4                             137                   168  ...   33             1\n",
              "..                            ...                   ...  ...  ...           ...\n",
              "763                           101                   180  ...   63             0\n",
              "764                           122                     0  ...   27             0\n",
              "765                           121                   112  ...   30             0\n",
              "766                           126                     0  ...   47             1\n",
              "767                            93                     0  ...   23             0\n",
              "\n",
              "[768 rows x 6 columns]"
            ]
          },
          "metadata": {
            "tags": []
          },
          "execution_count": 33
        }
      ]
    },
    {
      "cell_type": "markdown",
      "metadata": {
        "id": "w9FOVLubVJlC",
        "colab_type": "text"
      },
      "source": [
        "### Returning rows\n",
        "\n",
        "To get a row we can use the `loc` function"
      ]
    },
    {
      "cell_type": "code",
      "metadata": {
        "id": "FIny-YaeVJlD",
        "colab_type": "code",
        "colab": {
          "base_uri": "https://localhost:8080/",
          "height": 102
        },
        "outputId": "b6779e0c-45bc-47d1-89b6-f786e623e2da"
      },
      "source": [
        "athletes.loc[0]"
      ],
      "execution_count": 34,
      "outputs": [
        {
          "output_type": "execute_result",
          "data": {
            "text/plain": [
              "Name      Asuka Teramoto\n",
              "Sport         Gymnastics\n",
              "Height                54\n",
              "Weight                66\n",
              "Name: 0, dtype: object"
            ]
          },
          "metadata": {
            "tags": []
          },
          "execution_count": 34
        }
      ]
    },
    {
      "cell_type": "markdown",
      "metadata": {
        "id": "f5uZe1A3VJlF",
        "colab_type": "text"
      },
      "source": [
        "We can also get rows that match a specific criterion. For example:"
      ]
    },
    {
      "cell_type": "code",
      "metadata": {
        "id": "9fL8pckFVJlG",
        "colab_type": "code",
        "colab": {
          "base_uri": "https://localhost:8080/",
          "height": 328
        },
        "outputId": "1924515b-4bef-4624-eb4c-b30538ade4d1"
      },
      "source": [
        "basketballPlayers = athletes.loc[athletes['Sport'] == 'Basketball']\n",
        "basketballPlayers"
      ],
      "execution_count": 35,
      "outputs": [
        {
          "output_type": "execute_result",
          "data": {
            "text/html": [
              "<div>\n",
              "<style scoped>\n",
              "    .dataframe tbody tr th:only-of-type {\n",
              "        vertical-align: middle;\n",
              "    }\n",
              "\n",
              "    .dataframe tbody tr th {\n",
              "        vertical-align: top;\n",
              "    }\n",
              "\n",
              "    .dataframe thead th {\n",
              "        text-align: right;\n",
              "    }\n",
              "</style>\n",
              "<table border=\"1\" class=\"dataframe\">\n",
              "  <thead>\n",
              "    <tr style=\"text-align: right;\">\n",
              "      <th></th>\n",
              "      <th>Name</th>\n",
              "      <th>Sport</th>\n",
              "      <th>Height</th>\n",
              "      <th>Weight</th>\n",
              "    </tr>\n",
              "  </thead>\n",
              "  <tbody>\n",
              "    <tr>\n",
              "      <th>1</th>\n",
              "      <td>Brittainey Raven</td>\n",
              "      <td>Basketball</td>\n",
              "      <td>72</td>\n",
              "      <td>162</td>\n",
              "    </tr>\n",
              "    <tr>\n",
              "      <th>2</th>\n",
              "      <td>Chen Nan</td>\n",
              "      <td>Basketball</td>\n",
              "      <td>78</td>\n",
              "      <td>204</td>\n",
              "    </tr>\n",
              "    <tr>\n",
              "      <th>6</th>\n",
              "      <td>Jennifer Lacy</td>\n",
              "      <td>Basketball</td>\n",
              "      <td>75</td>\n",
              "      <td>175</td>\n",
              "    </tr>\n",
              "    <tr>\n",
              "      <th>9</th>\n",
              "      <td>Nakia Sanford</td>\n",
              "      <td>Basketball</td>\n",
              "      <td>76</td>\n",
              "      <td>200</td>\n",
              "    </tr>\n",
              "    <tr>\n",
              "      <th>10</th>\n",
              "      <td>Nikki Blue</td>\n",
              "      <td>Basketball</td>\n",
              "      <td>68</td>\n",
              "      <td>163</td>\n",
              "    </tr>\n",
              "    <tr>\n",
              "      <th>14</th>\n",
              "      <td>Shanna Crossley</td>\n",
              "      <td>Basketball</td>\n",
              "      <td>70</td>\n",
              "      <td>155</td>\n",
              "    </tr>\n",
              "    <tr>\n",
              "      <th>15</th>\n",
              "      <td>Shavonte Zellous</td>\n",
              "      <td>Basketball</td>\n",
              "      <td>70</td>\n",
              "      <td>155</td>\n",
              "    </tr>\n",
              "    <tr>\n",
              "      <th>23</th>\n",
              "      <td>Elena Delle Donne</td>\n",
              "      <td>Basketball</td>\n",
              "      <td>77</td>\n",
              "      <td>188</td>\n",
              "    </tr>\n",
              "    <tr>\n",
              "      <th>24</th>\n",
              "      <td>Seimone Augustus</td>\n",
              "      <td>Basketball</td>\n",
              "      <td>72</td>\n",
              "      <td>166</td>\n",
              "    </tr>\n",
              "  </tbody>\n",
              "</table>\n",
              "</div>"
            ],
            "text/plain": [
              "                 Name       Sport  Height  Weight\n",
              "1    Brittainey Raven  Basketball      72     162\n",
              "2            Chen Nan  Basketball      78     204\n",
              "6       Jennifer Lacy  Basketball      75     175\n",
              "9       Nakia Sanford  Basketball      76     200\n",
              "10         Nikki Blue  Basketball      68     163\n",
              "14    Shanna Crossley  Basketball      70     155\n",
              "15   Shavonte Zellous  Basketball      70     155\n",
              "23  Elena Delle Donne  Basketball      77     188\n",
              "24   Seimone Augustus  Basketball      72     166"
            ]
          },
          "metadata": {
            "tags": []
          },
          "execution_count": 35
        }
      ]
    },
    {
      "cell_type": "code",
      "metadata": {
        "id": "btzhjaq0VJlI",
        "colab_type": "code",
        "colab": {
          "base_uri": "https://localhost:8080/",
          "height": 173
        },
        "outputId": "8ec2434c-2e4f-43c5-cb5d-0db6ef301e90"
      },
      "source": [
        "tallBasketballPlayers = athletes.loc[(athletes['Sport'] == 'Basketball') & (athletes['Height'] > 72)]\n",
        "tallBasketballPlayers"
      ],
      "execution_count": 36,
      "outputs": [
        {
          "output_type": "execute_result",
          "data": {
            "text/html": [
              "<div>\n",
              "<style scoped>\n",
              "    .dataframe tbody tr th:only-of-type {\n",
              "        vertical-align: middle;\n",
              "    }\n",
              "\n",
              "    .dataframe tbody tr th {\n",
              "        vertical-align: top;\n",
              "    }\n",
              "\n",
              "    .dataframe thead th {\n",
              "        text-align: right;\n",
              "    }\n",
              "</style>\n",
              "<table border=\"1\" class=\"dataframe\">\n",
              "  <thead>\n",
              "    <tr style=\"text-align: right;\">\n",
              "      <th></th>\n",
              "      <th>Name</th>\n",
              "      <th>Sport</th>\n",
              "      <th>Height</th>\n",
              "      <th>Weight</th>\n",
              "    </tr>\n",
              "  </thead>\n",
              "  <tbody>\n",
              "    <tr>\n",
              "      <th>2</th>\n",
              "      <td>Chen Nan</td>\n",
              "      <td>Basketball</td>\n",
              "      <td>78</td>\n",
              "      <td>204</td>\n",
              "    </tr>\n",
              "    <tr>\n",
              "      <th>6</th>\n",
              "      <td>Jennifer Lacy</td>\n",
              "      <td>Basketball</td>\n",
              "      <td>75</td>\n",
              "      <td>175</td>\n",
              "    </tr>\n",
              "    <tr>\n",
              "      <th>9</th>\n",
              "      <td>Nakia Sanford</td>\n",
              "      <td>Basketball</td>\n",
              "      <td>76</td>\n",
              "      <td>200</td>\n",
              "    </tr>\n",
              "    <tr>\n",
              "      <th>23</th>\n",
              "      <td>Elena Delle Donne</td>\n",
              "      <td>Basketball</td>\n",
              "      <td>77</td>\n",
              "      <td>188</td>\n",
              "    </tr>\n",
              "  </tbody>\n",
              "</table>\n",
              "</div>"
            ],
            "text/plain": [
              "                 Name       Sport  Height  Weight\n",
              "2            Chen Nan  Basketball      78     204\n",
              "6       Jennifer Lacy  Basketball      75     175\n",
              "9       Nakia Sanford  Basketball      76     200\n",
              "23  Elena Delle Donne  Basketball      77     188"
            ]
          },
          "metadata": {
            "tags": []
          },
          "execution_count": 36
        }
      ]
    },
    {
      "cell_type": "markdown",
      "metadata": {
        "id": "LFWaIDkjVJlL",
        "colab_type": "text"
      },
      "source": [
        "<span style=\"color:red\">How would we create a new DataFrame that has all the athletes who weight under 100 pounds?</span>"
      ]
    },
    {
      "cell_type": "code",
      "metadata": {
        "id": "ehVkBZrKVJlM",
        "colab_type": "code",
        "colab": {
          "base_uri": "https://localhost:8080/",
          "height": 359
        },
        "outputId": "948f816c-c677-4ce7-fdb9-ec812346fd61"
      },
      "source": [
        "lightAthletes = athletes.loc[(athletes['Weight'] < 100)]\n",
        "lightAthletes"
      ],
      "execution_count": 37,
      "outputs": [
        {
          "output_type": "execute_result",
          "data": {
            "text/html": [
              "<div>\n",
              "<style scoped>\n",
              "    .dataframe tbody tr th:only-of-type {\n",
              "        vertical-align: middle;\n",
              "    }\n",
              "\n",
              "    .dataframe tbody tr th {\n",
              "        vertical-align: top;\n",
              "    }\n",
              "\n",
              "    .dataframe thead th {\n",
              "        text-align: right;\n",
              "    }\n",
              "</style>\n",
              "<table border=\"1\" class=\"dataframe\">\n",
              "  <thead>\n",
              "    <tr style=\"text-align: right;\">\n",
              "      <th></th>\n",
              "      <th>Name</th>\n",
              "      <th>Sport</th>\n",
              "      <th>Height</th>\n",
              "      <th>Weight</th>\n",
              "    </tr>\n",
              "  </thead>\n",
              "  <tbody>\n",
              "    <tr>\n",
              "      <th>0</th>\n",
              "      <td>Asuka Teramoto</td>\n",
              "      <td>Gymnastics</td>\n",
              "      <td>54</td>\n",
              "      <td>66</td>\n",
              "    </tr>\n",
              "    <tr>\n",
              "      <th>3</th>\n",
              "      <td>Gabby Douglas</td>\n",
              "      <td>Gymnastics</td>\n",
              "      <td>49</td>\n",
              "      <td>90</td>\n",
              "    </tr>\n",
              "    <tr>\n",
              "      <th>4</th>\n",
              "      <td>Helalia Johannes</td>\n",
              "      <td>Track</td>\n",
              "      <td>65</td>\n",
              "      <td>99</td>\n",
              "    </tr>\n",
              "    <tr>\n",
              "      <th>8</th>\n",
              "      <td>Linlin Deng</td>\n",
              "      <td>Gymnastics</td>\n",
              "      <td>54</td>\n",
              "      <td>68</td>\n",
              "    </tr>\n",
              "    <tr>\n",
              "      <th>11</th>\n",
              "      <td>Qiushuang Huang</td>\n",
              "      <td>Gymnastics</td>\n",
              "      <td>61</td>\n",
              "      <td>95</td>\n",
              "    </tr>\n",
              "    <tr>\n",
              "      <th>12</th>\n",
              "      <td>Rebecca Tunney</td>\n",
              "      <td>Gymnastics</td>\n",
              "      <td>58</td>\n",
              "      <td>77</td>\n",
              "    </tr>\n",
              "    <tr>\n",
              "      <th>18</th>\n",
              "      <td>Valeria Straneo</td>\n",
              "      <td>Track</td>\n",
              "      <td>66</td>\n",
              "      <td>97</td>\n",
              "    </tr>\n",
              "    <tr>\n",
              "      <th>19</th>\n",
              "      <td>Viktoria Komova</td>\n",
              "      <td>Gymnastics</td>\n",
              "      <td>61</td>\n",
              "      <td>76</td>\n",
              "    </tr>\n",
              "    <tr>\n",
              "      <th>20</th>\n",
              "      <td>Amy Cragg</td>\n",
              "      <td>Track</td>\n",
              "      <td>64</td>\n",
              "      <td>99</td>\n",
              "    </tr>\n",
              "    <tr>\n",
              "      <th>25</th>\n",
              "      <td>Desiree Linden</td>\n",
              "      <td>Track</td>\n",
              "      <td>61</td>\n",
              "      <td>97</td>\n",
              "    </tr>\n",
              "  </tbody>\n",
              "</table>\n",
              "</div>"
            ],
            "text/plain": [
              "                Name       Sport  Height  Weight\n",
              "0     Asuka Teramoto  Gymnastics      54      66\n",
              "3      Gabby Douglas  Gymnastics      49      90\n",
              "4   Helalia Johannes       Track      65      99\n",
              "8        Linlin Deng  Gymnastics      54      68\n",
              "11   Qiushuang Huang  Gymnastics      61      95\n",
              "12    Rebecca Tunney  Gymnastics      58      77\n",
              "18   Valeria Straneo       Track      66      97\n",
              "19   Viktoria Komova  Gymnastics      61      76\n",
              "20         Amy Cragg       Track      64      99\n",
              "25    Desiree Linden       Track      61      97"
            ]
          },
          "metadata": {
            "tags": []
          },
          "execution_count": 37
        }
      ]
    },
    {
      "cell_type": "markdown",
      "metadata": {
        "id": "_lOkL9sGVJlP",
        "colab_type": "text"
      },
      "source": [
        "We can add columns to a DataFrame.\n",
        "For example the formula for Body Mass Index is\n",
        "\n",
        "$$BMI = \\frac{weightInPounds}{heightInInches^2} \\times 703 $$"
      ]
    },
    {
      "cell_type": "code",
      "metadata": {
        "id": "iYE7fJwCVJlQ",
        "colab_type": "code",
        "colab": {}
      },
      "source": [
        "athletes['bmi'] = 703 *athletes['Weight'] / (athletes['Height']**2) "
      ],
      "execution_count": 38,
      "outputs": []
    },
    {
      "cell_type": "code",
      "metadata": {
        "id": "MCtahaxiVJlS",
        "colab_type": "code",
        "colab": {
          "base_uri": "https://localhost:8080/",
          "height": 917
        },
        "outputId": "1f5f9ebb-453d-4366-c665-3982ff517fb0"
      },
      "source": [
        "athletes"
      ],
      "execution_count": 39,
      "outputs": [
        {
          "output_type": "execute_result",
          "data": {
            "text/html": [
              "<div>\n",
              "<style scoped>\n",
              "    .dataframe tbody tr th:only-of-type {\n",
              "        vertical-align: middle;\n",
              "    }\n",
              "\n",
              "    .dataframe tbody tr th {\n",
              "        vertical-align: top;\n",
              "    }\n",
              "\n",
              "    .dataframe thead th {\n",
              "        text-align: right;\n",
              "    }\n",
              "</style>\n",
              "<table border=\"1\" class=\"dataframe\">\n",
              "  <thead>\n",
              "    <tr style=\"text-align: right;\">\n",
              "      <th></th>\n",
              "      <th>Name</th>\n",
              "      <th>Sport</th>\n",
              "      <th>Height</th>\n",
              "      <th>Weight</th>\n",
              "      <th>bmi</th>\n",
              "    </tr>\n",
              "  </thead>\n",
              "  <tbody>\n",
              "    <tr>\n",
              "      <th>0</th>\n",
              "      <td>Asuka Teramoto</td>\n",
              "      <td>Gymnastics</td>\n",
              "      <td>54</td>\n",
              "      <td>66</td>\n",
              "      <td>15.911523</td>\n",
              "    </tr>\n",
              "    <tr>\n",
              "      <th>1</th>\n",
              "      <td>Brittainey Raven</td>\n",
              "      <td>Basketball</td>\n",
              "      <td>72</td>\n",
              "      <td>162</td>\n",
              "      <td>21.968750</td>\n",
              "    </tr>\n",
              "    <tr>\n",
              "      <th>2</th>\n",
              "      <td>Chen Nan</td>\n",
              "      <td>Basketball</td>\n",
              "      <td>78</td>\n",
              "      <td>204</td>\n",
              "      <td>23.571992</td>\n",
              "    </tr>\n",
              "    <tr>\n",
              "      <th>3</th>\n",
              "      <td>Gabby Douglas</td>\n",
              "      <td>Gymnastics</td>\n",
              "      <td>49</td>\n",
              "      <td>90</td>\n",
              "      <td>26.351520</td>\n",
              "    </tr>\n",
              "    <tr>\n",
              "      <th>4</th>\n",
              "      <td>Helalia Johannes</td>\n",
              "      <td>Track</td>\n",
              "      <td>65</td>\n",
              "      <td>99</td>\n",
              "      <td>16.472663</td>\n",
              "    </tr>\n",
              "    <tr>\n",
              "      <th>5</th>\n",
              "      <td>Irina Miketenko</td>\n",
              "      <td>Track</td>\n",
              "      <td>63</td>\n",
              "      <td>106</td>\n",
              "      <td>18.775006</td>\n",
              "    </tr>\n",
              "    <tr>\n",
              "      <th>6</th>\n",
              "      <td>Jennifer Lacy</td>\n",
              "      <td>Basketball</td>\n",
              "      <td>75</td>\n",
              "      <td>175</td>\n",
              "      <td>21.871111</td>\n",
              "    </tr>\n",
              "    <tr>\n",
              "      <th>7</th>\n",
              "      <td>Kara Goucher</td>\n",
              "      <td>Track</td>\n",
              "      <td>67</td>\n",
              "      <td>123</td>\n",
              "      <td>19.262419</td>\n",
              "    </tr>\n",
              "    <tr>\n",
              "      <th>8</th>\n",
              "      <td>Linlin Deng</td>\n",
              "      <td>Gymnastics</td>\n",
              "      <td>54</td>\n",
              "      <td>68</td>\n",
              "      <td>16.393690</td>\n",
              "    </tr>\n",
              "    <tr>\n",
              "      <th>9</th>\n",
              "      <td>Nakia Sanford</td>\n",
              "      <td>Basketball</td>\n",
              "      <td>76</td>\n",
              "      <td>200</td>\n",
              "      <td>24.342105</td>\n",
              "    </tr>\n",
              "    <tr>\n",
              "      <th>10</th>\n",
              "      <td>Nikki Blue</td>\n",
              "      <td>Basketball</td>\n",
              "      <td>68</td>\n",
              "      <td>163</td>\n",
              "      <td>24.781358</td>\n",
              "    </tr>\n",
              "    <tr>\n",
              "      <th>11</th>\n",
              "      <td>Qiushuang Huang</td>\n",
              "      <td>Gymnastics</td>\n",
              "      <td>61</td>\n",
              "      <td>95</td>\n",
              "      <td>17.948132</td>\n",
              "    </tr>\n",
              "    <tr>\n",
              "      <th>12</th>\n",
              "      <td>Rebecca Tunney</td>\n",
              "      <td>Gymnastics</td>\n",
              "      <td>58</td>\n",
              "      <td>77</td>\n",
              "      <td>16.091260</td>\n",
              "    </tr>\n",
              "    <tr>\n",
              "      <th>13</th>\n",
              "      <td>Rene Kalmer</td>\n",
              "      <td>Track</td>\n",
              "      <td>70</td>\n",
              "      <td>108</td>\n",
              "      <td>15.494694</td>\n",
              "    </tr>\n",
              "    <tr>\n",
              "      <th>14</th>\n",
              "      <td>Shanna Crossley</td>\n",
              "      <td>Basketball</td>\n",
              "      <td>70</td>\n",
              "      <td>155</td>\n",
              "      <td>22.237755</td>\n",
              "    </tr>\n",
              "    <tr>\n",
              "      <th>15</th>\n",
              "      <td>Shavonte Zellous</td>\n",
              "      <td>Basketball</td>\n",
              "      <td>70</td>\n",
              "      <td>155</td>\n",
              "      <td>22.237755</td>\n",
              "    </tr>\n",
              "    <tr>\n",
              "      <th>16</th>\n",
              "      <td>Tatyana Petrova</td>\n",
              "      <td>Track</td>\n",
              "      <td>63</td>\n",
              "      <td>108</td>\n",
              "      <td>19.129252</td>\n",
              "    </tr>\n",
              "    <tr>\n",
              "      <th>17</th>\n",
              "      <td>Tiki Gelana</td>\n",
              "      <td>Track</td>\n",
              "      <td>65</td>\n",
              "      <td>106</td>\n",
              "      <td>17.637396</td>\n",
              "    </tr>\n",
              "    <tr>\n",
              "      <th>18</th>\n",
              "      <td>Valeria Straneo</td>\n",
              "      <td>Track</td>\n",
              "      <td>66</td>\n",
              "      <td>97</td>\n",
              "      <td>15.654500</td>\n",
              "    </tr>\n",
              "    <tr>\n",
              "      <th>19</th>\n",
              "      <td>Viktoria Komova</td>\n",
              "      <td>Gymnastics</td>\n",
              "      <td>61</td>\n",
              "      <td>76</td>\n",
              "      <td>14.358506</td>\n",
              "    </tr>\n",
              "    <tr>\n",
              "      <th>20</th>\n",
              "      <td>Amy Cragg</td>\n",
              "      <td>Track</td>\n",
              "      <td>64</td>\n",
              "      <td>99</td>\n",
              "      <td>16.991455</td>\n",
              "    </tr>\n",
              "    <tr>\n",
              "      <th>21</th>\n",
              "      <td>Simone Biles</td>\n",
              "      <td>Gymnastics</td>\n",
              "      <td>57</td>\n",
              "      <td>104</td>\n",
              "      <td>22.502924</td>\n",
              "    </tr>\n",
              "    <tr>\n",
              "      <th>22</th>\n",
              "      <td>Madison Kocian</td>\n",
              "      <td>Gymnastics</td>\n",
              "      <td>62</td>\n",
              "      <td>101</td>\n",
              "      <td>18.471124</td>\n",
              "    </tr>\n",
              "    <tr>\n",
              "      <th>23</th>\n",
              "      <td>Elena Delle Donne</td>\n",
              "      <td>Basketball</td>\n",
              "      <td>77</td>\n",
              "      <td>188</td>\n",
              "      <td>22.291111</td>\n",
              "    </tr>\n",
              "    <tr>\n",
              "      <th>24</th>\n",
              "      <td>Seimone Augustus</td>\n",
              "      <td>Basketball</td>\n",
              "      <td>72</td>\n",
              "      <td>166</td>\n",
              "      <td>22.511188</td>\n",
              "    </tr>\n",
              "    <tr>\n",
              "      <th>25</th>\n",
              "      <td>Desiree Linden</td>\n",
              "      <td>Track</td>\n",
              "      <td>61</td>\n",
              "      <td>97</td>\n",
              "      <td>18.325988</td>\n",
              "    </tr>\n",
              "    <tr>\n",
              "      <th>26</th>\n",
              "      <td>Shalane Flanagan</td>\n",
              "      <td>Track</td>\n",
              "      <td>65</td>\n",
              "      <td>106</td>\n",
              "      <td>17.637396</td>\n",
              "    </tr>\n",
              "    <tr>\n",
              "      <th>27</th>\n",
              "      <td>Laurie Hernandez</td>\n",
              "      <td>Gymnastics</td>\n",
              "      <td>60</td>\n",
              "      <td>106</td>\n",
              "      <td>20.699444</td>\n",
              "    </tr>\n",
              "  </tbody>\n",
              "</table>\n",
              "</div>"
            ],
            "text/plain": [
              "                 Name       Sport  Height  Weight        bmi\n",
              "0      Asuka Teramoto  Gymnastics      54      66  15.911523\n",
              "1    Brittainey Raven  Basketball      72     162  21.968750\n",
              "2            Chen Nan  Basketball      78     204  23.571992\n",
              "3       Gabby Douglas  Gymnastics      49      90  26.351520\n",
              "4    Helalia Johannes       Track      65      99  16.472663\n",
              "5     Irina Miketenko       Track      63     106  18.775006\n",
              "6       Jennifer Lacy  Basketball      75     175  21.871111\n",
              "7        Kara Goucher       Track      67     123  19.262419\n",
              "8         Linlin Deng  Gymnastics      54      68  16.393690\n",
              "9       Nakia Sanford  Basketball      76     200  24.342105\n",
              "10         Nikki Blue  Basketball      68     163  24.781358\n",
              "11    Qiushuang Huang  Gymnastics      61      95  17.948132\n",
              "12     Rebecca Tunney  Gymnastics      58      77  16.091260\n",
              "13        Rene Kalmer       Track      70     108  15.494694\n",
              "14    Shanna Crossley  Basketball      70     155  22.237755\n",
              "15   Shavonte Zellous  Basketball      70     155  22.237755\n",
              "16    Tatyana Petrova       Track      63     108  19.129252\n",
              "17        Tiki Gelana       Track      65     106  17.637396\n",
              "18    Valeria Straneo       Track      66      97  15.654500\n",
              "19    Viktoria Komova  Gymnastics      61      76  14.358506\n",
              "20          Amy Cragg       Track      64      99  16.991455\n",
              "21       Simone Biles  Gymnastics      57     104  22.502924\n",
              "22     Madison Kocian  Gymnastics      62     101  18.471124\n",
              "23  Elena Delle Donne  Basketball      77     188  22.291111\n",
              "24   Seimone Augustus  Basketball      72     166  22.511188\n",
              "25     Desiree Linden       Track      61      97  18.325988\n",
              "26   Shalane Flanagan       Track      65     106  17.637396\n",
              "27   Laurie Hernandez  Gymnastics      60     106  20.699444"
            ]
          },
          "metadata": {
            "tags": []
          },
          "execution_count": 39
        }
      ]
    },
    {
      "cell_type": "markdown",
      "metadata": {
        "id": "PvEOx8y8VJlW",
        "colab_type": "text"
      },
      "source": [
        "## Descriptive Statistics on DataFrames\n",
        "One handy function is `describe`"
      ]
    },
    {
      "cell_type": "code",
      "metadata": {
        "id": "qxZLYvw9VJlX",
        "colab_type": "code",
        "colab": {
          "base_uri": "https://localhost:8080/",
          "height": 297
        },
        "outputId": "13804ad2-df0c-426a-8327-6ec00d51c5b3"
      },
      "source": [
        "athletes.describe()"
      ],
      "execution_count": 40,
      "outputs": [
        {
          "output_type": "execute_result",
          "data": {
            "text/html": [
              "<div>\n",
              "<style scoped>\n",
              "    .dataframe tbody tr th:only-of-type {\n",
              "        vertical-align: middle;\n",
              "    }\n",
              "\n",
              "    .dataframe tbody tr th {\n",
              "        vertical-align: top;\n",
              "    }\n",
              "\n",
              "    .dataframe thead th {\n",
              "        text-align: right;\n",
              "    }\n",
              "</style>\n",
              "<table border=\"1\" class=\"dataframe\">\n",
              "  <thead>\n",
              "    <tr style=\"text-align: right;\">\n",
              "      <th></th>\n",
              "      <th>Height</th>\n",
              "      <th>Weight</th>\n",
              "      <th>bmi</th>\n",
              "    </tr>\n",
              "  </thead>\n",
              "  <tbody>\n",
              "    <tr>\n",
              "      <th>count</th>\n",
              "      <td>28.000000</td>\n",
              "      <td>28.000000</td>\n",
              "      <td>28.000000</td>\n",
              "    </tr>\n",
              "    <tr>\n",
              "      <th>mean</th>\n",
              "      <td>65.107143</td>\n",
              "      <td>121.428571</td>\n",
              "      <td>19.640072</td>\n",
              "    </tr>\n",
              "    <tr>\n",
              "      <th>std</th>\n",
              "      <td>7.258912</td>\n",
              "      <td>40.274455</td>\n",
              "      <td>3.264325</td>\n",
              "    </tr>\n",
              "    <tr>\n",
              "      <th>min</th>\n",
              "      <td>49.000000</td>\n",
              "      <td>66.000000</td>\n",
              "      <td>14.358506</td>\n",
              "    </tr>\n",
              "    <tr>\n",
              "      <th>25%</th>\n",
              "      <td>61.000000</td>\n",
              "      <td>97.000000</td>\n",
              "      <td>16.861757</td>\n",
              "    </tr>\n",
              "    <tr>\n",
              "      <th>50%</th>\n",
              "      <td>65.000000</td>\n",
              "      <td>106.000000</td>\n",
              "      <td>18.952129</td>\n",
              "    </tr>\n",
              "    <tr>\n",
              "      <th>75%</th>\n",
              "      <td>70.000000</td>\n",
              "      <td>156.750000</td>\n",
              "      <td>22.251094</td>\n",
              "    </tr>\n",
              "    <tr>\n",
              "      <th>max</th>\n",
              "      <td>78.000000</td>\n",
              "      <td>204.000000</td>\n",
              "      <td>26.351520</td>\n",
              "    </tr>\n",
              "  </tbody>\n",
              "</table>\n",
              "</div>"
            ],
            "text/plain": [
              "          Height      Weight        bmi\n",
              "count  28.000000   28.000000  28.000000\n",
              "mean   65.107143  121.428571  19.640072\n",
              "std     7.258912   40.274455   3.264325\n",
              "min    49.000000   66.000000  14.358506\n",
              "25%    61.000000   97.000000  16.861757\n",
              "50%    65.000000  106.000000  18.952129\n",
              "75%    70.000000  156.750000  22.251094\n",
              "max    78.000000  204.000000  26.351520"
            ]
          },
          "metadata": {
            "tags": []
          },
          "execution_count": 40
        }
      ]
    },
    {
      "cell_type": "markdown",
      "metadata": {
        "id": "ywVuve6qVJla",
        "colab_type": "text"
      },
      "source": [
        "Alternatively, I could ask for a specific statistic:\n"
      ]
    },
    {
      "cell_type": "code",
      "metadata": {
        "id": "D6fFtF3EVJla",
        "colab_type": "code",
        "colab": {
          "base_uri": "https://localhost:8080/",
          "height": 34
        },
        "outputId": "e8322c37-8cad-4869-d44b-bc52105d4025"
      },
      "source": [
        "athletes['Weight'].mean()"
      ],
      "execution_count": 41,
      "outputs": [
        {
          "output_type": "execute_result",
          "data": {
            "text/plain": [
              "121.42857142857143"
            ]
          },
          "metadata": {
            "tags": []
          },
          "execution_count": 41
        }
      ]
    },
    {
      "cell_type": "code",
      "metadata": {
        "id": "J3uOwNPeVJle",
        "colab_type": "code",
        "colab": {
          "base_uri": "https://localhost:8080/",
          "height": 34
        },
        "outputId": "eaa49af9-9cc4-4025-ccf1-e65910b02249"
      },
      "source": [
        "athletes.loc[athletes['Sport'] == 'Gymnastics' ]['Weight'].mean()"
      ],
      "execution_count": 42,
      "outputs": [
        {
          "output_type": "execute_result",
          "data": {
            "text/plain": [
              "87.0"
            ]
          },
          "metadata": {
            "tags": []
          },
          "execution_count": 42
        }
      ]
    },
    {
      "cell_type": "code",
      "metadata": {
        "id": "T2y5WgISVJlk",
        "colab_type": "code",
        "colab": {
          "base_uri": "https://localhost:8080/",
          "height": 34
        },
        "outputId": "64d37640-5b33-4441-af84-dc7c910b2036"
      },
      "source": [
        "athletes.loc[athletes['Sport'] == 'Basketball' ]['Weight'].mean()"
      ],
      "execution_count": 43,
      "outputs": [
        {
          "output_type": "execute_result",
          "data": {
            "text/plain": [
              "174.22222222222223"
            ]
          },
          "metadata": {
            "tags": []
          },
          "execution_count": 43
        }
      ]
    },
    {
      "cell_type": "markdown",
      "metadata": {
        "id": "2EWbVUn7VJlp",
        "colab_type": "text"
      },
      "source": [
        "<h3 style=\"color:red\">Q4. Pima Indians</h3>\n",
        "<span style=\"color:red\">I would like to fill out this little table:</span>\n",
        "\n",
        "  x | Avg. BMI | Avg. Diabetes Pedigree | Avg. times pregnant | Avg. Plasma glucose |\n",
        "---   | :---: | :---: | :---: | :---: |\n",
        "Has Diabetes |   | |  |\n",
        "Doesn't have Diabetes |   | |  |\n",
        "\n",
        "<span style=\"color:red\">Can you get this information (where 'Avg' refers to the mean)? So, for example, the first cell is the average Body Mass Index of people who have diabetes.</span> You don't need to write code to generate a table, I just want to see the values that would be put in such a table.\n"
      ]
    },
    {
      "cell_type": "code",
      "metadata": {
        "id": "lpmSzx8GVJlq",
        "colab_type": "code",
        "colab": {
          "base_uri": "https://localhost:8080/",
          "height": 204
        },
        "outputId": "3b397f8e-ca72-41be-9e8e-cc46c31301af"
      },
      "source": [
        "# your code here\n",
        "print('Diabetes: ')\n",
        "print(pima_df.loc[pima_df['Has Diabetes'] == 1]['BMI'].mean())\n",
        "print(pima_df.loc[pima_df['Has Diabetes'] == 1]['Diabetes pedigree function'].mean())\n",
        "print(pima_df.loc[pima_df['Has Diabetes'] == 1]['Times Pregnant'].mean())\n",
        "print(pima_df.loc[pima_df['Has Diabetes'] == 1]['Plasma glucose concentration'].mean())\n",
        "print()\n",
        "print('No Diabetes: ')\n",
        "print(pima_df.loc[pima_df['Has Diabetes'] == 0]['BMI'].mean())\n",
        "print(pima_df.loc[pima_df['Has Diabetes'] == 0]['Diabetes pedigree function'].mean())\n",
        "print(pima_df.loc[pima_df['Has Diabetes'] == 0]['Times Pregnant'].mean())\n",
        "print(pima_df.loc[pima_df['Has Diabetes'] == 0]['Plasma glucose concentration'].mean())"
      ],
      "execution_count": 44,
      "outputs": [
        {
          "output_type": "stream",
          "text": [
            "Diabetes: \n",
            "35.14253731343278\n",
            "0.5505\n",
            "4.865671641791045\n",
            "141.25746268656715\n",
            "\n",
            "No Diabetes: \n",
            "30.30419999999996\n",
            "0.42973400000000017\n",
            "3.298\n",
            "109.98\n"
          ],
          "name": "stdout"
        }
      ]
    },
    {
      "cell_type": "markdown",
      "metadata": {
        "id": "S0FV97itVJlt",
        "colab_type": "text"
      },
      "source": [
        "### Music Ratings\n",
        "\n",
        "Suppose I have customers of my vinyl record shop rate different artists\n",
        "\n",
        "|Customer | Taylor Swift | Miranda Lambert | Carrie Underwood | Nicki Minaj | Ariana Grande |\n",
        "|:-----------|:------:|:------:|:---------:|:------:|:--------:|\n",
        "|Jake|5|-|5|2|2|\n",
        "|Clara|2|-|-|4|5|\n",
        "|Kelsey|5|5|5|2|-|\n",
        "|Angelica|2|3|-|5|5|\n",
        "|Jordyn|2|1|-|5|-|\n",
        "\n",
        "<h3 style=\"color:red\">Q4. Ratings</h3>\n",
        "<span style=\"color:red\">Create a dataframe called `ratings` from the CSV file</span>\n",
        "\n",
        "    https://raw.githubusercontent.com/zacharski/ml-class/master/data/ratings.csv"
      ]
    },
    {
      "cell_type": "code",
      "metadata": {
        "id": "MJrB6UcH1L8e",
        "colab_type": "code",
        "colab": {
          "base_uri": "https://localhost:8080/",
          "height": 68
        },
        "outputId": "e710b70d-ca8d-4786-906b-f2ccadfb6ea8"
      },
      "source": [
        "!curl https://raw.githubusercontent.com/zacharski/ml-class/master/data/ratings.csv > ratings.csv"
      ],
      "execution_count": 45,
      "outputs": [
        {
          "output_type": "stream",
          "text": [
            "  % Total    % Received % Xferd  Average Speed   Time    Time     Time  Current\n",
            "                                 Dload  Upload   Total   Spent    Left  Speed\n",
            "100   157  100   157    0     0    902      0 --:--:-- --:--:-- --:--:--   902\n"
          ],
          "name": "stdout"
        }
      ]
    },
    {
      "cell_type": "code",
      "metadata": {
        "id": "xgMikceEVJlt",
        "colab_type": "code",
        "colab": {
          "base_uri": "https://localhost:8080/",
          "height": 204
        },
        "outputId": "a6125cfc-c509-49ac-994f-ff033f51e453"
      },
      "source": [
        "# your code here\n",
        "ratings = pd.read_csv('ratings.csv')\n",
        "ratings"
      ],
      "execution_count": 46,
      "outputs": [
        {
          "output_type": "execute_result",
          "data": {
            "text/html": [
              "<div>\n",
              "<style scoped>\n",
              "    .dataframe tbody tr th:only-of-type {\n",
              "        vertical-align: middle;\n",
              "    }\n",
              "\n",
              "    .dataframe tbody tr th {\n",
              "        vertical-align: top;\n",
              "    }\n",
              "\n",
              "    .dataframe thead th {\n",
              "        text-align: right;\n",
              "    }\n",
              "</style>\n",
              "<table border=\"1\" class=\"dataframe\">\n",
              "  <thead>\n",
              "    <tr style=\"text-align: right;\">\n",
              "      <th></th>\n",
              "      <th>Customer</th>\n",
              "      <th>Taylor Swift</th>\n",
              "      <th>Miranda Lambert</th>\n",
              "      <th>Carrie Underwood</th>\n",
              "      <th>Nicki Minaj</th>\n",
              "      <th>Ariana Grande</th>\n",
              "    </tr>\n",
              "  </thead>\n",
              "  <tbody>\n",
              "    <tr>\n",
              "      <th>0</th>\n",
              "      <td>Jake</td>\n",
              "      <td>5</td>\n",
              "      <td>NaN</td>\n",
              "      <td>5.0</td>\n",
              "      <td>2</td>\n",
              "      <td>2.0</td>\n",
              "    </tr>\n",
              "    <tr>\n",
              "      <th>1</th>\n",
              "      <td>Clara</td>\n",
              "      <td>2</td>\n",
              "      <td>NaN</td>\n",
              "      <td>NaN</td>\n",
              "      <td>4</td>\n",
              "      <td>5.0</td>\n",
              "    </tr>\n",
              "    <tr>\n",
              "      <th>2</th>\n",
              "      <td>Kelsey</td>\n",
              "      <td>5</td>\n",
              "      <td>5.0</td>\n",
              "      <td>5.0</td>\n",
              "      <td>2</td>\n",
              "      <td>NaN</td>\n",
              "    </tr>\n",
              "    <tr>\n",
              "      <th>3</th>\n",
              "      <td>Angelica</td>\n",
              "      <td>2</td>\n",
              "      <td>3.0</td>\n",
              "      <td>NaN</td>\n",
              "      <td>5</td>\n",
              "      <td>5.0</td>\n",
              "    </tr>\n",
              "    <tr>\n",
              "      <th>4</th>\n",
              "      <td>Jordyn</td>\n",
              "      <td>2</td>\n",
              "      <td>1.0</td>\n",
              "      <td>NaN</td>\n",
              "      <td>5</td>\n",
              "      <td>NaN</td>\n",
              "    </tr>\n",
              "  </tbody>\n",
              "</table>\n",
              "</div>"
            ],
            "text/plain": [
              "   Customer  Taylor Swift  ...  Nicki Minaj  Ariana Grande\n",
              "0      Jake             5  ...            2            2.0\n",
              "1     Clara             2  ...            4            5.0\n",
              "2    Kelsey             5  ...            2            NaN\n",
              "3  Angelica             2  ...            5            5.0\n",
              "4    Jordyn             2  ...            5            NaN\n",
              "\n",
              "[5 rows x 6 columns]"
            ]
          },
          "metadata": {
            "tags": []
          },
          "execution_count": 46
        }
      ]
    },
    {
      "cell_type": "markdown",
      "metadata": {
        "id": "cr-49Lu6VJly",
        "colab_type": "text"
      },
      "source": [
        "We can get the mean rating of each artist by:\n"
      ]
    },
    {
      "cell_type": "code",
      "metadata": {
        "id": "PGR14SeIVJly",
        "colab_type": "code",
        "colab": {
          "base_uri": "https://localhost:8080/",
          "height": 119
        },
        "outputId": "e337641d-3db5-4aa3-b064-7aa1d9015be7"
      },
      "source": [
        "ratings.mean()"
      ],
      "execution_count": 47,
      "outputs": [
        {
          "output_type": "execute_result",
          "data": {
            "text/plain": [
              "Taylor Swift        3.2\n",
              "Miranda Lambert     3.0\n",
              "Carrie Underwood    5.0\n",
              "Nicki Minaj         3.6\n",
              "Ariana Grande       4.0\n",
              "dtype: float64"
            ]
          },
          "metadata": {
            "tags": []
          },
          "execution_count": 47
        }
      ]
    },
    {
      "cell_type": "markdown",
      "metadata": {
        "id": "MrigRGylVJl5",
        "colab_type": "text"
      },
      "source": [
        "Many descriptive statistics functions take an optional parameter `axis` that tells which axis to reduce over. If we want the mean ratings for each **customer** instead of each artist we can do:"
      ]
    },
    {
      "cell_type": "code",
      "metadata": {
        "id": "RWBWBfMOVJl5",
        "colab_type": "code",
        "colab": {
          "base_uri": "https://localhost:8080/",
          "height": 119
        },
        "outputId": "3656f68c-8ae3-4667-cb8e-dbe723617a1e"
      },
      "source": [
        "ratings.mean(axis=1)"
      ],
      "execution_count": 48,
      "outputs": [
        {
          "output_type": "execute_result",
          "data": {
            "text/plain": [
              "0    3.500000\n",
              "1    3.666667\n",
              "2    4.250000\n",
              "3    3.750000\n",
              "4    2.666667\n",
              "dtype: float64"
            ]
          },
          "metadata": {
            "tags": []
          },
          "execution_count": 48
        }
      ]
    },
    {
      "cell_type": "markdown",
      "metadata": {
        "id": "lTPmm66gVJl7",
        "colab_type": "text"
      },
      "source": [
        "Well, that was sort of unhelpful. We know that person 2 has a mean of 4.25, but it would be nice to use names as the indices for the rows instead of numbers. So right now we have the rows labeled 0, 1, 2, 3 ... but we would like them labeled *Jake, Clara, Kelsey*   We can do so by creating a new dataframe:"
      ]
    },
    {
      "cell_type": "code",
      "metadata": {
        "id": "_U2MzasSVJl7",
        "colab_type": "code",
        "colab": {
          "base_uri": "https://localhost:8080/",
          "height": 136
        },
        "outputId": "64fc2eb0-9a2a-4e46-9594-f8b98f75a6ff"
      },
      "source": [
        "ratings2 = ratings.set_index('Customer')\n",
        "ratings2.mean(axis=1)"
      ],
      "execution_count": 49,
      "outputs": [
        {
          "output_type": "execute_result",
          "data": {
            "text/plain": [
              "Customer\n",
              "Jake        3.500000\n",
              "Clara       3.666667\n",
              "Kelsey      4.250000\n",
              "Angelica    3.750000\n",
              "Jordyn      2.666667\n",
              "dtype: float64"
            ]
          },
          "metadata": {
            "tags": []
          },
          "execution_count": 49
        }
      ]
    },
    {
      "cell_type": "markdown",
      "metadata": {
        "id": "bMwDyaDfVJmA",
        "colab_type": "text"
      },
      "source": [
        "*Note that while this looks like it erroneously creates an additional row called Customer, that is just the way the table is displayed*\n",
        "\n",
        "Sweet! So `axis=1` means reduce by rows and `axis=0` means reduce by columns:"
      ]
    },
    {
      "cell_type": "code",
      "metadata": {
        "id": "7v-xYJWZVJmA",
        "colab_type": "code",
        "colab": {
          "base_uri": "https://localhost:8080/",
          "height": 119
        },
        "outputId": "4778016e-c9b1-403e-9d16-2c19cde6c426"
      },
      "source": [
        "ratings2.mean(axis=0)"
      ],
      "execution_count": 50,
      "outputs": [
        {
          "output_type": "execute_result",
          "data": {
            "text/plain": [
              "Taylor Swift        3.2\n",
              "Miranda Lambert     3.0\n",
              "Carrie Underwood    5.0\n",
              "Nicki Minaj         3.6\n",
              "Ariana Grande       4.0\n",
              "dtype: float64"
            ]
          },
          "metadata": {
            "tags": []
          },
          "execution_count": 50
        }
      ]
    },
    {
      "cell_type": "markdown",
      "metadata": {
        "id": "9v5ValiaVJmD",
        "colab_type": "text"
      },
      "source": [
        "## list of descriptive statistics\n",
        "(from the book *Python for Data Analysis*)\n",
        "\n",
        "Method | Description\n",
        ":-- | :--\n",
        "`count` | Number of non-NaN values\n",
        "`describe` | A set of common summary statistics\n",
        "`min, max` | compute minimum and maximum values\n",
        "`argmin, argmax` | compute index locations of minimum and maximum values\n",
        "`sum` | Sum the values\n",
        "`mean` | Mean of values\n",
        "`median` | Median of values\n",
        "`std` | Sample standard deviation\n",
        "\n",
        "So, for example, the lowest rating for each artist:\n"
      ]
    },
    {
      "cell_type": "code",
      "metadata": {
        "id": "Wm5WE_SAVJmE",
        "colab_type": "code",
        "colab": {
          "base_uri": "https://localhost:8080/",
          "height": 119
        },
        "outputId": "12ce098b-0f24-426d-d945-cf5f655253a9"
      },
      "source": [
        "ratings2.min()"
      ],
      "execution_count": 51,
      "outputs": [
        {
          "output_type": "execute_result",
          "data": {
            "text/plain": [
              "Taylor Swift        2.0\n",
              "Miranda Lambert     1.0\n",
              "Carrie Underwood    5.0\n",
              "Nicki Minaj         2.0\n",
              "Ariana Grande       2.0\n",
              "dtype: float64"
            ]
          },
          "metadata": {
            "tags": []
          },
          "execution_count": 51
        }
      ]
    },
    {
      "cell_type": "markdown",
      "metadata": {
        "id": "RlkUefawVJmG",
        "colab_type": "text"
      },
      "source": [
        "<h3 style=\"color:red\">Q5. Ratings 2</h3>\n",
        "<span style=\"color:red\">What are the median ratings for each customer?</span>"
      ]
    },
    {
      "cell_type": "code",
      "metadata": {
        "id": "XOAdcYcpVJmG",
        "colab_type": "code",
        "colab": {
          "base_uri": "https://localhost:8080/",
          "height": 136
        },
        "outputId": "3ad61464-ac30-4b84-ba5d-6dfa3ebae363"
      },
      "source": [
        "# your code\n",
        "ratings2.median(axis=1)"
      ],
      "execution_count": 52,
      "outputs": [
        {
          "output_type": "execute_result",
          "data": {
            "text/plain": [
              "Customer\n",
              "Jake        3.5\n",
              "Clara       4.0\n",
              "Kelsey      5.0\n",
              "Angelica    4.0\n",
              "Jordyn      2.0\n",
              "dtype: float64"
            ]
          },
          "metadata": {
            "tags": []
          },
          "execution_count": 52
        }
      ]
    },
    {
      "cell_type": "markdown",
      "metadata": {
        "id": "l37yAAqHVJmJ",
        "colab_type": "text"
      },
      "source": [
        "## sorting\n",
        "To sort by the index we can use the `sort_index` method"
      ]
    },
    {
      "cell_type": "code",
      "metadata": {
        "id": "QHwU5wjEVJmJ",
        "colab_type": "code",
        "colab": {
          "base_uri": "https://localhost:8080/",
          "height": 948
        },
        "outputId": "568cddb9-441a-4fea-ba95-c93033acd2c8"
      },
      "source": [
        "athlete = pd.read_csv('https://raw.githubusercontent.com/zacharski/ml-class/master/data/athletesNoHeader.csv', names=['Name', 'Sport', 'Height', 'Weight'])\n",
        "a = athlete.set_index('Name')\n",
        "a.sort_index()"
      ],
      "execution_count": 53,
      "outputs": [
        {
          "output_type": "execute_result",
          "data": {
            "text/html": [
              "<div>\n",
              "<style scoped>\n",
              "    .dataframe tbody tr th:only-of-type {\n",
              "        vertical-align: middle;\n",
              "    }\n",
              "\n",
              "    .dataframe tbody tr th {\n",
              "        vertical-align: top;\n",
              "    }\n",
              "\n",
              "    .dataframe thead th {\n",
              "        text-align: right;\n",
              "    }\n",
              "</style>\n",
              "<table border=\"1\" class=\"dataframe\">\n",
              "  <thead>\n",
              "    <tr style=\"text-align: right;\">\n",
              "      <th></th>\n",
              "      <th>Sport</th>\n",
              "      <th>Height</th>\n",
              "      <th>Weight</th>\n",
              "    </tr>\n",
              "    <tr>\n",
              "      <th>Name</th>\n",
              "      <th></th>\n",
              "      <th></th>\n",
              "      <th></th>\n",
              "    </tr>\n",
              "  </thead>\n",
              "  <tbody>\n",
              "    <tr>\n",
              "      <th>Amy Cragg</th>\n",
              "      <td>Track</td>\n",
              "      <td>64</td>\n",
              "      <td>99</td>\n",
              "    </tr>\n",
              "    <tr>\n",
              "      <th>Asuka Teramoto</th>\n",
              "      <td>Gymnastics</td>\n",
              "      <td>54</td>\n",
              "      <td>66</td>\n",
              "    </tr>\n",
              "    <tr>\n",
              "      <th>Brittainey Raven</th>\n",
              "      <td>Basketball</td>\n",
              "      <td>72</td>\n",
              "      <td>162</td>\n",
              "    </tr>\n",
              "    <tr>\n",
              "      <th>Chen Nan</th>\n",
              "      <td>Basketball</td>\n",
              "      <td>78</td>\n",
              "      <td>204</td>\n",
              "    </tr>\n",
              "    <tr>\n",
              "      <th>Desiree Linden</th>\n",
              "      <td>Track</td>\n",
              "      <td>61</td>\n",
              "      <td>97</td>\n",
              "    </tr>\n",
              "    <tr>\n",
              "      <th>Elena Delle Donne</th>\n",
              "      <td>Basketball</td>\n",
              "      <td>77</td>\n",
              "      <td>188</td>\n",
              "    </tr>\n",
              "    <tr>\n",
              "      <th>Gabby Douglas</th>\n",
              "      <td>Gymnastics</td>\n",
              "      <td>49</td>\n",
              "      <td>90</td>\n",
              "    </tr>\n",
              "    <tr>\n",
              "      <th>Helalia Johannes</th>\n",
              "      <td>Track</td>\n",
              "      <td>65</td>\n",
              "      <td>99</td>\n",
              "    </tr>\n",
              "    <tr>\n",
              "      <th>Irina Miketenko</th>\n",
              "      <td>Track</td>\n",
              "      <td>63</td>\n",
              "      <td>106</td>\n",
              "    </tr>\n",
              "    <tr>\n",
              "      <th>Jennifer Lacy</th>\n",
              "      <td>Basketball</td>\n",
              "      <td>75</td>\n",
              "      <td>175</td>\n",
              "    </tr>\n",
              "    <tr>\n",
              "      <th>Kara Goucher</th>\n",
              "      <td>Track</td>\n",
              "      <td>67</td>\n",
              "      <td>123</td>\n",
              "    </tr>\n",
              "    <tr>\n",
              "      <th>Laurie Hernandez</th>\n",
              "      <td>Gymnastics</td>\n",
              "      <td>60</td>\n",
              "      <td>106</td>\n",
              "    </tr>\n",
              "    <tr>\n",
              "      <th>Linlin Deng</th>\n",
              "      <td>Gymnastics</td>\n",
              "      <td>54</td>\n",
              "      <td>68</td>\n",
              "    </tr>\n",
              "    <tr>\n",
              "      <th>Madison Kocian</th>\n",
              "      <td>Gymnastics</td>\n",
              "      <td>62</td>\n",
              "      <td>101</td>\n",
              "    </tr>\n",
              "    <tr>\n",
              "      <th>Nakia Sanford</th>\n",
              "      <td>Basketball</td>\n",
              "      <td>76</td>\n",
              "      <td>200</td>\n",
              "    </tr>\n",
              "    <tr>\n",
              "      <th>Nikki Blue</th>\n",
              "      <td>Basketball</td>\n",
              "      <td>68</td>\n",
              "      <td>163</td>\n",
              "    </tr>\n",
              "    <tr>\n",
              "      <th>Qiushuang Huang</th>\n",
              "      <td>Gymnastics</td>\n",
              "      <td>61</td>\n",
              "      <td>95</td>\n",
              "    </tr>\n",
              "    <tr>\n",
              "      <th>Rebecca Tunney</th>\n",
              "      <td>Gymnastics</td>\n",
              "      <td>58</td>\n",
              "      <td>77</td>\n",
              "    </tr>\n",
              "    <tr>\n",
              "      <th>Rene Kalmer</th>\n",
              "      <td>Track</td>\n",
              "      <td>70</td>\n",
              "      <td>108</td>\n",
              "    </tr>\n",
              "    <tr>\n",
              "      <th>Seimone Augustus</th>\n",
              "      <td>Basketball</td>\n",
              "      <td>72</td>\n",
              "      <td>166</td>\n",
              "    </tr>\n",
              "    <tr>\n",
              "      <th>Shalane Flanagan</th>\n",
              "      <td>Track</td>\n",
              "      <td>65</td>\n",
              "      <td>106</td>\n",
              "    </tr>\n",
              "    <tr>\n",
              "      <th>Shanna Crossley</th>\n",
              "      <td>Basketball</td>\n",
              "      <td>70</td>\n",
              "      <td>155</td>\n",
              "    </tr>\n",
              "    <tr>\n",
              "      <th>Shavonte Zellous</th>\n",
              "      <td>Basketball</td>\n",
              "      <td>70</td>\n",
              "      <td>155</td>\n",
              "    </tr>\n",
              "    <tr>\n",
              "      <th>Simone Biles</th>\n",
              "      <td>Gymnastics</td>\n",
              "      <td>57</td>\n",
              "      <td>104</td>\n",
              "    </tr>\n",
              "    <tr>\n",
              "      <th>Tatyana Petrova</th>\n",
              "      <td>Track</td>\n",
              "      <td>63</td>\n",
              "      <td>108</td>\n",
              "    </tr>\n",
              "    <tr>\n",
              "      <th>Tiki Gelana</th>\n",
              "      <td>Track</td>\n",
              "      <td>65</td>\n",
              "      <td>106</td>\n",
              "    </tr>\n",
              "    <tr>\n",
              "      <th>Valeria Straneo</th>\n",
              "      <td>Track</td>\n",
              "      <td>66</td>\n",
              "      <td>97</td>\n",
              "    </tr>\n",
              "    <tr>\n",
              "      <th>Viktoria Komova</th>\n",
              "      <td>Gymnastics</td>\n",
              "      <td>61</td>\n",
              "      <td>76</td>\n",
              "    </tr>\n",
              "  </tbody>\n",
              "</table>\n",
              "</div>"
            ],
            "text/plain": [
              "                        Sport  Height  Weight\n",
              "Name                                         \n",
              "Amy Cragg               Track      64      99\n",
              "Asuka Teramoto     Gymnastics      54      66\n",
              "Brittainey Raven   Basketball      72     162\n",
              "Chen Nan           Basketball      78     204\n",
              "Desiree Linden          Track      61      97\n",
              "Elena Delle Donne  Basketball      77     188\n",
              "Gabby Douglas      Gymnastics      49      90\n",
              "Helalia Johannes        Track      65      99\n",
              "Irina Miketenko         Track      63     106\n",
              "Jennifer Lacy      Basketball      75     175\n",
              "Kara Goucher            Track      67     123\n",
              "Laurie Hernandez   Gymnastics      60     106\n",
              "Linlin Deng        Gymnastics      54      68\n",
              "Madison Kocian     Gymnastics      62     101\n",
              "Nakia Sanford      Basketball      76     200\n",
              "Nikki Blue         Basketball      68     163\n",
              "Qiushuang Huang    Gymnastics      61      95\n",
              "Rebecca Tunney     Gymnastics      58      77\n",
              "Rene Kalmer             Track      70     108\n",
              "Seimone Augustus   Basketball      72     166\n",
              "Shalane Flanagan        Track      65     106\n",
              "Shanna Crossley    Basketball      70     155\n",
              "Shavonte Zellous   Basketball      70     155\n",
              "Simone Biles       Gymnastics      57     104\n",
              "Tatyana Petrova         Track      63     108\n",
              "Tiki Gelana             Track      65     106\n",
              "Valeria Straneo         Track      66      97\n",
              "Viktoria Komova    Gymnastics      61      76"
            ]
          },
          "metadata": {
            "tags": []
          },
          "execution_count": 53
        }
      ]
    },
    {
      "cell_type": "markdown",
      "metadata": {
        "id": "baeNCvN-VJmL",
        "colab_type": "text"
      },
      "source": [
        "We can sort in reverse by"
      ]
    },
    {
      "cell_type": "code",
      "metadata": {
        "id": "SPMArKrIVJmL",
        "colab_type": "code",
        "colab": {
          "base_uri": "https://localhost:8080/",
          "height": 948
        },
        "outputId": "4ec24baa-15fa-48db-e62f-4427a59006da"
      },
      "source": [
        "a.sort_index(ascending=False)"
      ],
      "execution_count": 54,
      "outputs": [
        {
          "output_type": "execute_result",
          "data": {
            "text/html": [
              "<div>\n",
              "<style scoped>\n",
              "    .dataframe tbody tr th:only-of-type {\n",
              "        vertical-align: middle;\n",
              "    }\n",
              "\n",
              "    .dataframe tbody tr th {\n",
              "        vertical-align: top;\n",
              "    }\n",
              "\n",
              "    .dataframe thead th {\n",
              "        text-align: right;\n",
              "    }\n",
              "</style>\n",
              "<table border=\"1\" class=\"dataframe\">\n",
              "  <thead>\n",
              "    <tr style=\"text-align: right;\">\n",
              "      <th></th>\n",
              "      <th>Sport</th>\n",
              "      <th>Height</th>\n",
              "      <th>Weight</th>\n",
              "    </tr>\n",
              "    <tr>\n",
              "      <th>Name</th>\n",
              "      <th></th>\n",
              "      <th></th>\n",
              "      <th></th>\n",
              "    </tr>\n",
              "  </thead>\n",
              "  <tbody>\n",
              "    <tr>\n",
              "      <th>Viktoria Komova</th>\n",
              "      <td>Gymnastics</td>\n",
              "      <td>61</td>\n",
              "      <td>76</td>\n",
              "    </tr>\n",
              "    <tr>\n",
              "      <th>Valeria Straneo</th>\n",
              "      <td>Track</td>\n",
              "      <td>66</td>\n",
              "      <td>97</td>\n",
              "    </tr>\n",
              "    <tr>\n",
              "      <th>Tiki Gelana</th>\n",
              "      <td>Track</td>\n",
              "      <td>65</td>\n",
              "      <td>106</td>\n",
              "    </tr>\n",
              "    <tr>\n",
              "      <th>Tatyana Petrova</th>\n",
              "      <td>Track</td>\n",
              "      <td>63</td>\n",
              "      <td>108</td>\n",
              "    </tr>\n",
              "    <tr>\n",
              "      <th>Simone Biles</th>\n",
              "      <td>Gymnastics</td>\n",
              "      <td>57</td>\n",
              "      <td>104</td>\n",
              "    </tr>\n",
              "    <tr>\n",
              "      <th>Shavonte Zellous</th>\n",
              "      <td>Basketball</td>\n",
              "      <td>70</td>\n",
              "      <td>155</td>\n",
              "    </tr>\n",
              "    <tr>\n",
              "      <th>Shanna Crossley</th>\n",
              "      <td>Basketball</td>\n",
              "      <td>70</td>\n",
              "      <td>155</td>\n",
              "    </tr>\n",
              "    <tr>\n",
              "      <th>Shalane Flanagan</th>\n",
              "      <td>Track</td>\n",
              "      <td>65</td>\n",
              "      <td>106</td>\n",
              "    </tr>\n",
              "    <tr>\n",
              "      <th>Seimone Augustus</th>\n",
              "      <td>Basketball</td>\n",
              "      <td>72</td>\n",
              "      <td>166</td>\n",
              "    </tr>\n",
              "    <tr>\n",
              "      <th>Rene Kalmer</th>\n",
              "      <td>Track</td>\n",
              "      <td>70</td>\n",
              "      <td>108</td>\n",
              "    </tr>\n",
              "    <tr>\n",
              "      <th>Rebecca Tunney</th>\n",
              "      <td>Gymnastics</td>\n",
              "      <td>58</td>\n",
              "      <td>77</td>\n",
              "    </tr>\n",
              "    <tr>\n",
              "      <th>Qiushuang Huang</th>\n",
              "      <td>Gymnastics</td>\n",
              "      <td>61</td>\n",
              "      <td>95</td>\n",
              "    </tr>\n",
              "    <tr>\n",
              "      <th>Nikki Blue</th>\n",
              "      <td>Basketball</td>\n",
              "      <td>68</td>\n",
              "      <td>163</td>\n",
              "    </tr>\n",
              "    <tr>\n",
              "      <th>Nakia Sanford</th>\n",
              "      <td>Basketball</td>\n",
              "      <td>76</td>\n",
              "      <td>200</td>\n",
              "    </tr>\n",
              "    <tr>\n",
              "      <th>Madison Kocian</th>\n",
              "      <td>Gymnastics</td>\n",
              "      <td>62</td>\n",
              "      <td>101</td>\n",
              "    </tr>\n",
              "    <tr>\n",
              "      <th>Linlin Deng</th>\n",
              "      <td>Gymnastics</td>\n",
              "      <td>54</td>\n",
              "      <td>68</td>\n",
              "    </tr>\n",
              "    <tr>\n",
              "      <th>Laurie Hernandez</th>\n",
              "      <td>Gymnastics</td>\n",
              "      <td>60</td>\n",
              "      <td>106</td>\n",
              "    </tr>\n",
              "    <tr>\n",
              "      <th>Kara Goucher</th>\n",
              "      <td>Track</td>\n",
              "      <td>67</td>\n",
              "      <td>123</td>\n",
              "    </tr>\n",
              "    <tr>\n",
              "      <th>Jennifer Lacy</th>\n",
              "      <td>Basketball</td>\n",
              "      <td>75</td>\n",
              "      <td>175</td>\n",
              "    </tr>\n",
              "    <tr>\n",
              "      <th>Irina Miketenko</th>\n",
              "      <td>Track</td>\n",
              "      <td>63</td>\n",
              "      <td>106</td>\n",
              "    </tr>\n",
              "    <tr>\n",
              "      <th>Helalia Johannes</th>\n",
              "      <td>Track</td>\n",
              "      <td>65</td>\n",
              "      <td>99</td>\n",
              "    </tr>\n",
              "    <tr>\n",
              "      <th>Gabby Douglas</th>\n",
              "      <td>Gymnastics</td>\n",
              "      <td>49</td>\n",
              "      <td>90</td>\n",
              "    </tr>\n",
              "    <tr>\n",
              "      <th>Elena Delle Donne</th>\n",
              "      <td>Basketball</td>\n",
              "      <td>77</td>\n",
              "      <td>188</td>\n",
              "    </tr>\n",
              "    <tr>\n",
              "      <th>Desiree Linden</th>\n",
              "      <td>Track</td>\n",
              "      <td>61</td>\n",
              "      <td>97</td>\n",
              "    </tr>\n",
              "    <tr>\n",
              "      <th>Chen Nan</th>\n",
              "      <td>Basketball</td>\n",
              "      <td>78</td>\n",
              "      <td>204</td>\n",
              "    </tr>\n",
              "    <tr>\n",
              "      <th>Brittainey Raven</th>\n",
              "      <td>Basketball</td>\n",
              "      <td>72</td>\n",
              "      <td>162</td>\n",
              "    </tr>\n",
              "    <tr>\n",
              "      <th>Asuka Teramoto</th>\n",
              "      <td>Gymnastics</td>\n",
              "      <td>54</td>\n",
              "      <td>66</td>\n",
              "    </tr>\n",
              "    <tr>\n",
              "      <th>Amy Cragg</th>\n",
              "      <td>Track</td>\n",
              "      <td>64</td>\n",
              "      <td>99</td>\n",
              "    </tr>\n",
              "  </tbody>\n",
              "</table>\n",
              "</div>"
            ],
            "text/plain": [
              "                        Sport  Height  Weight\n",
              "Name                                         \n",
              "Viktoria Komova    Gymnastics      61      76\n",
              "Valeria Straneo         Track      66      97\n",
              "Tiki Gelana             Track      65     106\n",
              "Tatyana Petrova         Track      63     108\n",
              "Simone Biles       Gymnastics      57     104\n",
              "Shavonte Zellous   Basketball      70     155\n",
              "Shanna Crossley    Basketball      70     155\n",
              "Shalane Flanagan        Track      65     106\n",
              "Seimone Augustus   Basketball      72     166\n",
              "Rene Kalmer             Track      70     108\n",
              "Rebecca Tunney     Gymnastics      58      77\n",
              "Qiushuang Huang    Gymnastics      61      95\n",
              "Nikki Blue         Basketball      68     163\n",
              "Nakia Sanford      Basketball      76     200\n",
              "Madison Kocian     Gymnastics      62     101\n",
              "Linlin Deng        Gymnastics      54      68\n",
              "Laurie Hernandez   Gymnastics      60     106\n",
              "Kara Goucher            Track      67     123\n",
              "Jennifer Lacy      Basketball      75     175\n",
              "Irina Miketenko         Track      63     106\n",
              "Helalia Johannes        Track      65      99\n",
              "Gabby Douglas      Gymnastics      49      90\n",
              "Elena Delle Donne  Basketball      77     188\n",
              "Desiree Linden          Track      61      97\n",
              "Chen Nan           Basketball      78     204\n",
              "Brittainey Raven   Basketball      72     162\n",
              "Asuka Teramoto     Gymnastics      54      66\n",
              "Amy Cragg               Track      64      99"
            ]
          },
          "metadata": {
            "tags": []
          },
          "execution_count": 54
        }
      ]
    },
    {
      "cell_type": "markdown",
      "metadata": {
        "id": "m2pfAYh_VJmN",
        "colab_type": "text"
      },
      "source": [
        "We can use the `sort_values` method with the `by` argument to sort by a particular column:"
      ]
    },
    {
      "cell_type": "code",
      "metadata": {
        "id": "V0un4np8VJmO",
        "colab_type": "code",
        "colab": {
          "base_uri": "https://localhost:8080/",
          "height": 948
        },
        "outputId": "0b04fe68-1586-4374-9bff-621929fc9598"
      },
      "source": [
        "a.sort_values(by='Sport')"
      ],
      "execution_count": 55,
      "outputs": [
        {
          "output_type": "execute_result",
          "data": {
            "text/html": [
              "<div>\n",
              "<style scoped>\n",
              "    .dataframe tbody tr th:only-of-type {\n",
              "        vertical-align: middle;\n",
              "    }\n",
              "\n",
              "    .dataframe tbody tr th {\n",
              "        vertical-align: top;\n",
              "    }\n",
              "\n",
              "    .dataframe thead th {\n",
              "        text-align: right;\n",
              "    }\n",
              "</style>\n",
              "<table border=\"1\" class=\"dataframe\">\n",
              "  <thead>\n",
              "    <tr style=\"text-align: right;\">\n",
              "      <th></th>\n",
              "      <th>Sport</th>\n",
              "      <th>Height</th>\n",
              "      <th>Weight</th>\n",
              "    </tr>\n",
              "    <tr>\n",
              "      <th>Name</th>\n",
              "      <th></th>\n",
              "      <th></th>\n",
              "      <th></th>\n",
              "    </tr>\n",
              "  </thead>\n",
              "  <tbody>\n",
              "    <tr>\n",
              "      <th>Brittainey Raven</th>\n",
              "      <td>Basketball</td>\n",
              "      <td>72</td>\n",
              "      <td>162</td>\n",
              "    </tr>\n",
              "    <tr>\n",
              "      <th>Chen Nan</th>\n",
              "      <td>Basketball</td>\n",
              "      <td>78</td>\n",
              "      <td>204</td>\n",
              "    </tr>\n",
              "    <tr>\n",
              "      <th>Seimone Augustus</th>\n",
              "      <td>Basketball</td>\n",
              "      <td>72</td>\n",
              "      <td>166</td>\n",
              "    </tr>\n",
              "    <tr>\n",
              "      <th>Elena Delle Donne</th>\n",
              "      <td>Basketball</td>\n",
              "      <td>77</td>\n",
              "      <td>188</td>\n",
              "    </tr>\n",
              "    <tr>\n",
              "      <th>Jennifer Lacy</th>\n",
              "      <td>Basketball</td>\n",
              "      <td>75</td>\n",
              "      <td>175</td>\n",
              "    </tr>\n",
              "    <tr>\n",
              "      <th>Nakia Sanford</th>\n",
              "      <td>Basketball</td>\n",
              "      <td>76</td>\n",
              "      <td>200</td>\n",
              "    </tr>\n",
              "    <tr>\n",
              "      <th>Nikki Blue</th>\n",
              "      <td>Basketball</td>\n",
              "      <td>68</td>\n",
              "      <td>163</td>\n",
              "    </tr>\n",
              "    <tr>\n",
              "      <th>Shavonte Zellous</th>\n",
              "      <td>Basketball</td>\n",
              "      <td>70</td>\n",
              "      <td>155</td>\n",
              "    </tr>\n",
              "    <tr>\n",
              "      <th>Shanna Crossley</th>\n",
              "      <td>Basketball</td>\n",
              "      <td>70</td>\n",
              "      <td>155</td>\n",
              "    </tr>\n",
              "    <tr>\n",
              "      <th>Asuka Teramoto</th>\n",
              "      <td>Gymnastics</td>\n",
              "      <td>54</td>\n",
              "      <td>66</td>\n",
              "    </tr>\n",
              "    <tr>\n",
              "      <th>Madison Kocian</th>\n",
              "      <td>Gymnastics</td>\n",
              "      <td>62</td>\n",
              "      <td>101</td>\n",
              "    </tr>\n",
              "    <tr>\n",
              "      <th>Simone Biles</th>\n",
              "      <td>Gymnastics</td>\n",
              "      <td>57</td>\n",
              "      <td>104</td>\n",
              "    </tr>\n",
              "    <tr>\n",
              "      <th>Viktoria Komova</th>\n",
              "      <td>Gymnastics</td>\n",
              "      <td>61</td>\n",
              "      <td>76</td>\n",
              "    </tr>\n",
              "    <tr>\n",
              "      <th>Laurie Hernandez</th>\n",
              "      <td>Gymnastics</td>\n",
              "      <td>60</td>\n",
              "      <td>106</td>\n",
              "    </tr>\n",
              "    <tr>\n",
              "      <th>Rebecca Tunney</th>\n",
              "      <td>Gymnastics</td>\n",
              "      <td>58</td>\n",
              "      <td>77</td>\n",
              "    </tr>\n",
              "    <tr>\n",
              "      <th>Qiushuang Huang</th>\n",
              "      <td>Gymnastics</td>\n",
              "      <td>61</td>\n",
              "      <td>95</td>\n",
              "    </tr>\n",
              "    <tr>\n",
              "      <th>Linlin Deng</th>\n",
              "      <td>Gymnastics</td>\n",
              "      <td>54</td>\n",
              "      <td>68</td>\n",
              "    </tr>\n",
              "    <tr>\n",
              "      <th>Gabby Douglas</th>\n",
              "      <td>Gymnastics</td>\n",
              "      <td>49</td>\n",
              "      <td>90</td>\n",
              "    </tr>\n",
              "    <tr>\n",
              "      <th>Tatyana Petrova</th>\n",
              "      <td>Track</td>\n",
              "      <td>63</td>\n",
              "      <td>108</td>\n",
              "    </tr>\n",
              "    <tr>\n",
              "      <th>Tiki Gelana</th>\n",
              "      <td>Track</td>\n",
              "      <td>65</td>\n",
              "      <td>106</td>\n",
              "    </tr>\n",
              "    <tr>\n",
              "      <th>Valeria Straneo</th>\n",
              "      <td>Track</td>\n",
              "      <td>66</td>\n",
              "      <td>97</td>\n",
              "    </tr>\n",
              "    <tr>\n",
              "      <th>Amy Cragg</th>\n",
              "      <td>Track</td>\n",
              "      <td>64</td>\n",
              "      <td>99</td>\n",
              "    </tr>\n",
              "    <tr>\n",
              "      <th>Kara Goucher</th>\n",
              "      <td>Track</td>\n",
              "      <td>67</td>\n",
              "      <td>123</td>\n",
              "    </tr>\n",
              "    <tr>\n",
              "      <th>Irina Miketenko</th>\n",
              "      <td>Track</td>\n",
              "      <td>63</td>\n",
              "      <td>106</td>\n",
              "    </tr>\n",
              "    <tr>\n",
              "      <th>Helalia Johannes</th>\n",
              "      <td>Track</td>\n",
              "      <td>65</td>\n",
              "      <td>99</td>\n",
              "    </tr>\n",
              "    <tr>\n",
              "      <th>Desiree Linden</th>\n",
              "      <td>Track</td>\n",
              "      <td>61</td>\n",
              "      <td>97</td>\n",
              "    </tr>\n",
              "    <tr>\n",
              "      <th>Shalane Flanagan</th>\n",
              "      <td>Track</td>\n",
              "      <td>65</td>\n",
              "      <td>106</td>\n",
              "    </tr>\n",
              "    <tr>\n",
              "      <th>Rene Kalmer</th>\n",
              "      <td>Track</td>\n",
              "      <td>70</td>\n",
              "      <td>108</td>\n",
              "    </tr>\n",
              "  </tbody>\n",
              "</table>\n",
              "</div>"
            ],
            "text/plain": [
              "                        Sport  Height  Weight\n",
              "Name                                         \n",
              "Brittainey Raven   Basketball      72     162\n",
              "Chen Nan           Basketball      78     204\n",
              "Seimone Augustus   Basketball      72     166\n",
              "Elena Delle Donne  Basketball      77     188\n",
              "Jennifer Lacy      Basketball      75     175\n",
              "Nakia Sanford      Basketball      76     200\n",
              "Nikki Blue         Basketball      68     163\n",
              "Shavonte Zellous   Basketball      70     155\n",
              "Shanna Crossley    Basketball      70     155\n",
              "Asuka Teramoto     Gymnastics      54      66\n",
              "Madison Kocian     Gymnastics      62     101\n",
              "Simone Biles       Gymnastics      57     104\n",
              "Viktoria Komova    Gymnastics      61      76\n",
              "Laurie Hernandez   Gymnastics      60     106\n",
              "Rebecca Tunney     Gymnastics      58      77\n",
              "Qiushuang Huang    Gymnastics      61      95\n",
              "Linlin Deng        Gymnastics      54      68\n",
              "Gabby Douglas      Gymnastics      49      90\n",
              "Tatyana Petrova         Track      63     108\n",
              "Tiki Gelana             Track      65     106\n",
              "Valeria Straneo         Track      66      97\n",
              "Amy Cragg               Track      64      99\n",
              "Kara Goucher            Track      67     123\n",
              "Irina Miketenko         Track      63     106\n",
              "Helalia Johannes        Track      65      99\n",
              "Desiree Linden          Track      61      97\n",
              "Shalane Flanagan        Track      65     106\n",
              "Rene Kalmer             Track      70     108"
            ]
          },
          "metadata": {
            "tags": []
          },
          "execution_count": 55
        }
      ]
    },
    {
      "cell_type": "code",
      "metadata": {
        "id": "nyupOrcEVJmQ",
        "colab_type": "code",
        "colab": {
          "base_uri": "https://localhost:8080/",
          "height": 948
        },
        "outputId": "26a247a9-9272-4613-8695-58053ae54f34"
      },
      "source": [
        "a.sort_values(by=['Height', 'Weight'])"
      ],
      "execution_count": 56,
      "outputs": [
        {
          "output_type": "execute_result",
          "data": {
            "text/html": [
              "<div>\n",
              "<style scoped>\n",
              "    .dataframe tbody tr th:only-of-type {\n",
              "        vertical-align: middle;\n",
              "    }\n",
              "\n",
              "    .dataframe tbody tr th {\n",
              "        vertical-align: top;\n",
              "    }\n",
              "\n",
              "    .dataframe thead th {\n",
              "        text-align: right;\n",
              "    }\n",
              "</style>\n",
              "<table border=\"1\" class=\"dataframe\">\n",
              "  <thead>\n",
              "    <tr style=\"text-align: right;\">\n",
              "      <th></th>\n",
              "      <th>Sport</th>\n",
              "      <th>Height</th>\n",
              "      <th>Weight</th>\n",
              "    </tr>\n",
              "    <tr>\n",
              "      <th>Name</th>\n",
              "      <th></th>\n",
              "      <th></th>\n",
              "      <th></th>\n",
              "    </tr>\n",
              "  </thead>\n",
              "  <tbody>\n",
              "    <tr>\n",
              "      <th>Gabby Douglas</th>\n",
              "      <td>Gymnastics</td>\n",
              "      <td>49</td>\n",
              "      <td>90</td>\n",
              "    </tr>\n",
              "    <tr>\n",
              "      <th>Asuka Teramoto</th>\n",
              "      <td>Gymnastics</td>\n",
              "      <td>54</td>\n",
              "      <td>66</td>\n",
              "    </tr>\n",
              "    <tr>\n",
              "      <th>Linlin Deng</th>\n",
              "      <td>Gymnastics</td>\n",
              "      <td>54</td>\n",
              "      <td>68</td>\n",
              "    </tr>\n",
              "    <tr>\n",
              "      <th>Simone Biles</th>\n",
              "      <td>Gymnastics</td>\n",
              "      <td>57</td>\n",
              "      <td>104</td>\n",
              "    </tr>\n",
              "    <tr>\n",
              "      <th>Rebecca Tunney</th>\n",
              "      <td>Gymnastics</td>\n",
              "      <td>58</td>\n",
              "      <td>77</td>\n",
              "    </tr>\n",
              "    <tr>\n",
              "      <th>Laurie Hernandez</th>\n",
              "      <td>Gymnastics</td>\n",
              "      <td>60</td>\n",
              "      <td>106</td>\n",
              "    </tr>\n",
              "    <tr>\n",
              "      <th>Viktoria Komova</th>\n",
              "      <td>Gymnastics</td>\n",
              "      <td>61</td>\n",
              "      <td>76</td>\n",
              "    </tr>\n",
              "    <tr>\n",
              "      <th>Qiushuang Huang</th>\n",
              "      <td>Gymnastics</td>\n",
              "      <td>61</td>\n",
              "      <td>95</td>\n",
              "    </tr>\n",
              "    <tr>\n",
              "      <th>Desiree Linden</th>\n",
              "      <td>Track</td>\n",
              "      <td>61</td>\n",
              "      <td>97</td>\n",
              "    </tr>\n",
              "    <tr>\n",
              "      <th>Madison Kocian</th>\n",
              "      <td>Gymnastics</td>\n",
              "      <td>62</td>\n",
              "      <td>101</td>\n",
              "    </tr>\n",
              "    <tr>\n",
              "      <th>Irina Miketenko</th>\n",
              "      <td>Track</td>\n",
              "      <td>63</td>\n",
              "      <td>106</td>\n",
              "    </tr>\n",
              "    <tr>\n",
              "      <th>Tatyana Petrova</th>\n",
              "      <td>Track</td>\n",
              "      <td>63</td>\n",
              "      <td>108</td>\n",
              "    </tr>\n",
              "    <tr>\n",
              "      <th>Amy Cragg</th>\n",
              "      <td>Track</td>\n",
              "      <td>64</td>\n",
              "      <td>99</td>\n",
              "    </tr>\n",
              "    <tr>\n",
              "      <th>Helalia Johannes</th>\n",
              "      <td>Track</td>\n",
              "      <td>65</td>\n",
              "      <td>99</td>\n",
              "    </tr>\n",
              "    <tr>\n",
              "      <th>Tiki Gelana</th>\n",
              "      <td>Track</td>\n",
              "      <td>65</td>\n",
              "      <td>106</td>\n",
              "    </tr>\n",
              "    <tr>\n",
              "      <th>Shalane Flanagan</th>\n",
              "      <td>Track</td>\n",
              "      <td>65</td>\n",
              "      <td>106</td>\n",
              "    </tr>\n",
              "    <tr>\n",
              "      <th>Valeria Straneo</th>\n",
              "      <td>Track</td>\n",
              "      <td>66</td>\n",
              "      <td>97</td>\n",
              "    </tr>\n",
              "    <tr>\n",
              "      <th>Kara Goucher</th>\n",
              "      <td>Track</td>\n",
              "      <td>67</td>\n",
              "      <td>123</td>\n",
              "    </tr>\n",
              "    <tr>\n",
              "      <th>Nikki Blue</th>\n",
              "      <td>Basketball</td>\n",
              "      <td>68</td>\n",
              "      <td>163</td>\n",
              "    </tr>\n",
              "    <tr>\n",
              "      <th>Rene Kalmer</th>\n",
              "      <td>Track</td>\n",
              "      <td>70</td>\n",
              "      <td>108</td>\n",
              "    </tr>\n",
              "    <tr>\n",
              "      <th>Shanna Crossley</th>\n",
              "      <td>Basketball</td>\n",
              "      <td>70</td>\n",
              "      <td>155</td>\n",
              "    </tr>\n",
              "    <tr>\n",
              "      <th>Shavonte Zellous</th>\n",
              "      <td>Basketball</td>\n",
              "      <td>70</td>\n",
              "      <td>155</td>\n",
              "    </tr>\n",
              "    <tr>\n",
              "      <th>Brittainey Raven</th>\n",
              "      <td>Basketball</td>\n",
              "      <td>72</td>\n",
              "      <td>162</td>\n",
              "    </tr>\n",
              "    <tr>\n",
              "      <th>Seimone Augustus</th>\n",
              "      <td>Basketball</td>\n",
              "      <td>72</td>\n",
              "      <td>166</td>\n",
              "    </tr>\n",
              "    <tr>\n",
              "      <th>Jennifer Lacy</th>\n",
              "      <td>Basketball</td>\n",
              "      <td>75</td>\n",
              "      <td>175</td>\n",
              "    </tr>\n",
              "    <tr>\n",
              "      <th>Nakia Sanford</th>\n",
              "      <td>Basketball</td>\n",
              "      <td>76</td>\n",
              "      <td>200</td>\n",
              "    </tr>\n",
              "    <tr>\n",
              "      <th>Elena Delle Donne</th>\n",
              "      <td>Basketball</td>\n",
              "      <td>77</td>\n",
              "      <td>188</td>\n",
              "    </tr>\n",
              "    <tr>\n",
              "      <th>Chen Nan</th>\n",
              "      <td>Basketball</td>\n",
              "      <td>78</td>\n",
              "      <td>204</td>\n",
              "    </tr>\n",
              "  </tbody>\n",
              "</table>\n",
              "</div>"
            ],
            "text/plain": [
              "                        Sport  Height  Weight\n",
              "Name                                         \n",
              "Gabby Douglas      Gymnastics      49      90\n",
              "Asuka Teramoto     Gymnastics      54      66\n",
              "Linlin Deng        Gymnastics      54      68\n",
              "Simone Biles       Gymnastics      57     104\n",
              "Rebecca Tunney     Gymnastics      58      77\n",
              "Laurie Hernandez   Gymnastics      60     106\n",
              "Viktoria Komova    Gymnastics      61      76\n",
              "Qiushuang Huang    Gymnastics      61      95\n",
              "Desiree Linden          Track      61      97\n",
              "Madison Kocian     Gymnastics      62     101\n",
              "Irina Miketenko         Track      63     106\n",
              "Tatyana Petrova         Track      63     108\n",
              "Amy Cragg               Track      64      99\n",
              "Helalia Johannes        Track      65      99\n",
              "Tiki Gelana             Track      65     106\n",
              "Shalane Flanagan        Track      65     106\n",
              "Valeria Straneo         Track      66      97\n",
              "Kara Goucher            Track      67     123\n",
              "Nikki Blue         Basketball      68     163\n",
              "Rene Kalmer             Track      70     108\n",
              "Shanna Crossley    Basketball      70     155\n",
              "Shavonte Zellous   Basketball      70     155\n",
              "Brittainey Raven   Basketball      72     162\n",
              "Seimone Augustus   Basketball      72     166\n",
              "Jennifer Lacy      Basketball      75     175\n",
              "Nakia Sanford      Basketball      76     200\n",
              "Elena Delle Donne  Basketball      77     188\n",
              "Chen Nan           Basketball      78     204"
            ]
          },
          "metadata": {
            "tags": []
          },
          "execution_count": 56
        }
      ]
    },
    {
      "cell_type": "markdown",
      "metadata": {
        "id": "L0XAu6_jVJmS",
        "colab_type": "text"
      },
      "source": [
        "In that last example, we first sorted by height and then by weight.\n",
        "\n",
        "# The nearest neighbor Music example in Pandas\n",
        "\n",
        "Let's go back to our Numpy task that dealt with the following music data:\n",
        "\n",
        "\n",
        "\n",
        "| Guest  | Janelle Monae  | Major Lazer  | Tim McGraw  |  Maren Morris | Hailee Steinfeld| \n",
        "|---|---|---|---|---|---|\n",
        "|  Ann | 4  |  5 | 2  |  1 | 3 |\n",
        "| Ben  |  3 |  1 |  5 | 4  | 2|\n",
        "| Jordyn  | 5  |  5 | 2  | 2  | 3|\n",
        "|  Sam | 4 | 1 | 4 | 4 | 1|\n",
        "| Hyunseo | 1 | 1 | 5 | 4 | 1 |\n",
        "| Lauren | 3 | 1 | 5 |  5 | 5 |\n",
        "|  Ahmed | 4  |  5 | 3  |  3 | 1 |\n",
        "\n",
        "\n",
        "I want to find out who is the most similar to Mikaela and who is most similar to Brandon, who rated the artists:\n",
        "\n",
        "\n",
        "| Guest  | Janelle Monae  | Major Lazer  | Tim McGraw  |  Maren Morris | Hailee Steinfeld| \n",
        "|---|---|---|---|---|---|\n",
        "|  Mikaela | 3  |  2 | 4  |  5 |4 |\n",
        "|  Brandon | 4  |  5 | 1  |  2 |3 |\n",
        "\n",
        "My first step is to read in the data and convert the guest name column as the index:"
      ]
    },
    {
      "cell_type": "code",
      "metadata": {
        "scrolled": true,
        "id": "EhZJi0JtVJmS",
        "colab_type": "code",
        "colab": {
          "base_uri": "https://localhost:8080/",
          "height": 297
        },
        "outputId": "3582d659-5713-48ee-aec3-709454c82599"
      },
      "source": [
        "f = pd.read_csv('https://raw.githubusercontent.com/zacharski/ml-class/master/data/ratings2.csv')\n",
        "fr = f.set_index('Guest')\n",
        "fr"
      ],
      "execution_count": 57,
      "outputs": [
        {
          "output_type": "execute_result",
          "data": {
            "text/html": [
              "<div>\n",
              "<style scoped>\n",
              "    .dataframe tbody tr th:only-of-type {\n",
              "        vertical-align: middle;\n",
              "    }\n",
              "\n",
              "    .dataframe tbody tr th {\n",
              "        vertical-align: top;\n",
              "    }\n",
              "\n",
              "    .dataframe thead th {\n",
              "        text-align: right;\n",
              "    }\n",
              "</style>\n",
              "<table border=\"1\" class=\"dataframe\">\n",
              "  <thead>\n",
              "    <tr style=\"text-align: right;\">\n",
              "      <th></th>\n",
              "      <th>Janelle Monae</th>\n",
              "      <th>Major Lazer</th>\n",
              "      <th>Tim McGraw</th>\n",
              "      <th>Maren Morris</th>\n",
              "      <th>Hailee Steinfeld</th>\n",
              "    </tr>\n",
              "    <tr>\n",
              "      <th>Guest</th>\n",
              "      <th></th>\n",
              "      <th></th>\n",
              "      <th></th>\n",
              "      <th></th>\n",
              "      <th></th>\n",
              "    </tr>\n",
              "  </thead>\n",
              "  <tbody>\n",
              "    <tr>\n",
              "      <th>Ann</th>\n",
              "      <td>4</td>\n",
              "      <td>5</td>\n",
              "      <td>2</td>\n",
              "      <td>1</td>\n",
              "      <td>3</td>\n",
              "    </tr>\n",
              "    <tr>\n",
              "      <th>Ben</th>\n",
              "      <td>3</td>\n",
              "      <td>1</td>\n",
              "      <td>5</td>\n",
              "      <td>4</td>\n",
              "      <td>2</td>\n",
              "    </tr>\n",
              "    <tr>\n",
              "      <th>Jordyn</th>\n",
              "      <td>5</td>\n",
              "      <td>5</td>\n",
              "      <td>1</td>\n",
              "      <td>1</td>\n",
              "      <td>3</td>\n",
              "    </tr>\n",
              "    <tr>\n",
              "      <th>Sam</th>\n",
              "      <td>4</td>\n",
              "      <td>1</td>\n",
              "      <td>4</td>\n",
              "      <td>4</td>\n",
              "      <td>1</td>\n",
              "    </tr>\n",
              "    <tr>\n",
              "      <th>Hyunseo</th>\n",
              "      <td>1</td>\n",
              "      <td>1</td>\n",
              "      <td>5</td>\n",
              "      <td>4</td>\n",
              "      <td>1</td>\n",
              "    </tr>\n",
              "    <tr>\n",
              "      <th>Lauren</th>\n",
              "      <td>3</td>\n",
              "      <td>1</td>\n",
              "      <td>5</td>\n",
              "      <td>5</td>\n",
              "      <td>5</td>\n",
              "    </tr>\n",
              "    <tr>\n",
              "      <th>Ahmed</th>\n",
              "      <td>4</td>\n",
              "      <td>5</td>\n",
              "      <td>3</td>\n",
              "      <td>3</td>\n",
              "      <td>1</td>\n",
              "    </tr>\n",
              "  </tbody>\n",
              "</table>\n",
              "</div>"
            ],
            "text/plain": [
              "         Janelle Monae  Major Lazer  Tim McGraw  Maren Morris  Hailee Steinfeld\n",
              "Guest                                                                          \n",
              "Ann                  4            5           2             1                 3\n",
              "Ben                  3            1           5             4                 2\n",
              "Jordyn               5            5           1             1                 3\n",
              "Sam                  4            1           4             4                 1\n",
              "Hyunseo              1            1           5             4                 1\n",
              "Lauren               3            1           5             5                 5\n",
              "Ahmed                4            5           3             3                 1"
            ]
          },
          "metadata": {
            "tags": []
          },
          "execution_count": 57
        }
      ]
    },
    {
      "cell_type": "markdown",
      "metadata": {
        "id": "0zj5BUYCVJmU",
        "colab_type": "text"
      },
      "source": [
        "Now let's load in Mikaela and Brandon in a different DataFrame"
      ]
    },
    {
      "cell_type": "code",
      "metadata": {
        "id": "uwV_kNysVJmU",
        "colab_type": "code",
        "colab": {
          "base_uri": "https://localhost:8080/",
          "height": 142
        },
        "outputId": "9e28d9c3-f468-4b2e-c80d-3e7d491a9f6c"
      },
      "source": [
        "mb = pd.read_csv('https://raw.githubusercontent.com/zacharski/ml-class/master/data/ratings3.csv')\n",
        "mb.set_index('Guest', inplace=True)\n",
        "mb"
      ],
      "execution_count": 58,
      "outputs": [
        {
          "output_type": "execute_result",
          "data": {
            "text/html": [
              "<div>\n",
              "<style scoped>\n",
              "    .dataframe tbody tr th:only-of-type {\n",
              "        vertical-align: middle;\n",
              "    }\n",
              "\n",
              "    .dataframe tbody tr th {\n",
              "        vertical-align: top;\n",
              "    }\n",
              "\n",
              "    .dataframe thead th {\n",
              "        text-align: right;\n",
              "    }\n",
              "</style>\n",
              "<table border=\"1\" class=\"dataframe\">\n",
              "  <thead>\n",
              "    <tr style=\"text-align: right;\">\n",
              "      <th></th>\n",
              "      <th>Janelle Monae</th>\n",
              "      <th>Major Lazer</th>\n",
              "      <th>Tim McGraw</th>\n",
              "      <th>Maren Morris</th>\n",
              "      <th>Hailee Steinfeld</th>\n",
              "    </tr>\n",
              "    <tr>\n",
              "      <th>Guest</th>\n",
              "      <th></th>\n",
              "      <th></th>\n",
              "      <th></th>\n",
              "      <th></th>\n",
              "      <th></th>\n",
              "    </tr>\n",
              "  </thead>\n",
              "  <tbody>\n",
              "    <tr>\n",
              "      <th>Mikaela</th>\n",
              "      <td>3</td>\n",
              "      <td>2</td>\n",
              "      <td>4</td>\n",
              "      <td>5</td>\n",
              "      <td>4</td>\n",
              "    </tr>\n",
              "    <tr>\n",
              "      <th>Brandon</th>\n",
              "      <td>4</td>\n",
              "      <td>5</td>\n",
              "      <td>1</td>\n",
              "      <td>2</td>\n",
              "      <td>3</td>\n",
              "    </tr>\n",
              "  </tbody>\n",
              "</table>\n",
              "</div>"
            ],
            "text/plain": [
              "         Janelle Monae  Major Lazer  Tim McGraw  Maren Morris  Hailee Steinfeld\n",
              "Guest                                                                          \n",
              "Mikaela              3            2           4             5                 4\n",
              "Brandon              4            5           1             2                 3"
            ]
          },
          "metadata": {
            "tags": []
          },
          "execution_count": 58
        }
      ]
    },
    {
      "cell_type": "markdown",
      "metadata": {
        "id": "oZFxHuNTVJmW",
        "colab_type": "text"
      },
      "source": [
        "Let's work through the example step-by-step.\n",
        "\n",
        "First, can you set a variable named `mikaela` to equal the Mikaela row of `mb`?\n",
        "So something that starts with\n",
        "\n",
        "    mikaela = mb???????????"
      ]
    },
    {
      "cell_type": "code",
      "metadata": {
        "id": "DLdoNqZjw5HB",
        "colab_type": "code",
        "colab": {
          "base_uri": "https://localhost:8080/",
          "height": 119
        },
        "outputId": "06ad4c46-0cff-473b-8705-dcdf1a6171e0"
      },
      "source": [
        "mikaela = mb.iloc[0]\n",
        "mikaela"
      ],
      "execution_count": 59,
      "outputs": [
        {
          "output_type": "execute_result",
          "data": {
            "text/plain": [
              "Janelle Monae       3\n",
              "Major Lazer         2\n",
              "Tim McGraw          4\n",
              "Maren Morris        5\n",
              "Hailee Steinfeld    4\n",
              "Name: Mikaela, dtype: int64"
            ]
          },
          "metadata": {
            "tags": []
          },
          "execution_count": 59
        }
      ]
    },
    {
      "cell_type": "markdown",
      "metadata": {
        "id": "Dl7V3D5uVJmY",
        "colab_type": "text"
      },
      "source": [
        "First, let's subtract Mikaela's ratings from the other people's:"
      ]
    },
    {
      "cell_type": "code",
      "metadata": {
        "id": "ZsBXk7NnVJmY",
        "colab_type": "code",
        "colab": {
          "base_uri": "https://localhost:8080/",
          "height": 297
        },
        "outputId": "93059c5f-1ec4-4fc3-841f-f88322c4a7b4"
      },
      "source": [
        "fr2 =fr.sub(mikaela)\n",
        "fr2"
      ],
      "execution_count": 60,
      "outputs": [
        {
          "output_type": "execute_result",
          "data": {
            "text/html": [
              "<div>\n",
              "<style scoped>\n",
              "    .dataframe tbody tr th:only-of-type {\n",
              "        vertical-align: middle;\n",
              "    }\n",
              "\n",
              "    .dataframe tbody tr th {\n",
              "        vertical-align: top;\n",
              "    }\n",
              "\n",
              "    .dataframe thead th {\n",
              "        text-align: right;\n",
              "    }\n",
              "</style>\n",
              "<table border=\"1\" class=\"dataframe\">\n",
              "  <thead>\n",
              "    <tr style=\"text-align: right;\">\n",
              "      <th></th>\n",
              "      <th>Janelle Monae</th>\n",
              "      <th>Major Lazer</th>\n",
              "      <th>Tim McGraw</th>\n",
              "      <th>Maren Morris</th>\n",
              "      <th>Hailee Steinfeld</th>\n",
              "    </tr>\n",
              "    <tr>\n",
              "      <th>Guest</th>\n",
              "      <th></th>\n",
              "      <th></th>\n",
              "      <th></th>\n",
              "      <th></th>\n",
              "      <th></th>\n",
              "    </tr>\n",
              "  </thead>\n",
              "  <tbody>\n",
              "    <tr>\n",
              "      <th>Ann</th>\n",
              "      <td>1</td>\n",
              "      <td>3</td>\n",
              "      <td>-2</td>\n",
              "      <td>-4</td>\n",
              "      <td>-1</td>\n",
              "    </tr>\n",
              "    <tr>\n",
              "      <th>Ben</th>\n",
              "      <td>0</td>\n",
              "      <td>-1</td>\n",
              "      <td>1</td>\n",
              "      <td>-1</td>\n",
              "      <td>-2</td>\n",
              "    </tr>\n",
              "    <tr>\n",
              "      <th>Jordyn</th>\n",
              "      <td>2</td>\n",
              "      <td>3</td>\n",
              "      <td>-3</td>\n",
              "      <td>-4</td>\n",
              "      <td>-1</td>\n",
              "    </tr>\n",
              "    <tr>\n",
              "      <th>Sam</th>\n",
              "      <td>1</td>\n",
              "      <td>-1</td>\n",
              "      <td>0</td>\n",
              "      <td>-1</td>\n",
              "      <td>-3</td>\n",
              "    </tr>\n",
              "    <tr>\n",
              "      <th>Hyunseo</th>\n",
              "      <td>-2</td>\n",
              "      <td>-1</td>\n",
              "      <td>1</td>\n",
              "      <td>-1</td>\n",
              "      <td>-3</td>\n",
              "    </tr>\n",
              "    <tr>\n",
              "      <th>Lauren</th>\n",
              "      <td>0</td>\n",
              "      <td>-1</td>\n",
              "      <td>1</td>\n",
              "      <td>0</td>\n",
              "      <td>1</td>\n",
              "    </tr>\n",
              "    <tr>\n",
              "      <th>Ahmed</th>\n",
              "      <td>1</td>\n",
              "      <td>3</td>\n",
              "      <td>-1</td>\n",
              "      <td>-2</td>\n",
              "      <td>-3</td>\n",
              "    </tr>\n",
              "  </tbody>\n",
              "</table>\n",
              "</div>"
            ],
            "text/plain": [
              "         Janelle Monae  Major Lazer  Tim McGraw  Maren Morris  Hailee Steinfeld\n",
              "Guest                                                                          \n",
              "Ann                  1            3          -2            -4                -1\n",
              "Ben                  0           -1           1            -1                -2\n",
              "Jordyn               2            3          -3            -4                -1\n",
              "Sam                  1           -1           0            -1                -3\n",
              "Hyunseo             -2           -1           1            -1                -3\n",
              "Lauren               0           -1           1             0                 1\n",
              "Ahmed                1            3          -1            -2                -3"
            ]
          },
          "metadata": {
            "tags": []
          },
          "execution_count": 60
        }
      ]
    },
    {
      "cell_type": "markdown",
      "metadata": {
        "id": "egFE3YlgVJma",
        "colab_type": "text"
      },
      "source": [
        "\n",
        "\n",
        "Next, we will get the absolute values "
      ]
    },
    {
      "cell_type": "code",
      "metadata": {
        "id": "aFaPkQasVJma",
        "colab_type": "code",
        "colab": {
          "base_uri": "https://localhost:8080/",
          "height": 297
        },
        "outputId": "30cc21ce-8615-4a14-c887-0488d78f682a"
      },
      "source": [
        "fr3 = fr2.apply(np.abs)\n",
        "fr3"
      ],
      "execution_count": 61,
      "outputs": [
        {
          "output_type": "execute_result",
          "data": {
            "text/html": [
              "<div>\n",
              "<style scoped>\n",
              "    .dataframe tbody tr th:only-of-type {\n",
              "        vertical-align: middle;\n",
              "    }\n",
              "\n",
              "    .dataframe tbody tr th {\n",
              "        vertical-align: top;\n",
              "    }\n",
              "\n",
              "    .dataframe thead th {\n",
              "        text-align: right;\n",
              "    }\n",
              "</style>\n",
              "<table border=\"1\" class=\"dataframe\">\n",
              "  <thead>\n",
              "    <tr style=\"text-align: right;\">\n",
              "      <th></th>\n",
              "      <th>Janelle Monae</th>\n",
              "      <th>Major Lazer</th>\n",
              "      <th>Tim McGraw</th>\n",
              "      <th>Maren Morris</th>\n",
              "      <th>Hailee Steinfeld</th>\n",
              "    </tr>\n",
              "    <tr>\n",
              "      <th>Guest</th>\n",
              "      <th></th>\n",
              "      <th></th>\n",
              "      <th></th>\n",
              "      <th></th>\n",
              "      <th></th>\n",
              "    </tr>\n",
              "  </thead>\n",
              "  <tbody>\n",
              "    <tr>\n",
              "      <th>Ann</th>\n",
              "      <td>1</td>\n",
              "      <td>3</td>\n",
              "      <td>2</td>\n",
              "      <td>4</td>\n",
              "      <td>1</td>\n",
              "    </tr>\n",
              "    <tr>\n",
              "      <th>Ben</th>\n",
              "      <td>0</td>\n",
              "      <td>1</td>\n",
              "      <td>1</td>\n",
              "      <td>1</td>\n",
              "      <td>2</td>\n",
              "    </tr>\n",
              "    <tr>\n",
              "      <th>Jordyn</th>\n",
              "      <td>2</td>\n",
              "      <td>3</td>\n",
              "      <td>3</td>\n",
              "      <td>4</td>\n",
              "      <td>1</td>\n",
              "    </tr>\n",
              "    <tr>\n",
              "      <th>Sam</th>\n",
              "      <td>1</td>\n",
              "      <td>1</td>\n",
              "      <td>0</td>\n",
              "      <td>1</td>\n",
              "      <td>3</td>\n",
              "    </tr>\n",
              "    <tr>\n",
              "      <th>Hyunseo</th>\n",
              "      <td>2</td>\n",
              "      <td>1</td>\n",
              "      <td>1</td>\n",
              "      <td>1</td>\n",
              "      <td>3</td>\n",
              "    </tr>\n",
              "    <tr>\n",
              "      <th>Lauren</th>\n",
              "      <td>0</td>\n",
              "      <td>1</td>\n",
              "      <td>1</td>\n",
              "      <td>0</td>\n",
              "      <td>1</td>\n",
              "    </tr>\n",
              "    <tr>\n",
              "      <th>Ahmed</th>\n",
              "      <td>1</td>\n",
              "      <td>3</td>\n",
              "      <td>1</td>\n",
              "      <td>2</td>\n",
              "      <td>3</td>\n",
              "    </tr>\n",
              "  </tbody>\n",
              "</table>\n",
              "</div>"
            ],
            "text/plain": [
              "         Janelle Monae  Major Lazer  Tim McGraw  Maren Morris  Hailee Steinfeld\n",
              "Guest                                                                          \n",
              "Ann                  1            3           2             4                 1\n",
              "Ben                  0            1           1             1                 2\n",
              "Jordyn               2            3           3             4                 1\n",
              "Sam                  1            1           0             1                 3\n",
              "Hyunseo              2            1           1             1                 3\n",
              "Lauren               0            1           1             0                 1\n",
              "Ahmed                1            3           1             2                 3"
            ]
          },
          "metadata": {
            "tags": []
          },
          "execution_count": 61
        }
      ]
    },
    {
      "cell_type": "markdown",
      "metadata": {
        "id": "uBw9S1FnVJmc",
        "colab_type": "text"
      },
      "source": [
        "and sum the values in each row to compute the distances"
      ]
    },
    {
      "cell_type": "code",
      "metadata": {
        "id": "xXjWoxceVJmd",
        "colab_type": "code",
        "colab": {
          "base_uri": "https://localhost:8080/",
          "height": 170
        },
        "outputId": "07ff69c6-0237-4335-815b-c09e619d0503"
      },
      "source": [
        "fr4 = fr3.sum(axis = 1)\n",
        "fr4"
      ],
      "execution_count": 62,
      "outputs": [
        {
          "output_type": "execute_result",
          "data": {
            "text/plain": [
              "Guest\n",
              "Ann        11\n",
              "Ben         5\n",
              "Jordyn     13\n",
              "Sam         6\n",
              "Hyunseo     8\n",
              "Lauren      3\n",
              "Ahmed      10\n",
              "dtype: int64"
            ]
          },
          "metadata": {
            "tags": []
          },
          "execution_count": 62
        }
      ]
    },
    {
      "cell_type": "markdown",
      "metadata": {
        "id": "k2v7pgdRVJmg",
        "colab_type": "text"
      },
      "source": [
        "Finally, let's sort by the distance and get the three closest guests:"
      ]
    },
    {
      "cell_type": "code",
      "metadata": {
        "id": "jUTlc-YNVJmg",
        "colab_type": "code",
        "colab": {
          "base_uri": "https://localhost:8080/",
          "height": 102
        },
        "outputId": "31446c1f-842d-4f78-9755-dbf73c2f9385"
      },
      "source": [
        "fr4.sort_values().head(3)"
      ],
      "execution_count": 63,
      "outputs": [
        {
          "output_type": "execute_result",
          "data": {
            "text/plain": [
              "Guest\n",
              "Lauren    3\n",
              "Ben       5\n",
              "Sam       6\n",
              "dtype: int64"
            ]
          },
          "metadata": {
            "tags": []
          },
          "execution_count": 63
        }
      ]
    },
    {
      "cell_type": "markdown",
      "metadata": {
        "id": "YiFl-UwbVJmi",
        "colab_type": "text"
      },
      "source": [
        "So Lauren is the person most similar to Mikaela, followed by Ben and Sam.\n",
        "\n",
        "<h3 style=\"color:red\">Q6. Find Closest</h3>\n",
        "\n",
        "<span style=\"color:red\">Can you write a function nearestNeighbor that takes 2 arguments: a customers dataframe,  and an array representing one customers ratings and returns the name and distance of the closest  customer (using Euclidean Distance)?</span>\n",
        "\n"
      ]
    },
    {
      "cell_type": "code",
      "metadata": {
        "id": "m1YW8E5VVJmi",
        "colab_type": "code",
        "colab": {
          "base_uri": "https://localhost:8080/",
          "height": 119
        },
        "outputId": "b4167f47-8423-4bed-d42c-8597cc7347cb"
      },
      "source": [
        "ahmed = [4, 5, 3, 3, 1]\n",
        "def nearestNeighbor(ratings, customer):\n",
        "    # Your code here\n",
        "    # ratings = one customer's ratings\n",
        "    # customer = dataframe \n",
        "    # this is manhattan distance. did it this way bc in the answer for the notebook was 3 and 2 \n",
        "    diff = ratings.sub(customer)\n",
        "    abs = diff.apply(np.abs)\n",
        "    sum_each_row = abs.sum(axis = 1)\n",
        "    result = sum_each_row.sort_values().head(1)\n",
        "    return result    \n",
        "    \n",
        "print(nearestNeighbor(fr, mikaela))\n",
        "# TO DO\n",
        "# brandon = mb.iloc[1]\n",
        "print(nearestNeighbor(fr, mb.loc['Brandon']))"
      ],
      "execution_count": 94,
      "outputs": [
        {
          "output_type": "stream",
          "text": [
            "Guest\n",
            "Lauren    3\n",
            "dtype: int64\n",
            "Guest\n",
            "Ann    2\n",
            "dtype: int64\n"
          ],
          "name": "stdout"
        }
      ]
    },
    {
      "cell_type": "markdown",
      "metadata": {
        "collapsed": true,
        "id": "mC_uiqHVVJmj",
        "colab_type": "text"
      },
      "source": [
        "<h3 style=\"color:red\">Q7. Find Closest using Euclidean Distance</h3>\n",
        "\n",
        "<span style=\"color:red\">Can you write a new function nearestNeighbor that takes 3 arguments</span>\n",
        "\n",
        "* ratings - an DataFrame representing all our customer ratings\n",
        "* customer - a DataFrame representing one customer's rating\n",
        "* metric - the value is either the string 'manhattan' or 'euclidean' representing which metric to use to compute the distance.\n",
        "    a customers dataframe,  and an array representing one customers ratings\n",
        "    \n",
        "It returns the name and distance of the closest  customer (using Euclidean Distance)?\n"
      ]
    },
    {
      "cell_type": "code",
      "metadata": {
        "id": "n9fd8EMAVJmj",
        "colab_type": "code",
        "colab": {
          "base_uri": "https://localhost:8080/",
          "height": 119
        },
        "outputId": "6ef7f35a-4ca4-488e-c1d0-9f71a0a7fd94"
      },
      "source": [
        "def nearestNeighbor(ratings, customer, metric):\n",
        "  if metric == 'manhattan':\n",
        "    diff = ratings.sub(customer)\n",
        "    abs = diff.apply(np.abs)\n",
        "    sum_each_row = abs.sum(axis = 1)\n",
        "    result = sum_each_row.sort_values().head(1)\n",
        "  else:\n",
        "    diff = ratings.sub(customer)\n",
        "    diff_sq = diff.pow(2, axis = 1)\n",
        "    sum = diff_sq.sum(axis = 1)\n",
        "    sqrt_final = np.sqrt(sum)\n",
        "    result = sqrt_final.sort_values().head(1)\n",
        "\n",
        "  return result;\n",
        "\n",
        "print(nearestNeighbor(fr, mikaela, metric='euclidean'))\n",
        "print(nearestNeighbor(fr, mb.loc['Brandon'], metric='euclidean'))"
      ],
      "execution_count": 95,
      "outputs": [
        {
          "output_type": "stream",
          "text": [
            "Guest\n",
            "Lauren    1.732051\n",
            "dtype: float64\n",
            "Guest\n",
            "Ann    1.414214\n",
            "dtype: float64\n"
          ],
          "name": "stdout"
        }
      ]
    },
    {
      "cell_type": "markdown",
      "metadata": {
        "id": "q06oyyZ0UKJi",
        "colab_type": "text"
      },
      "source": [
        "I hereby swear upon my word of honor that I have neither given nor received unauthorized aid on this work -Bridget Danver"
      ]
    }
  ]
}