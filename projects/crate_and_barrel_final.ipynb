{
  "nbformat": 4,
  "nbformat_minor": 0,
  "metadata": {
    "colab": {
      "name": "crate_and_barrel_final.ipynb",
      "provenance": [],
      "collapsed_sections": [],
      "authorship_tag": "ABX9TyNm6BGrgn3IXVqz/SKI8mP1",
      "include_colab_link": true
    },
    "kernelspec": {
      "name": "python3",
      "display_name": "Python 3"
    },
    "accelerator": "GPU"
  },
  "cells": [
    {
      "cell_type": "markdown",
      "metadata": {
        "id": "view-in-github",
        "colab_type": "text"
      },
      "source": [
        "<a href=\"https://colab.research.google.com/github/bdanver/machine_learning/blob/master/projects/crate_and_barrel_final.ipynb\" target=\"_parent\"><img src=\"https://colab.research.google.com/assets/colab-badge.svg\" alt=\"Open In Colab\"/></a>"
      ]
    },
    {
      "cell_type": "code",
      "metadata": {
        "id": "lRG44YdgGgMC"
      },
      "source": [
        "import pandas as pd\n",
        "from xgboost import XGBClassifier\n",
        "from sklearn.model_selection import RandomizedSearchCV, GridSearchCV\n",
        "from sklearn.model_selection import StratifiedKFold\n",
        "import xgboost"
      ],
      "execution_count": null,
      "outputs": []
    },
    {
      "cell_type": "code",
      "metadata": {
        "id": "uaxA-izSTkEp"
      },
      "source": [
        "product_train = pd.read_csv('https://raw.githubusercontent.com/bdanver/playground/master/train.csv')\n",
        "product_train.set_index('id', inplace=True)\n",
        "\n",
        "product_test = pd.read_csv('https://raw.githubusercontent.com/bdanver/playground/master/test.csv')\n",
        "product_test.set_index('id', inplace=True)"
      ],
      "execution_count": null,
      "outputs": []
    },
    {
      "cell_type": "code",
      "metadata": {
        "id": "LUt0uTenLljM",
        "colab": {
          "base_uri": "https://localhost:8080/"
        },
        "outputId": "74231041-fde4-4515-eab7-152ed643ccc9"
      },
      "source": [
        "product_test.columns"
      ],
      "execution_count": null,
      "outputs": [
        {
          "output_type": "execute_result",
          "data": {
            "text/plain": [
              "Index(['feat_1', 'feat_2', 'feat_3', 'feat_4', 'feat_5', 'feat_6', 'feat_7',\n",
              "       'feat_8', 'feat_9', 'feat_10', 'feat_11', 'feat_12', 'feat_13',\n",
              "       'feat_14', 'feat_15', 'feat_16', 'feat_17', 'feat_18', 'feat_19',\n",
              "       'feat_20', 'feat_21', 'feat_22', 'feat_23', 'feat_24', 'feat_25',\n",
              "       'feat_26', 'feat_27', 'feat_28', 'feat_29', 'feat_30', 'feat_31',\n",
              "       'feat_32', 'feat_33', 'feat_34', 'feat_35', 'feat_36', 'feat_37',\n",
              "       'feat_38', 'feat_39', 'feat_40', 'feat_41', 'feat_42', 'feat_43',\n",
              "       'feat_44', 'feat_45', 'feat_46', 'feat_47', 'feat_48', 'feat_49',\n",
              "       'feat_50', 'feat_51', 'feat_52', 'feat_53', 'feat_54', 'feat_55',\n",
              "       'feat_56', 'feat_57', 'feat_58', 'feat_59', 'feat_60', 'feat_61',\n",
              "       'feat_62', 'feat_63', 'feat_64', 'feat_65', 'feat_66', 'feat_67',\n",
              "       'feat_68', 'feat_69', 'feat_70', 'feat_71', 'feat_72', 'feat_73',\n",
              "       'feat_74', 'feat_75', 'feat_76', 'feat_77', 'feat_78', 'feat_79',\n",
              "       'feat_80', 'feat_81', 'feat_82', 'feat_83', 'feat_84', 'feat_85',\n",
              "       'feat_86', 'feat_87', 'feat_88', 'feat_89', 'feat_90', 'feat_91',\n",
              "       'feat_92', 'feat_93'],\n",
              "      dtype='object')"
            ]
          },
          "metadata": {
            "tags": []
          },
          "execution_count": 3
        }
      ]
    },
    {
      "cell_type": "code",
      "metadata": {
        "id": "nFxdOOGaMkXy",
        "colab": {
          "base_uri": "https://localhost:8080/"
        },
        "outputId": "fe91c461-f704-4f21-9e3f-308c8ce64cc2"
      },
      "source": [
        "print(product_train.shape)\n",
        "print(product_train.columns)\n",
        "print(product_train.info())"
      ],
      "execution_count": null,
      "outputs": [
        {
          "output_type": "stream",
          "text": [
            "(61878, 94)\n",
            "Index(['feat_1', 'feat_2', 'feat_3', 'feat_4', 'feat_5', 'feat_6', 'feat_7',\n",
            "       'feat_8', 'feat_9', 'feat_10', 'feat_11', 'feat_12', 'feat_13',\n",
            "       'feat_14', 'feat_15', 'feat_16', 'feat_17', 'feat_18', 'feat_19',\n",
            "       'feat_20', 'feat_21', 'feat_22', 'feat_23', 'feat_24', 'feat_25',\n",
            "       'feat_26', 'feat_27', 'feat_28', 'feat_29', 'feat_30', 'feat_31',\n",
            "       'feat_32', 'feat_33', 'feat_34', 'feat_35', 'feat_36', 'feat_37',\n",
            "       'feat_38', 'feat_39', 'feat_40', 'feat_41', 'feat_42', 'feat_43',\n",
            "       'feat_44', 'feat_45', 'feat_46', 'feat_47', 'feat_48', 'feat_49',\n",
            "       'feat_50', 'feat_51', 'feat_52', 'feat_53', 'feat_54', 'feat_55',\n",
            "       'feat_56', 'feat_57', 'feat_58', 'feat_59', 'feat_60', 'feat_61',\n",
            "       'feat_62', 'feat_63', 'feat_64', 'feat_65', 'feat_66', 'feat_67',\n",
            "       'feat_68', 'feat_69', 'feat_70', 'feat_71', 'feat_72', 'feat_73',\n",
            "       'feat_74', 'feat_75', 'feat_76', 'feat_77', 'feat_78', 'feat_79',\n",
            "       'feat_80', 'feat_81', 'feat_82', 'feat_83', 'feat_84', 'feat_85',\n",
            "       'feat_86', 'feat_87', 'feat_88', 'feat_89', 'feat_90', 'feat_91',\n",
            "       'feat_92', 'feat_93', 'target'],\n",
            "      dtype='object')\n",
            "<class 'pandas.core.frame.DataFrame'>\n",
            "Int64Index: 61878 entries, 1 to 61878\n",
            "Data columns (total 94 columns):\n",
            " #   Column   Non-Null Count  Dtype \n",
            "---  ------   --------------  ----- \n",
            " 0   feat_1   61878 non-null  int64 \n",
            " 1   feat_2   61878 non-null  int64 \n",
            " 2   feat_3   61878 non-null  int64 \n",
            " 3   feat_4   61878 non-null  int64 \n",
            " 4   feat_5   61878 non-null  int64 \n",
            " 5   feat_6   61878 non-null  int64 \n",
            " 6   feat_7   61878 non-null  int64 \n",
            " 7   feat_8   61878 non-null  int64 \n",
            " 8   feat_9   61878 non-null  int64 \n",
            " 9   feat_10  61878 non-null  int64 \n",
            " 10  feat_11  61878 non-null  int64 \n",
            " 11  feat_12  61878 non-null  int64 \n",
            " 12  feat_13  61878 non-null  int64 \n",
            " 13  feat_14  61878 non-null  int64 \n",
            " 14  feat_15  61878 non-null  int64 \n",
            " 15  feat_16  61878 non-null  int64 \n",
            " 16  feat_17  61878 non-null  int64 \n",
            " 17  feat_18  61878 non-null  int64 \n",
            " 18  feat_19  61878 non-null  int64 \n",
            " 19  feat_20  61878 non-null  int64 \n",
            " 20  feat_21  61878 non-null  int64 \n",
            " 21  feat_22  61878 non-null  int64 \n",
            " 22  feat_23  61878 non-null  int64 \n",
            " 23  feat_24  61878 non-null  int64 \n",
            " 24  feat_25  61878 non-null  int64 \n",
            " 25  feat_26  61878 non-null  int64 \n",
            " 26  feat_27  61878 non-null  int64 \n",
            " 27  feat_28  61878 non-null  int64 \n",
            " 28  feat_29  61878 non-null  int64 \n",
            " 29  feat_30  61878 non-null  int64 \n",
            " 30  feat_31  61878 non-null  int64 \n",
            " 31  feat_32  61878 non-null  int64 \n",
            " 32  feat_33  61878 non-null  int64 \n",
            " 33  feat_34  61878 non-null  int64 \n",
            " 34  feat_35  61878 non-null  int64 \n",
            " 35  feat_36  61878 non-null  int64 \n",
            " 36  feat_37  61878 non-null  int64 \n",
            " 37  feat_38  61878 non-null  int64 \n",
            " 38  feat_39  61878 non-null  int64 \n",
            " 39  feat_40  61878 non-null  int64 \n",
            " 40  feat_41  61878 non-null  int64 \n",
            " 41  feat_42  61878 non-null  int64 \n",
            " 42  feat_43  61878 non-null  int64 \n",
            " 43  feat_44  61878 non-null  int64 \n",
            " 44  feat_45  61878 non-null  int64 \n",
            " 45  feat_46  61878 non-null  int64 \n",
            " 46  feat_47  61878 non-null  int64 \n",
            " 47  feat_48  61878 non-null  int64 \n",
            " 48  feat_49  61878 non-null  int64 \n",
            " 49  feat_50  61878 non-null  int64 \n",
            " 50  feat_51  61878 non-null  int64 \n",
            " 51  feat_52  61878 non-null  int64 \n",
            " 52  feat_53  61878 non-null  int64 \n",
            " 53  feat_54  61878 non-null  int64 \n",
            " 54  feat_55  61878 non-null  int64 \n",
            " 55  feat_56  61878 non-null  int64 \n",
            " 56  feat_57  61878 non-null  int64 \n",
            " 57  feat_58  61878 non-null  int64 \n",
            " 58  feat_59  61878 non-null  int64 \n",
            " 59  feat_60  61878 non-null  int64 \n",
            " 60  feat_61  61878 non-null  int64 \n",
            " 61  feat_62  61878 non-null  int64 \n",
            " 62  feat_63  61878 non-null  int64 \n",
            " 63  feat_64  61878 non-null  int64 \n",
            " 64  feat_65  61878 non-null  int64 \n",
            " 65  feat_66  61878 non-null  int64 \n",
            " 66  feat_67  61878 non-null  int64 \n",
            " 67  feat_68  61878 non-null  int64 \n",
            " 68  feat_69  61878 non-null  int64 \n",
            " 69  feat_70  61878 non-null  int64 \n",
            " 70  feat_71  61878 non-null  int64 \n",
            " 71  feat_72  61878 non-null  int64 \n",
            " 72  feat_73  61878 non-null  int64 \n",
            " 73  feat_74  61878 non-null  int64 \n",
            " 74  feat_75  61878 non-null  int64 \n",
            " 75  feat_76  61878 non-null  int64 \n",
            " 76  feat_77  61878 non-null  int64 \n",
            " 77  feat_78  61878 non-null  int64 \n",
            " 78  feat_79  61878 non-null  int64 \n",
            " 79  feat_80  61878 non-null  int64 \n",
            " 80  feat_81  61878 non-null  int64 \n",
            " 81  feat_82  61878 non-null  int64 \n",
            " 82  feat_83  61878 non-null  int64 \n",
            " 83  feat_84  61878 non-null  int64 \n",
            " 84  feat_85  61878 non-null  int64 \n",
            " 85  feat_86  61878 non-null  int64 \n",
            " 86  feat_87  61878 non-null  int64 \n",
            " 87  feat_88  61878 non-null  int64 \n",
            " 88  feat_89  61878 non-null  int64 \n",
            " 89  feat_90  61878 non-null  int64 \n",
            " 90  feat_91  61878 non-null  int64 \n",
            " 91  feat_92  61878 non-null  int64 \n",
            " 92  feat_93  61878 non-null  int64 \n",
            " 93  target   61878 non-null  object\n",
            "dtypes: int64(93), object(1)\n",
            "memory usage: 44.8+ MB\n",
            "None\n"
          ],
          "name": "stdout"
        }
      ]
    },
    {
      "cell_type": "code",
      "metadata": {
        "id": "v0KRBP7pOQBM",
        "colab": {
          "base_uri": "https://localhost:8080/"
        },
        "outputId": "773862ba-d148-46c5-c3db-f724cf7e7e06"
      },
      "source": [
        "product_train.feat_7.unique()"
      ],
      "execution_count": null,
      "outputs": [
        {
          "output_type": "execute_result",
          "data": {
            "text/plain": [
              "array([ 0,  5,  1,  2,  4,  3,  6,  7, 18, 10, 19,  8,  9, 16, 11, 15, 12,\n",
              "       13, 29, 22, 14, 21, 27, 20, 17, 38, 31, 30, 26, 32])"
            ]
          },
          "metadata": {
            "tags": []
          },
          "execution_count": 5
        }
      ]
    },
    {
      "cell_type": "code",
      "metadata": {
        "id": "8i8pTSkbNP2A"
      },
      "source": [
        "features = list(product_train)\n",
        "features.remove('target')"
      ],
      "execution_count": null,
      "outputs": []
    },
    {
      "cell_type": "code",
      "metadata": {
        "id": "z5vK2zrcP1LS"
      },
      "source": [
        "# xgboost \n",
        "train_x = product_train[features]\n",
        "train_y = product_train['target']\n",
        "\n",
        "test_x = product_test[features]\n",
        "# test_y = product_test['target']"
      ],
      "execution_count": null,
      "outputs": []
    },
    {
      "cell_type": "code",
      "metadata": {
        "id": "DZGoCR7rvXpC"
      },
      "source": [
        "param_grid = [\n",
        "    {'n_estimators': [50, 100, 150, 200],\n",
        "     'max_depth': [2,4,6,8],\n",
        "     'learning_rate' : [0.05, 0.10, 0.15, 0.20, 0.25, 0.30 ],\n",
        "     'min_child_weight' : [ 1, 3, 5, 7 ],\n",
        "     'gamma'            : [ 0.0, 0.1, 0.2 , 0.3, 0.4 ],\n",
        "     'colsample_bytree' : [ 0.3, 0.4, 0.5 , 0.7 ]\n",
        "    }\n",
        "  ]"
      ],
      "execution_count": null,
      "outputs": []
    },
    {
      "cell_type": "code",
      "metadata": {
        "id": "fA0qHeaSpXc4"
      },
      "source": [
        "params = {'tree_method':'gpu_hist', 'predictor':'gpu_predictor' }\n",
        "model = xgboost.XGBClassifier(**params)"
      ],
      "execution_count": null,
      "outputs": []
    },
    {
      "cell_type": "code",
      "metadata": {
        "id": "bez7O36iLus6"
      },
      "source": [
        "param_comb = 5\n",
        "folds=5\n",
        "skf = StratifiedKFold(n_splits=folds, shuffle = True, random_state = 1001)\n",
        "random_search = RandomizedSearchCV(model, param_distributions=param_grid, n_iter=param_comb,  n_jobs=-1, \n",
        "                                   cv=skf.split(train_x, train_y), verbose=3)"
      ],
      "execution_count": null,
      "outputs": []
    },
    {
      "cell_type": "code",
      "metadata": {
        "id": "SrHiPTriwDlC",
        "colab": {
          "base_uri": "https://localhost:8080/"
        },
        "outputId": "d1af82a9-8f8e-4be0-d1fa-7e91ccdb76ec"
      },
      "source": [
        "%%time \n",
        "grid_result = random_search.fit(train_x, train_y)"
      ],
      "execution_count": null,
      "outputs": [
        {
          "output_type": "stream",
          "text": [
            "Fitting 5 folds for each of 5 candidates, totalling 25 fits\n"
          ],
          "name": "stdout"
        },
        {
          "output_type": "stream",
          "text": [
            "[Parallel(n_jobs=-1)]: Using backend LokyBackend with 2 concurrent workers.\n",
            "[Parallel(n_jobs=-1)]: Done  25 out of  25 | elapsed:  5.3min finished\n"
          ],
          "name": "stderr"
        },
        {
          "output_type": "stream",
          "text": [
            "CPU times: user 11 s, sys: 3.99 s, total: 15 s\n",
            "Wall time: 5min 32s\n"
          ],
          "name": "stdout"
        }
      ]
    },
    {
      "cell_type": "code",
      "metadata": {
        "id": "LpTrqAAnwO72",
        "colab": {
          "base_uri": "https://localhost:8080/"
        },
        "outputId": "da9fbb2d-e2b4-4aa7-f235-f35fbff26291"
      },
      "source": [
        "random_search.best_params_"
      ],
      "execution_count": null,
      "outputs": [
        {
          "output_type": "execute_result",
          "data": {
            "text/plain": [
              "{'colsample_bytree': 0.7,\n",
              " 'gamma': 0.0,\n",
              " 'learning_rate': 0.15,\n",
              " 'max_depth': 8,\n",
              " 'min_child_weight': 7,\n",
              " 'n_estimators': 150}"
            ]
          },
          "metadata": {
            "tags": []
          },
          "execution_count": 26
        }
      ]
    },
    {
      "cell_type": "code",
      "metadata": {
        "id": "RH5fAp12yJMH",
        "colab": {
          "base_uri": "https://localhost:8080/"
        },
        "outputId": "3c5b015f-3877-4720-ab00-1e22892d4983"
      },
      "source": [
        "predictions = random_search.best_estimator_.predict_proba(test_x)\n",
        "predictions"
      ],
      "execution_count": null,
      "outputs": [
        {
          "output_type": "execute_result",
          "data": {
            "text/plain": [
              "array([[3.0569665e-04, 1.1835359e-01, 1.5384839e-01, ..., 6.4310757e-03,\n",
              "        6.1845599e-04, 1.4686563e-04],\n",
              "       [4.6739234e-03, 8.9988718e-03, 2.1442429e-03, ..., 4.6042860e-03,\n",
              "        3.0113226e-01, 1.3996647e-03],\n",
              "       [3.9314906e-05, 1.0831166e-05, 1.4837452e-05, ..., 3.4873254e-05,\n",
              "        3.4071004e-04, 3.3431294e-05],\n",
              "       ...,\n",
              "       [6.1516487e-04, 6.3537306e-01, 2.9189196e-01, ..., 4.5699738e-03,\n",
              "        8.1803714e-04, 6.9251968e-05],\n",
              "       [6.6895928e-04, 2.8506878e-01, 3.3498533e-02, ..., 6.1671453e-04,\n",
              "        7.2001560e-05, 4.5267225e-05],\n",
              "       [2.7564695e-04, 5.2461374e-01, 4.1124716e-01, ..., 3.6302403e-02,\n",
              "        3.0817676e-04, 2.5719657e-04]], dtype=float32)"
            ]
          },
          "metadata": {
            "tags": []
          },
          "execution_count": 27
        }
      ]
    },
    {
      "cell_type": "code",
      "metadata": {
        "id": "jY382ok8ydG0",
        "colab": {
          "base_uri": "https://localhost:8080/",
          "height": 437
        },
        "outputId": "d4011f50-adbb-4840-9160-ec2ceb40282a"
      },
      "source": [
        "# convert to kaggle file\n",
        "df = pd.DataFrame(predictions)\n",
        "df.index += 1 \n",
        "df.index.name = 'id'\n",
        "df.columns=['Class_1','Class_2','Class_3','Class_4','Class_5','Class_6','Class_7','Class_8','Class_9']\n",
        "df"
      ],
      "execution_count": null,
      "outputs": [
        {
          "output_type": "execute_result",
          "data": {
            "text/html": [
              "<div>\n",
              "<style scoped>\n",
              "    .dataframe tbody tr th:only-of-type {\n",
              "        vertical-align: middle;\n",
              "    }\n",
              "\n",
              "    .dataframe tbody tr th {\n",
              "        vertical-align: top;\n",
              "    }\n",
              "\n",
              "    .dataframe thead th {\n",
              "        text-align: right;\n",
              "    }\n",
              "</style>\n",
              "<table border=\"1\" class=\"dataframe\">\n",
              "  <thead>\n",
              "    <tr style=\"text-align: right;\">\n",
              "      <th></th>\n",
              "      <th>Class_1</th>\n",
              "      <th>Class_2</th>\n",
              "      <th>Class_3</th>\n",
              "      <th>Class_4</th>\n",
              "      <th>Class_5</th>\n",
              "      <th>Class_6</th>\n",
              "      <th>Class_7</th>\n",
              "      <th>Class_8</th>\n",
              "      <th>Class_9</th>\n",
              "    </tr>\n",
              "    <tr>\n",
              "      <th>id</th>\n",
              "      <th></th>\n",
              "      <th></th>\n",
              "      <th></th>\n",
              "      <th></th>\n",
              "      <th></th>\n",
              "      <th></th>\n",
              "      <th></th>\n",
              "      <th></th>\n",
              "      <th></th>\n",
              "    </tr>\n",
              "  </thead>\n",
              "  <tbody>\n",
              "    <tr>\n",
              "      <th>1</th>\n",
              "      <td>0.000306</td>\n",
              "      <td>0.118354</td>\n",
              "      <td>0.153848</td>\n",
              "      <td>0.719565</td>\n",
              "      <td>5.877643e-05</td>\n",
              "      <td>0.000673</td>\n",
              "      <td>0.006431</td>\n",
              "      <td>0.000618</td>\n",
              "      <td>0.000147</td>\n",
              "    </tr>\n",
              "    <tr>\n",
              "      <th>2</th>\n",
              "      <td>0.004674</td>\n",
              "      <td>0.008999</td>\n",
              "      <td>0.002144</td>\n",
              "      <td>0.000725</td>\n",
              "      <td>3.441717e-04</td>\n",
              "      <td>0.675977</td>\n",
              "      <td>0.004604</td>\n",
              "      <td>0.301132</td>\n",
              "      <td>0.001400</td>\n",
              "    </tr>\n",
              "    <tr>\n",
              "      <th>3</th>\n",
              "      <td>0.000039</td>\n",
              "      <td>0.000011</td>\n",
              "      <td>0.000015</td>\n",
              "      <td>0.000008</td>\n",
              "      <td>5.358532e-07</td>\n",
              "      <td>0.999517</td>\n",
              "      <td>0.000035</td>\n",
              "      <td>0.000341</td>\n",
              "      <td>0.000033</td>\n",
              "    </tr>\n",
              "    <tr>\n",
              "      <th>4</th>\n",
              "      <td>0.000371</td>\n",
              "      <td>0.685083</td>\n",
              "      <td>0.306388</td>\n",
              "      <td>0.007035</td>\n",
              "      <td>3.562203e-05</td>\n",
              "      <td>0.000171</td>\n",
              "      <td>0.000176</td>\n",
              "      <td>0.000278</td>\n",
              "      <td>0.000463</td>\n",
              "    </tr>\n",
              "    <tr>\n",
              "      <th>5</th>\n",
              "      <td>0.020843</td>\n",
              "      <td>0.000141</td>\n",
              "      <td>0.000417</td>\n",
              "      <td>0.000101</td>\n",
              "      <td>9.691791e-05</td>\n",
              "      <td>0.002649</td>\n",
              "      <td>0.001005</td>\n",
              "      <td>0.013524</td>\n",
              "      <td>0.961223</td>\n",
              "    </tr>\n",
              "    <tr>\n",
              "      <th>...</th>\n",
              "      <td>...</td>\n",
              "      <td>...</td>\n",
              "      <td>...</td>\n",
              "      <td>...</td>\n",
              "      <td>...</td>\n",
              "      <td>...</td>\n",
              "      <td>...</td>\n",
              "      <td>...</td>\n",
              "      <td>...</td>\n",
              "    </tr>\n",
              "    <tr>\n",
              "      <th>144364</th>\n",
              "      <td>0.612585</td>\n",
              "      <td>0.017101</td>\n",
              "      <td>0.010389</td>\n",
              "      <td>0.007420</td>\n",
              "      <td>1.313776e-04</td>\n",
              "      <td>0.276856</td>\n",
              "      <td>0.033605</td>\n",
              "      <td>0.018869</td>\n",
              "      <td>0.023043</td>\n",
              "    </tr>\n",
              "    <tr>\n",
              "      <th>144365</th>\n",
              "      <td>0.000938</td>\n",
              "      <td>0.261254</td>\n",
              "      <td>0.524236</td>\n",
              "      <td>0.097303</td>\n",
              "      <td>3.522842e-04</td>\n",
              "      <td>0.002577</td>\n",
              "      <td>0.112634</td>\n",
              "      <td>0.000334</td>\n",
              "      <td>0.000372</td>\n",
              "    </tr>\n",
              "    <tr>\n",
              "      <th>144366</th>\n",
              "      <td>0.000615</td>\n",
              "      <td>0.635373</td>\n",
              "      <td>0.291892</td>\n",
              "      <td>0.065742</td>\n",
              "      <td>8.842658e-05</td>\n",
              "      <td>0.000832</td>\n",
              "      <td>0.004570</td>\n",
              "      <td>0.000818</td>\n",
              "      <td>0.000069</td>\n",
              "    </tr>\n",
              "    <tr>\n",
              "      <th>144367</th>\n",
              "      <td>0.000669</td>\n",
              "      <td>0.285069</td>\n",
              "      <td>0.033499</td>\n",
              "      <td>0.679910</td>\n",
              "      <td>5.983718e-05</td>\n",
              "      <td>0.000060</td>\n",
              "      <td>0.000617</td>\n",
              "      <td>0.000072</td>\n",
              "      <td>0.000045</td>\n",
              "    </tr>\n",
              "    <tr>\n",
              "      <th>144368</th>\n",
              "      <td>0.000276</td>\n",
              "      <td>0.524614</td>\n",
              "      <td>0.411247</td>\n",
              "      <td>0.025353</td>\n",
              "      <td>2.077126e-04</td>\n",
              "      <td>0.001435</td>\n",
              "      <td>0.036302</td>\n",
              "      <td>0.000308</td>\n",
              "      <td>0.000257</td>\n",
              "    </tr>\n",
              "  </tbody>\n",
              "</table>\n",
              "<p>144368 rows × 9 columns</p>\n",
              "</div>"
            ],
            "text/plain": [
              "         Class_1   Class_2   Class_3  ...   Class_7   Class_8   Class_9\n",
              "id                                    ...                              \n",
              "1       0.000306  0.118354  0.153848  ...  0.006431  0.000618  0.000147\n",
              "2       0.004674  0.008999  0.002144  ...  0.004604  0.301132  0.001400\n",
              "3       0.000039  0.000011  0.000015  ...  0.000035  0.000341  0.000033\n",
              "4       0.000371  0.685083  0.306388  ...  0.000176  0.000278  0.000463\n",
              "5       0.020843  0.000141  0.000417  ...  0.001005  0.013524  0.961223\n",
              "...          ...       ...       ...  ...       ...       ...       ...\n",
              "144364  0.612585  0.017101  0.010389  ...  0.033605  0.018869  0.023043\n",
              "144365  0.000938  0.261254  0.524236  ...  0.112634  0.000334  0.000372\n",
              "144366  0.000615  0.635373  0.291892  ...  0.004570  0.000818  0.000069\n",
              "144367  0.000669  0.285069  0.033499  ...  0.000617  0.000072  0.000045\n",
              "144368  0.000276  0.524614  0.411247  ...  0.036302  0.000308  0.000257\n",
              "\n",
              "[144368 rows x 9 columns]"
            ]
          },
          "metadata": {
            "tags": []
          },
          "execution_count": 28
        }
      ]
    },
    {
      "cell_type": "code",
      "metadata": {
        "id": "xVtpy1oqU8UD"
      },
      "source": [
        "df.to_csv('final_1.csv')"
      ],
      "execution_count": null,
      "outputs": []
    },
    {
      "cell_type": "markdown",
      "metadata": {
        "id": "DFFxOnzbc8sr"
      },
      "source": [
        "![f1.PNG](data:image/png;base64,iVBORw0KGgoAAAANSUhEUgAAA9QAAADVCAYAAAC2YLi8AAAAAXNSR0IArs4c6QAAAARnQU1BAACxjwv8YQUAAAAJcEhZcwAADsMAAA7DAcdvqGQAADsbSURBVHhe7Z2PbxTXvbfzJ1Sq7n1T3d5GaXvbpFX6K62q6K1atX0rVZHVqlEVKWmtqHWivBG6ka6gUuVELap6UW4hVawmtVBCSjCBwu0SiE3NNbFlg40DDoYlDrZwbLB5tyxxYhPHBm9i9H2/58yZ3ZnZ2V178Bqwn0d6BLuz82Nnzpw5nz1nxrcIAAAAAAAAACwaAjUAAAAAAABAAgjUAAAAAAAAAAkgUAMAAAAAAAAkgEANAAAAAAAAkAACNQAAAAAAAEACCNQAAAAAAAAACSBQAwAAAAAAACSAQA0AAAAAAACQgAUH6rlcTrIX35Gz58Zk9Ow5RERERERExBtWk11NhjVZtlosKFCbDTAbMzV1ST788EP56KOPEBEREREREW9YTXY1GdZk2WqF6gUFapPqzYbEbSQiIiIiIiLijarJsibTVoMFBWqT6OmZRkRERERExJtNk2VNpq0GCwrUZvx53IYhIiIiIiIi3uiaTFsNCNSIiIiIiIi4oiVQIyIiIiIiIiaQQI2IiIiIiIiYQAI1IiIiIiIiYgIJ1IiIiIiIiIgJJFAjIiIiIiIiJpBAjYiIiIiIiJhAAjUiIiIiIiJiAgnUiIiIiIiIiAkkUCMiIiIiIiImkECNiIiIiIiImEACNSIiIiIiImICCdSIiIiIiIiICVz5gfryrMzOzspc3LQ5Ny0XMw1XvHN67Gcvx09L6uz5AUmPTMaXt0U4NzEs6bcyMhszDRERERERbwxXfqDO9kuqcau0nZmOTJuUgeZGaTwwJNOh91eSszIxNibZS3Mx025w56Ylq9s+8UHMtCVxWoYO6PE/lomZltRpGT6oy0ylZSJ2+sLN9m2Vxq1dMjobPx0REREREa+/Kz9QfzQnmWO7NZx0y1igN3J2pEu2NrbIwHvBz640M9LX2CitQ9EfE24CLw1Jq257XyZm2pJYjUCt5uZkdi7m/UWry1ni3nNERERERFxaV0GgVi+PSffWRkmdyIZf92ULQ3NnJ2T4ZLd0vNoqXceHJDPt3rfTMjJwvF9Gg+H7vVHpPz4gGduDOCmjOn0gMykTw326jG4ZDc7vnBzpl/63MjI5MSz9na3S0aPzmx7Yy7ru413SeqBL+ocnwsOFc9My9lavdB3YZz8/+t5saJlmemYoLd3t+6S1s1+GLrjpdpu7pEVD6e6DvbqtozIZnM85mxmw0yamxySt27TvpNtH+fXq/nhd1ztZ3Ms9PTYgvWae9m4ZGJ0sGp7sT2/t7LXTC98ruL+8bc/vCzPd7NsjbbJbt71Fv5PZZ6WGPk9nhiTd0yH7zL4byhY+V/GYFQL17IUhtw1pGX4nsH/9ZUzMSuYtLRuB42OGdhdtt+ofY387ZnWdA6/rsX21Q7rf0mMQDMmljp2Zzx2X4DGbfWc48F0zMh24VSF/HD/QbTbriytLiIiIiIi4pK6OQK1On2mTrY2tMjT5kWRPpMI91pND0qYBe/uBbg0l/dLbbqbvk3TWTY/rLc30SaNZ3iXz2usJ3r0rJTvbzDLSMhYTqDPHNMDpZ/bZ9XRL68tmeHCHdPy9RbrNejv26TZula4RF6wu63JTjbJ1b4f06vT+wy06fbt0jfrBywwx3mqnp4fHZPhkhx3ebudfYKCeHmrV77Fbdu9t0eCs23BmIrTe/qEhGehple2NKf3+fqg2vf7ePurQefpf15BnfqDQcOoFuMD040MypGHUfNfCdLe/UvukpcNsm9sXu/okY3p3Fxio7TE16zg5LGMazDvMNneOep+teMxcoE6lpMUd9+4D23V64Hu6ZaRSrfZ7+senrb1N9rUHtjvVL1m3DnuM3W0Ecxf69Hhsl9ZjQzI6OiS9+7cGPlvm2Ol077jo/nDLnRwy5VeX1aP743iv9133pvPr9T6fklRza6As3aSjExARERERbxJXTaA2vaImQG3d36IhMxBaNfyNHdGg0zwQCJyzMtyuwah9eIHhzAuIW3vGyvYIeoG6EL7M/d0mNHaf84OqbuPf9TNuGPLkWy1FQ9Wzx3cXlvHBsHTo/L1jhemz74xJNh/mve0qF6q8IBYe+m7XG9xO1a7Xv9/8vQG7DwvbreFxrE/2mZ5501trp++Wfv8HCaP9rmX210Ra9ul7+X1ccci3O0ZHxgrvfTAhY1n3XRcaqEPf0y3T/55uGR3Dfllx018NlJXzvYFlhgN19rgG9P2Bz16elEzG9eRXOHahQD03Jr1bG6Xlzcn8Z/35/W0rPo5zMnoo8F0QEREREXHJXUWBWrUPKPNCRiE8Z6VPw8q+YFhRzT3WjY0aZk2P6QIDdaXewGDYsu8VLTd4X697wFU0pNtgus8FJ6+Xs/HlVuk+OSSj2cnIE8sXGqgLPaH59XakZWxsrODJjvznTM9wY2NvYJ6w3vQOSQfnH0vbAOh915jtiu6LuH0e0Rt1YHpt0zI0mg0Pp654zOLvoQ59t5hlFB3D0DLjeqi3yr6OXhkYzsjEB8Fh8+WPXei46HK25o+576yMdhbKR/FxjNlWRERERERcUldXoI4NmCVCp+15bJNh02NYMZxVJ1DHBT4zPL1VQ1rfBffa3ofbb++x3rlVP791ny7PD27JArVdb3OXHQYd1hs2HhfegnrTW6SraH7/nualCdRGcw+1uR993181nJrw2ueGlVc8Zt733O3fV++cO9etn3FP145ZxmICtXlt76E29z2nzHDyRtnePlz4MafMsQvt48g6fDOv6zwHh+26CNSIiIiIiMsvgdoFq61Hwj3BoaHVLlj1ni9Mnxs1PdjVDNTm89Gh6BrQhk1PceDPKeXmAtvtDWsvrCNJoHbr9Ye7+wZ7vjXgFT0h3Qy3HsvKtOnRt9M7ZLjkn7xaukA9F3ii9uRp813cMal4zNy+jnzPuON+LYE6uH1z53vtEP/88socu9BxsduxVXrHgj3cWenfVfhBgECNiIiIiLj8EqhV709opaTXPIn68pxMZwfsQ8oK96x64aUx1SvDE9MymUlLh+0RrW6gzv8N7TezMqvbNTs5Kr3mYVT+MHB3L3PbafcE7Q8y0t+s0w+5B3P5oatnVCZng2GsYFwQ89abki7z1GwNhHMfZGXADE/Oh09drtmOgwOSnZ6V2Wk3Pf/ALW966tCQZM0w57lZyb5phmf7IXsBgXp2VLrMZ05pSI/ddu/viG89OCSTJrTmZiVzwtxz7v/YUOmYuR9Stu6TruEJmZ2dlcmxPmnR455/Gvw1BWp3b36qT8bsd9ZydcYrZ+l39HWFYxc+LmZ4t1lWr33a+tzlabc/Cz9qEKgREREREZdfArV1Tibe6vCG3er0RnNf7snAn2BS57Jp74nOOn17c79kRoNBqkqBWp09pyHPrdcOaT48LJOB3uLJkW77hG1vunlSeVqygXuJp0f96YFe7YCxgVoNr9ctNzj/B2PS1+wNYzZu3dutYa/0dHOvcDr/Z6EWEKj1mGRPmaeL67yRB6TlnRyV7r0mJAfWkS2E7/LHzNvXraczMtzub6fZv4GnoV9ToNbXl7OStk8O97bBDOnuHincq1/u2BUdl8sTMtCxU0O0+3xofxKoERERERGvh6ssUFdyzvZUFobh3jjOme0KPXAsrJluepPjpl2LFZd7WaeX6P22Vpq+FC7FOswyqrD/rHPlt29Rx67CshARERERcfkkUCMiIiIiIiImkECNiIiIiIiImEACNSIiIiIiImICCdSIiIiIiIiICSRQIyIiIiIiIiaQQI2IiIiIiIiYQAI1IiIiIiIiYgIJ1IiIiIiIiIgJJFAjIiIiIiIiJpBAjYiIiIiIiJhAAjUiIiIiIiJiAgnUiIiIiIiIiAkkUCMiIiIiIiImkECNiIiIiIiImEACNSIiIiIiImICCdSIiIiIiIiICSRQIyIiIiIiIibwugbq/5f5h7z73nuIiIiIiIiIN50m01aDBfdQAwAAAAAAANyMXPch3wAAAAAAAAA3IwRqAAAAAAAAgAQQqAEAAAAAAAASQKAGAAAAAAAASACBGgAAAAAAACABBGoAAAAAAACABBCoAQAAAAAAABJAoAYAAAAAAABIAIEaAAAAAAAAIAEEagAAAAAAAIAEEKgBAAAAAAAAEkCgBgAAAAAAAEgAgRoAAAAAAAAgAQRqAAAAAAAAgAQQqAEAAAAAAAASQKAGAAAAAAAASACBGgAAAAAAACABBGoAAAAAAACABBCoAQAAAAAAABJAoAYAAAAAAABIAIEaAAAAAAAAIAEEagAAAAAAAIAEEKgBAAAAAAAAEkCgBgAAAAAAAEgAgRoAAAAAAAAgAQRqAAAAAAAAgAQQqAEAAAAAAAASsCoC9XwuJ7kP3YsQ85LTafNX3UsAgKRcnZfZqaxk3p0uUd+Ux9ZT8+7FkpCT7NCAjL2/pAstSel6FmBpsWWt6GTxrudFb+t5aa/z7mVJPpyS0TcHJXvFvU5I7sKgDJybrrw+WFrccS72Rj4Sy1tH+1BGYVmYz8n0uxnJTs0ucdvmxmQVBOpZGT64WTa/0i/ZaGNvZljaNm+W/ovuNQBAAqbP9Upzk9YzWp947pC2NycW0WDJSr/O1zY8614vAbOj0q7L3PvmlHsjJ1OZjEzMhLcqN5WRzDuz19i4cvXs8ax7DVAt5iXzupa1/YMy7d6xvJuWlJb3pkgZnB5s1vOxVzKVCvg7/dK0uUm6x3Pe6/lZmdDzZapMwJ6fmZBMZkrPLJ9ZGe3QbXtlQPyzDpaJi/2B+jeotv3cR643RXVtUR299FBGYfmZl4k322RH8Dxsapbec6Eae8WxegK1HtBUXzbcaCRQA8C1og35vdoQbx/0Gy3zMjt+zL6Xb5xXpAqB2vBhsGcufh3Z41o/HhzWmvJaIFDD8pE7163X9DYZnnFvKF5w1jIYCtouPBweCwSK0swHu1EW0D6YHW7TdUYCm+kprRTeYemxgbpNBt+7cXuoY+vaUB299FBGYbkx9XPT5r1ybNyV9Ks5mRhst+8NvOe9tRJZRT3Ue20Dt/d8hQvmbFaG3+yVrv1d0ntyUDKBmi93cVDSJ8dk6kpWBl/vkrbDaRmdMsszw3bcPEPZogv3bGZQjh1u088fk8FxhtkArCRiGyymThhMS9r9IuvXHcHfZ6fP6fR8feGH3WmZHk9L98E26e671vpnWsZOpmXwor6T03lOdkurriPVccxti5lP1/V3rR//1i7H9LNj77tZlUr1lpne29ksXa+bYbLTBGpYPty1u3A9967zKT1vmoNBez4jvfa88ht2s5IdHnDlVs+N0AlmzhF3Drw/Jumj7bbHu1XPs8J5WsCcv8c6Unrut0q3f5659/Of95c55c7Rg92SPjtlzyUz7LZw/pgPF8i9NyoDeo43d/bKwPBE0bohBheogz+yBJmfHpMBeyzcG8psZkDSp0bFVqOGnBn27+rSN4dlIjo6QctPZuiY1s/ecRt7v3BkytfxperaQB3tU2Ydhc9Py9RZvxyXvk2BMgrXg/gf6aeKy3r+fNP2zslhyYZnKD/dL7fv6fnyZre07R+QCTfpemWu1ROotaE3Pdgqm5u6ZcyvGKKB2vU0NXelZXhcK4vOvfr5dhl1FbTXcNZgfrBLK8Rj0tXcZKd3dWiF06cV1OveEIe9p/zDOq8FyyxDp2thGNbKqm2nTtdtWa4DDADVZT5zzA4VbR/URkWJ5zHEhe7wRccL1KlXmqW1ywTeQv2iGduy+Pon0CO9qEBdud6aHmrT77xD2jSUpE/q9L+3S/t+r54FqD7TMqjlLT+8Ozcm3XoO9l+ckPTfNkv3Oddos8O4m2XQlmud9orO09wl6eExbah1eSNLRlwrLdgeuIZAHTqv3TL3vtJmz9FjXc1eXdHZrkHEnIfeubX5lXS+MTg9bHpyzLk1KMPDaXueN3UMh4IaxFAhUGshkbHDWmf6x+aKlpmmwPGfHpb2ps2y42CvDA4PS9ocq0D9Kx9qferKj6krvWO5V8uLVyuWr+NL1bWRUUORdaSPtNqyUBjpFL1OuPLzN11vTKOSMgrXg+khzVquh7pk1gmcb2ktm70Hd4TaO9Hpx2wea5aBd910V25Tf9NzQYNzum9UI/v1zVyrKlDrEbL/b+oYDVUkfqAuvtckK8d0ul/hehVml4z6gfzKqHTp9ObBQjWS7QtUVO8PagM2JWm/ABjsfV7lKn0AuLmYl6mhLne/0A4NvN3aYM/KbCBcLzRQb+4cDdQ/XjjwQ8Oi659oY63otUd4O5RK9Zbr9WsNrNdc/ExdSqCG5WLilAaFv7lGvoapJnefdPa4hqbXM7YBZYeB+5+JuSfani8l2gNFr2OoeF67ZXSd9c/qnIx26vTgsPQLx3QZhXPrmDYiC59X7HlufixwryEeG6ibZFdzszTvD/imHwOVmVFtpJuRihpwj2v50ePkHYd5yRzVchOqf71j5de/NiQ0aRnLP4tH5zmuy3/du52gch0fU9dG6uTidWg5Pxko5+7zTa58W6YGpLlMOaWMwvKTk0yf+WFGy1HTLjuKwfQUF0qMO9/+Hrw9R/NZp4bjt0xJj5vuyqV/jrpyG2qHXOfMtcoCtWIbfk3Sbn4Gibtgzudk6mJGMmcH8z0+fmVXXDEVN1CDFdXsSLt+vksG9CKeyTtgG8FUPAArDFN3ZIZl4PV22aUNjs07Nfy6ur5yYys+7E6c0IvK/3iNvsXWP8XT49cRbeRVrLdCvX4+ejH8H10OgRqWCxuivYaSDdfuPun5870ugHj3T4cfUjYvOfMk/syoDPo9b5Fgkb82x7UPIiw0rASXET3fQj2r7tw6NhI894bl2L7i8xYi2P2YkvajZtRMwMiDkKbP6DHbuUPbdq2BOmxC+rXObu4bDez3jAwf3euOlbsXv690/Va5jo859qE62a0jGJYNNhD49W1MHV6hnFJG4brx4bRMaJY6drjVZqmmZi2H9sci73xrOxM+Nwu48zEYlhXv2RnuAZMx5fZ6Z67VF6gVO1zFDC24ED4g81ppmCf17njF3D+dlsGz3oHwK4nFNmi9z3tDbUIVvBq8VxEAVhgfZuWY6V0+6jWOKje2vLokP1TVEexhW2z9Uzw9pjGmRBtPFeutYOMqT3E9C1BV3EiJ7nNZO/w7X67t8G8NIO960/P3WZvhtOY2iZ17xdw/nR4alYGuQNmPNtAqBBVDxfN6sWGlVChUQ/ceQjGx9VIxpp1nhvKHh0l7daN3O0xk39vh/pXrt8p1fMyxD9XJJdbhOoH63zEvYurwCuWUMgo3BG4UW+uQCcnxbZECJabbkRLtMmrejim3FdsuVWZVBmo9sjLc0SRNO3fYIQneAXGfC/0C6Q359g9qccVUfNBDFZFWPE3BIZoAsMKYt0Obmg+7YaN53PAkN5zUqzuOBeqOeRnrCTZavLokdTIwPNFfhut5W3T9UzQ9/iIV13gqW2+5C1noAY9uGCCBGpYPc0/sZmk63C1doRET3rW8rcPc59ktY66NX3wOatkP3iIRbaBVCCqG4nMycj4tNqzYz0eGLBpKPJsBAgT3Y0m8++j3Hh+w9yrvPeH/aUOvzITrXyWw3+2tBKEhqFoCA38Gq3IdH3PsI3Vy7DrOduly/XIcU4dXKKeUUVhepmSwXdtE+We5+Lhb2PSc8883v8PBY15m39Hzacq2dmKm6xKCtz/ElfvrnLlWaaBW7L00+n7+gHgX580HtTIzRzD/mPdC5bX4Bq2rvHvM0yJ1ofP+MgnZACsF709ENEnriTGZmjV/pmVasm+ae6qbCj3Odtie1gVHR/Uz3nQ7LDxfV3h1SdPONklfnNVlzMrEcLf3p7fcMhZf/0Snexe01OtjMh34mynevai9Mjadk3nbKKpUb7k69ZVjdh7zfceOmgf46HsEalhGvHNCy13kb1Ln/4RWIBT4f2pr8H2v7OfeHfTaAP5nog0029Ot589bEzJb4m8M+csceFfPWfeRaworth3SJE0H+iVjGiJX52Xa/gm+mAADYex+jA5FNhaei+M9mNa7R3n+nX7dr3vz+9XW402t0p+ZtvWgeSr4Ma0H8yFb63D7ELtBUx5yMuvKT/4hkBXr+Li6NlJHB9aR+3Becm4bCvdMF9f5scEiAGUUlpuJU3u1vOyV7qGstjW0jTA7JaP2nurI+WYfXDZt/7ydV4YK7Z3g9Hk9F/zzLX/PdGy5v76Za/UGasU7YIEDMj0qXf/dpAVBP795h3SdGQz9yY3FN2iVKxnp//sOt0xVG8wD7/jVOwDc/MzL1HCvtJr7Mf3zvKlZeoe9Pz3iMS8Tb3rPZDB1S+vJrIyF6gqvLukf13/NsFT3ubY3/R6UpQjUuozxXntbS6HHQ5kZk163zvwPAJXqrdB0rStHsiXrWYCq8f6gfSBTKtob4sJN+B68aRnt2mWv+abc7ugclsHX9f8lg4Wes2+5czb/UKgI8xMyYJ5Oq5/xt+Hawory4ZQMBrbT1iVng98DYrH70e2zkK7OdEOnC7fVzEvm9WCPsPdwSRuC7XxN0nxkVKYDPa+58/2Bet5MD/6ZrEp1vFJU1xbX0cXrCG5D8ecrBWrKKCw/OcmedM+S8cuI6Sy4EGhDFJ1v4fZOqen5JZQq99cxc62CQL145s0vKoWjujR8aHpylnqhAHAjYeuOJTjPzXK8HozrTIV6qyp1JUA1uVmuxfO0Ga4P87rfy9e/y1Hv3TDXgHJQRqEs3rlUvoxUOt/cdPdqwVyHep5ADQAAAAAAAJAAAjUAAAAAAABAAgjUAAAAAAAAAAkgUAMAAAAAAAAkgEANAAAAAAAAkAACNQAAAAAAAEACCNQAAAAAAAAACSBQAwAAAAAAACRg1QTqmXM90pLaI3sOj+urnIyn05K94k27ZnIzMjOTcy8qcEU/u1TrBYDrz/sj0ndmxr0AgOUkNzkugyNZWegl+KZiPrfwtgV4aHssOzIo45Mrc7/lZmYkN+9eAFSLpOeRrbNKlFGdNnl+UEYu6nT3VhRbnw+Ny2SZnFS2zjcZS9cfcpky1+oI1OdaZF3tetl1JC19I5OarvuksbZWGt9YmkbwZNcGqXmqU3TJZZiRwdQGqaupkZqdg+49ALjZGX91ndSsbRHzU921MyPj6RFZoW1BgKXjyojs+V2t1K6pl/on10ldbb3sGlphJ87QrgW0LcAne7hBy8FjWh60TKyplbqnWmRkRXVgTErnUzVazt1LgCqQPdoo62rqZJ1/Hj3TI1k3rTw5Gdmt7SHNOdEymjvfJg2P1Mpj9brMtXXaZmqUvotuokHr85an6lx9Xi+P1dZJw8HxcPCuWOfnJP2iZiyTs4IuU+ZaHYG6yhelioF6Ji276uuk/vkeaXtp+Q4uANxsDMqumg3SOeFeAkAMORnc+bg8vj0t/s/iOb3Or6vdIumVFKAI1AvnH22yvnajdOYb6VpGtmsZ2TviXq8ECNRQZSY6ZYO2Qdry51FWOp+ulfUHFhCpR/bIurUbZeOTkTKa03bN4+tC4Td7UHOTBnW//h7ZG67PTcfnltr10vYP93pBdf71PT9WfKDOHt0je/68Xmoe3yjbUnukbcgciqz06f/73IEynzHvz7zVJlueqZeGF9skHb2CTaalLbVFGp5skC2vdsrI++59pWKg1nn9IaGDOysH6sl0m2z78wbZ8Odt0hbdkBnd9oNmOzZI4/Y2GXTbkTvXI3sODBYKo2Vcv2dL8XcBgCVjZqhN9hx0597MoNYTel4GT8R/9BWmG+YnZbBrjzQ+ZeqaFuk57y4ydt5GWV/zuGx8Seuto/EXsAXVV7qO9MFtug6vnihM1/f3a50QCOx2+19NB+ov/cyrWj8Gfz0GuJHIpWVLTbCxZZiRnmdqpPFo+CoYZEbPxbYXG6T+qUbZFjwnHWWvvYq9dczM/8wWaTkyvoj5TZvDXK9nZNBev7UdcVDPueiwyMlB6dQ6YINu3x5dvmkwhtoWpeoOKK5nDZV+kKi0P2fGpedVv93XI+PRA16ynnWUmd/Wu1rH585r282WmT3Scy66ghnJvlGo5wff13ATCQyVyjTAYsgeqJfal9LhnmENyo8/vkfK/zSVlbbfamg+U1xGcye2SM2LkWXmJmUkPxpvRvr+XCMbuoInUCQcL6jOv74dEis+UM+cT2sDskFqntwmPem0jEyYo2d2euFAmZBb/3SDNOzukbR+pmf3eqmtbZQ+PzSbX11q1knjwT4ZGRmRvlc3Su3aXTLiSsfChnx7lA/UORlJ1Utd/RZpe0O3O90p2+rrZMNBv2E9InvW1sp63c6Ri1m9MDfKOt2OQfPrjBnGXtMgPYGgn0tvk9rfti1wqAYAJCF0/rtfd0MVeqhRZy4ctbJusza+zmdl/I1dsv4R16tiLzAt0lBTL9sO6/l/Pr5pVLG+ymk9ofWGqSfM9PQRXUetudB5FdbgztrAhcsfIhXYZvsdtkg6dPUDuIEwDbxavQa7lz7ZDj0XS11fzXXc3vo1ItmLg9K2eZ2s0896xdxde3+3y7YT0ibEhK69ep4faZC6RzZo0DXX5j5peaZO6vINz8j86R7Z9Ts9z3ePuOmmzVEvG59psLee+dNr/9xXCEAXO2WjnqemneGd1xuk4elg26JM3QGxjKTK9VBX2J8TPdLwSOB4mFv2HtlW6A1z9Wz9823SZ4551zap1/KRb/BH5u8z7bXajdLj6lnvurFRtrj57XRtZ+7Jb67pkVsntYEy2aifD/X+lS3TAIvFC7YbD0fTzKBsqxBUTd37+HZT9op7iUd219pl2h9/zLOsUlrm/xFu35jzofbFSH34SDiHVazzbQ5qlM4h98ysVztlMPpVqsiKD9SWol8piwN1zea+QCXkFYj8rx65GRkPHfystD1Zqw1U79WSBer3tQKOhGKZSEvL3j4vFNuG7jbdep+czEz4N/drw/ilSENZX68PNAgAYOlZXKB2v6AGGsEzk9nAAzwq/8Jaqb6y2xMYSmUwvxD7P67ZH9qC26ONxF3ba/PzzxxtLP41GeBGokTPoy37JcqunaYNvjx6XZ98333SXHujw8Xtexqg7Ec0PD3+eCDsKBqoOlOd3j269ryPXLuvpANDFr02R+MbgS2z82iD0Z527nodGlZpfuyqXUTdAUG84aCBBnkR5fenCePRYa72PdemmjnSUFTPTqZbZM8b3nTzw+XjqXDzP3tgfb73z5bHJ8PP3rDz+D8A2CHskTJp3gu0XcuWaYBFU2rItDlX6iO9wwE0/G7Il9XoMryQ3vDSNqmvb5CWI2npebVB6s2P/KH7n2cknVovj/v3R//fjdLi91oaFlLn2xBeJxtebJHON/qkc6d5blV0PdWDQG1exYRc815o+IF7Ol36jU5pSW3Rii5SqcUc6DjKBWo7LCL4i3URpoe6Ruqe2qWFZUSykUfchRrKubRsq41c4AFgyQmd/xUDtdcrUmsvLHFP0HSNvEqBumR95fU4F/3C7H65tY13O3TK/d/86qsXoxlTd9iLkjd/uWGzANedco2rYMAIYnrzarSxtbNT+iJPiLXX3qf2eD2Neb3RIrYRqUGmvsyQRzv/0z2R7fEakt65FG5zeATPdfMjfSSwK952LbTugDyut798Q7rc/jTH4zE7LL9QHjQIbK93jfdK9WS40yWPqW9dOYprN9r3XN0e3x40yw2UozJlGmDxlAvU4R+fCkxKz9N1gXMhugzvdc3acP2Ze2tbaBi5faDg2kZpS4/L5OS4pM2IjUc0w/htoSR1vmI6CJZrpC6B2ryqEKjNL531tXWy/s/b7BCCvqG0tPxnYf64irEU5QL15OGNZQuGZX5SRo5492mte0TDdejpe/q93C/iNlxHfj0FgKUndP5XDNSGGcmmO717MdeYBp27bcMSbGTHU76+Mhe3Gtn2lvd+geCQLa+hv+VEzj4IxF4ITci2FzdTh/BDHNzgmIBbo+eNe+lj7//bXSr2KpMj0mPveV0ndRpEGg57V0977f1to+yxwxHD2metnNkltf/ZWbJRVuraPbjdPy/DbQ6P4Lk+ouddTA+QNjoXXneAZUb369p1su3EQlo/pfanOR7uWRbRMmHvUy5Vz/qY+WMCiOnJc+W2UqC2ZapotEVWOgNtT0uJMg2weLwfikKdiQb7I/xG6Ym8bbCB9Q9tMp7/M1Xj0qZldNsbhT9XZdon9UUPNQu0SWwHYL20nPem+IzvD9TnSev80Eig6kKgNq/KNlC9xmfDkeDRCP9KuFSB2v56+WT0l5Qyf4dyflxadDuCv5J6Q5LG6WUCWCZC57+98EQCcVGjOIjWL5trAvf5BRvZ8ZSvr7QOME/LjN43aC5GgfuP7EVwZ5vWH/66TD2nDfourYMWWJcBXD/0PNHAE+7R1evybxdx3TvXog0019Aygbno2hvAjvAofq6A/ZvA5j+BnscCwV7KcJvDI3iuewEtuu2msbjwugPkiu7TtbWysStJqAzuT+94mB8dS2Hq2aKQkPNDhNdujB7P4EiGSoHalslombLXl2g5ChAs0wAJsGUwesuY6aArqt88bHtEy2Ss/o9DZpnRH4ds0HV1avD/Aex8+VEalet8+3Dm6IP5SgTxakCgNq8qNFDNfS3r9xfudJk5sU3WBeaPqxhLEV5XTkYObpM9J/xK2RQOvRh0FCrp0KPl9XvU+Q8hM8ykZdvjesEOVq7mwr52nazL3/sFANUkfP57FfwGrS/MOZub6JNt9YH7IM2FI/inXeb1808FfxE2dVO9tJSpGivVV+YCEvrzMboO82cv1gUb3nY7akMhwnyPWn2P5y7AzYC9H/Vp0zPiXneEHxYaZXBnXeiBTeY2B/OQG+9MKr72zry1S9at0en2nlrvfmYzv99Ys/PnG5kx1267Pf70cJvDw7xX+PHM/shlru/+Ci522r/buvC6Y5Xj6rngg+TKUmF/mvAbOh52+XUa1kvXs2Z+v/OlaH7bc154VkVcu9G+l6/bvYfQFsrUjJbheq2jg23XcmUaIAH22Q/rZNsbrmS6cpu/jexiWvZsbyvz991jho2/3yeNwWXmvHO18DRxU3/WyPqU1q/+MyEmte0UOF8MFet8G8zXya60+4BbT+HhkNWFQG1eVWqgXuyTLaZR/IgGVb3A1e/ulJZAgUkeqL1CVLs5cJ/M+2nZ9ds6qamtkzqtOOt+u0vS+eGXGsBfNTfZayVa/5jUmntnXo0WFLfM6GPvAaAqRM//3EiLbHhEz3OtY+wQwjfC9U/26Bap1+D6WL0Zoqf1yfPuoYMOey+RzlvqeQoV6ytl5q09dhtqH6mz9cT6nYG/72jxLnqh3i37S26ZB48A3FBkpe/F9d65Ys+1LeX/1NuVEb1u67VVr+NmeG/NIxvCD715f1D2mOm1j8lj5txZE3kozpVxafuTd92ts9MbpC34Z5by88dduysH6sL1XeuGNXreJqg7VjO2HnZlIWzpgFl+f+ZkvMtM12O5xjvu618M7++ZE+bJ4KXq2cD8Ot2Uq4aD4/l2WeVAreTbnlomtVw1HB4Mh5VKZRogAaYNs9GUJ3v+hHOG7a3W0Fr6R//4+7Bz5zu9smyXac61ThkPhvIZLct/MOeZO2/1fNkYk28q1fkzZwrtL7Pt0XO2mqyOQL1EmOFdlR76YBu7foEIGmkAV+RK4f6DIubNMHD/6d4AcD2xjaCyDxOMw53DVX5Crx2SylOAYSVjrocle0tiMNfWchfyStPNsN5K8y9me6LY63u5q/vy1B2rh0r7s/L+Ll/PuvndqyRUbHtWKrMACcjf0rKUaFktW3dVrP+UBdT516PtQ6AGAEjKFfOLabm/dQoAAAAAKxkCNQBAQkZerZcNL0aGLgEAAADAqoFADQAAAAAAAJAAAjUAAAAAAABAAgjUAAAAAAAAAAkgUAMAAAAAAAAkgEANAAAAAAAAkAACNQAAAAAAAEACCNQAAAAAAAAACSBQAwAAAAAAACSAQA0AAAAAAACQAAI1AAAAAAAAQAII1AAAAAAAAAAJIFADAAAAAAAAJGDFB+rH/vYNREREREREXIVWGwI1IiIiIiIirkirDYEaERERERERV6TVhkCNiIiIiIiIK9JqQ6BGRERERETEFWm1IVAjIiIiIiLiirTaEKgRERERERFxRVptCNSIiIiIiIi4Iq02BGpERERERERckVYbAjUiIiIiIiKuSKsNgbqkX5eHX/qyPPD0l+Sh7V+PmX491G3afrc8ujtuGiIiIiIiIgatNgTqGB997t/km//nY3Lb3QXv/Pln5YGm+M8vm3+5Q76p2/KDhphpsd4ttU9/UX72lxvlBwFERERERMTls9oQqKM+/3n5hobWrzx6h/zsJRNEvy4Pb75Tvn/fx+W2H31GfvbXmHmWy0UH6rvkB/r5b/7uqzHTEBERERERV7bVhkAd8m75yS8+Jrfd/3l5KDrNBe1vP3V34b3tX5af/Pp2+dZPPynf/tUd8sBLgc9vv0tqfvVZ+enmu+WB3+hnfn6b/HDDl+VRnfbwM5+X7/7iE/KtNZ8P9Hp/RX6qn69p+Kr88unC9PuDy4wL1Plt+JR899d3yM/85dn132a3+a6HPi0//NUXCt9p91fl/t98Wr79c93uxz8vP91CDzYiIiIiIq48qw2BOuhfvyjfLdOj++j2u+Vhv4d6yx1yz3fMUPDbNax+Vr7/i1vltu98Qu59zk134fcrP/qkfOtxnV73Cfnc3R+Xe37xr/K1X5iAe7s3rPxHn5Wf2eV7vclf05D7NbfM7/78n3SZ/yo/3hJeZj5QB7ah5nd3yA/NOvzPlwrUO3Q9P/qYfO6+T8kPdZ6aNZ+UO+++VZdJqEZERERExJVltSFQB13wkOqvy/3//vFIT7br3f7FnfKwee2W9a0Nfo+2m/7TwDzPfFpuu/uT8uO/mNdeoL7t53fIL/3pf/uK1Nyv4fffv2h7tsPb57bBX5/VW8fn/uMu97p4yPdDv/kXue1eP8R7/uxX/yuyXkRERERExJvfakOgDrrgQP0l+cF3PiZfe/Irofcffuo2Dci3y/2mFztmWQ/8RyQwN3ymKFBHe8cfevIThQAcWqbbhsfvlPuf/mLeH//7rYF1RJf5VfnJQ7oNdf8Wmuf+X39Kt+Mz8oBbJyIiIiIi4kqw2hCoQ94l39cAGg3KvoUh3/Hh1+tx/lf5ibnveakC9fpPFsJuaJne573h3J8N+5u7XK91caD+8c91G+6/rXie4D3WiIiIiIiIK8BqQ6AO6YZR3/tpeWBHZNpzn5Wv3P1x+f7T5l5jL5jmh2I77dDp2N5kz4UE6sJwbaNuzxqd56E7vXlCy/S24a5ffSnweTX0N6qLQ/oD/xEdJq7yd60REREREXEFWm0I1FH/cqd90Nfn7rtdap7+svzypS/L/b/7tHzDvPfQHfleXDO8+3N33yrf/6+vyKM7vi6/fO7zdr5v+L3bSQP1dz5hl/nw9rvlof/6tA3x+SeLR5Zpt+E7/yI/eFq3QUPxo1u+IN//UTBkf0l+eK++XvMFeWi7e+iY/WHgVvn2775ke9sfbfqS1DwUE7IRERERERFvcqsNgTrOprvkh7X/rIFZA7DxO/8s9/zqi/LLUE/u16X2N5+SL2qItp+5+5/km7/WkOpPTxiov/nkF+Re83TvwDLzveBFy4xuw8fla4/dKQ8FtvOX/3W7fM1Ov01+ut177+GNn5FvmCeM23nMU8L/TX7mpiEiIiIiIq4Uqw2Bupy7vy4P+z27JTWfuTs09DuZ4eHZ5n5t0+tc/Lk43TYscuh26M+AISIiIiIirjCrDYH6hrH4fmdERERERERMbrUhUN8wfknu/ekn5LtPEagRERERERGXwmpDoEZERERERMQVabUhUCMiIiIiIuKKtNoQqBEREREREXFFWm0I1IiIiIiIiLgirTYEakRERERERFyRVhsCNSIiIiIiIq5Iqw2BGhEREREREVek1YZAjYiIiIiIiCvSarPiAzUAAAAAAABANSBQAwAAAAAAACSAQA0AAAAAAACQAAI1AAAAAAAAQAII1AAAAAAAAAAJIFADAAAAAAAAJIBADQAAAAAAAJAAAjUAAAAAAABAAgjUAAAAAAAAAAkgUAMAAAAAAAAkgEANAAAAAAAAkAACNQAAAAAAAEACVmGgvipXpqflSs69hJuIy3L6+NsyOuNexjExJvsHLrkXNysfyZVLS1xGZ6ZlauYj96IaLMV5Zb73jFy56l5eV6gnAAAAAKAyqzBQT8rLm1+T36fdyxuCaQ2KY3Jhzr2EeC6dkTWbXpM1vdPujeL9drq5Q25pOCGn3eubgSuZMWkf9b+T4az8/g9LW0aP7H5Nbtl91r2qBktxXpnvfUhevuBeXlduxHoCAAAAAG40CNQ3BDdSkLiZWBn77cJrhyJhl0B9/SFQAwAAAEBlVn2gnjp1SjYdGJMp76Vl9MhxeeGU6zG8NCYvpIbk9KWMpHb3yPdeOCovnLgkcvWS9L92XNY09sjaA2/LhfzQ0IuyP3VKjrx3SY4cOCp1f9Lpzad1/hLjWO3ye+XeP3TIg389LpuOXHQTlNyktOsy1jQekjW7T0n7xdJDdi8cPyGbDkeSyHtnddm6bn/bzHdojt+mBe+HCV3mdt0Pzee994O4z4zO6Hr0O93X2CtPhPaNo8x2WC7pPrT7zvveRyb86WbfHpf9Y/rfEvut+Ht8pPvmlDyx9ZDct1WP3fFJ974h5ljFbW+USvtRt+XK26dlk13ncUmdKT1G3ezjJ57vkFue65VNZlvsaHUXqLWcedul+8Ecx+hiKu3HAMWButx+UWzZOy5rX+iUuu0n5OXoMPqrMzLae8pNN8fo3eIAWqb8evvpgkyd8JbxrB1S4AJ1psK5U+m8KLftpcrxQr4PAAAAAECEVR+obe/g5gEJRlETPu57zQWMCwNynzbyH9x2VF4+/ra0dxyVe/6gje4Xe+T3h/T18SH5feNr8lUNK1fsDCYUdMqDz2tj/8AZnf62hstOubWhT47E5aq5d6Vfw3CdzvOEWZ4/9HduTDb96TW5Vxv/Zhnth/rk3k0d8vuBEmlv6Lh89Znj0h/IHqMHdL073va268JpqdP5/W3af6BX7tl0SFLuiy9sP3TKvS/0yLPB7Qzi76sXDrl9c0Ze2NYhtz4/IKP+dlXYDrl6XjY1eN+7//xFDVY6Pb/vAj23JfZb+HvkpF/3/e2NfZIy+9Adq3tSY+Fjpd8peCxvfXEo9MNCiAXtx0Oydtsp2e9P19C/aSg+7E6NavnY3Sm3vHhCl+cPX/e+5z0aKIP78ZbnTsmonUuJbEcqdUhu33RU2ktk93CgjuwXEyS1rN13wH0JdwzuMd9h6Lz0956QB0Nl77IuT49rYP41+p0f1GXkA2ik/Jr98D3dTy+c9faD3U/P6Xn0wgm7jNO2mC3g3Kl0XlTa9thyvIDvE6A/pftSj08pN91M9xsAAAAAwDVBoF5gkHwh37l3VY78VQP0vkAP7UCf3PonP+x4Yeje1uASL0v7dn3vQKD3OYSZJzzU1W7XC6dDwe7K0V65NRiqQlyQF2wA8IPbRXnhudfkiT4TJHSb9Tt99ZVgr/JVGW0tBO6F7odn344Phhb7mddk7dHL7g3lqm7XIrbDW8ZROZJfTU6mMpfcg6q8fVsIOSX2m/897LJ6JPWeneQxc0bWbtLjaXq53fLW9Aa2182zP/a5Zgvcj386Iafz2+/mCZaXCHaemCHfoe2a0+3Of9er0v9KR6SMufdKlDGzDfl1vGfCeG84fNv3NJCbQH9V9/noRZkKHGr7HVN2p4mMndIQG5n/rL4XODZTh3rk1u1n3A8XHva9kvvJ4H3vcueOna/ceVFp2+PK8QK+T4jcRXn5+eIgbXywrdQ5DgAAAAArEQJ1MIA5ioNkOLSFphvsZ/rkiH3hQt+AfZHHNPpvKdnzGQ2GORsiHuwMrMNwaUjWlAx7uj9Nj7QfmkxIyPdYu7Ad2aZ8r7b+N8l+KMJ9JjXhXjtMoPECZeXt8HsYb9/cJy/3npfRab9X1OD27QIDtd3nz58OfSfzILP9L2pYPWx6JqPLMxQvs0Cy/WjfCwXmMMXTK22X2Y4OWdv2ttdL67Q93ZEQ6xMM1Ha/NB63PeiF+b3e/sIPRx/JlYsX5MjxM/Jy83FZ2xiZv6gsu31jt9krv/elvF7mvPt7NER7wTduP3nf0fTmu5eOqcM6n13fQs+L0tseV44rf58YYkI1YRoAAABg9UGgjmnYX3ugDgYTR7ovJkD4REPcpKS0sf7EiVD3nYbNs/JEybCnmO1wvYwmXBd6Usfk95t0vox76ZMpbHeS/VCE/Uyv18sZoBAYK2+HJTcp/Ye8+3vv2aTh+oXTbsh4NGhG91v4e1zo1P//NXogvBEG3veKLs9QvMwCyfZj4fvHUzy90naZ7XD3jqciRu6D9wkGartf7D3bxfPb+9NndF0aJm/XzzyROiEv945Je3NhG+38RcH9XXlZg6u3zV75vXdr8fI3pYYqBOqY/XviqPvsAs6LCtseV44rf58SBEI1YRoAAABgdbLyA/XF89I+8G6gsRzuebK9U6GGfTBwKTEN8MqB2gx7Dvas6ncNDjstIhiWPPr3dRQPEz57Sr63qc/ryY1lWlIvmOHV5/U7BkN9sFe2QLAHN8l+KMJ+JvpjQrBXsfJ2WK4GAlMuI8/q8YrvUS7eb6GgFuz5zhPsZY4uz1C8zAKVt395ArUXLKNlrBzBQB2+RaEY2yMcGVZtym9o/uh+tUPSC9ts7jP+XmjodpjSgbr8uVPpvKi47XHleAHfpyQaqo+cCtQFAAAAALCqWPmB2oQq06s4Zp4EfFWmTvTJPcHhoWZotDawnzVPYr6akwu9R7Vxfu2B+hbzICX/6cRjA/bBSKUeTOXN06nbEHhasbmHM7/diusNu6fMvbgGEyhubdDQEbnX2oQ++3Anf5su6TobAuEwwX4own7mNe8hZDYTuf29Sfe3u4+54nak++T24EOoLr0tTzxjgo35vLdvw4E6vN9CQc3dv13oPfxIRtsO6fo1PNnVR5dnMO+V/p6Vtj9xoN42FLjvt/J2FW2HKx8PdrzrvY4QCtRF+8Udpz/q8sxx02Nw63MnCk+HnzgjT+h3LMzvDcvPz391RpevoVfLS36bo+XXfqZD7vxvLxiXC9S3/inwvaLnTqXzotK2x5XjhXwfAAAAAIAYVn6glsty+kCP3KmNY3uv46ZOeeJo8Cbky9LffEhuN9PU76XOyv5gYE4YqJ9oMw95ek3u/KO3zrWH44OOx1UZ7ezxtiF/L6cJOcflPl2GadjfqtPu3X0m9LClWFzPWmj7LLofXjNPWn5Nbjf7QkNK3YFMoOd+8fuhCPeZZ1/rs+vxvru+Ph14uNYituOehg77ve9rPu+mR4Nm8X4rCmoTZ2XTZrMeb323P9cn7fk/w1U5uBZTfvuTBGp/mPIt+fuHF7Jdge34o7ef7t0xVHiaeoRQoDbk94uGXF3GrX8MHKer78r+bRoodZn3POMF3JeDw6YNmSH7ZHB//rrOs6FbKULlV7fPHKM7nz8h/e6HktKBWr/jiXLnToXzotK2lyrHFb8PAAAAAEAxqyBQO8zTfy8Fg121CIahj+TKpRn3hOqkmGVMy5XwKNjSzL0tT2yKPNk6iN0P17pNJQiGlUr7u9J25C4v7XbOTMvUTGAEwLVSzf24GOx2LKJ8RDH7JfTgtwBzM6WnWa7KlWmdf67cTvDKb/nPxFHp3KlwXlTc9jgW8n0AAAAAAAqs+EBte6WX0WjvYtxnlloPDaAXJ23vrv+nieI+Wy0tgUAd9xnEm9H//XJf6HXz25HH2AMAAADAqmX19FAvG+fl2T91yrOn3cvlYvpteULXe9+OATkd/Hu6y8mEGTbbK/vJGwAAAAAAsAogUAMAAAAAAAAkgEANAAAAAAAAkAACNQAAAAAAAEACCNQAAAAAAAAACSBQAwAAAAAAACSAQA0AAAAAAACQAAI1AAAAAAAAQAII1AAAAAAAAAAJIFADAAAAAAAAJIBADQAAAAAAAJAAAjUAAAAAAABAAgjUAAAAAAAAAAkgUAMAAAAAAAAkgEANAAAAAAAAkAACNQAAAAAAAEACCNQAAAAAAAAACSBQAwAAAAAAACSAQA0AAAAAAACQAAI1AAAAAAAAQAII1AAAAAAAAAAJIFADAAAAAAAAJIBADQAAAAAAAJAAAjUAAAAAAABAAq5roD57bkyuXr3qXgEAAAAAAADcHJgsazLt0iPy/wFk7VOzU5woXgAAAABJRU5ErkJggg==)"
      ]
    }
  ]
}