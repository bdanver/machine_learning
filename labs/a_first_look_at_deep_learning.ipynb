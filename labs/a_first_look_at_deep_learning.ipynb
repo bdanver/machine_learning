{
  "nbformat": 4,
  "nbformat_minor": 0,
  "metadata": {
    "accelerator": "TPU",
    "colab": {
      "name": "a-first-look-at-deep-learning-Lab.ipynb",
      "provenance": [],
      "collapsed_sections": [],
      "include_colab_link": true
    },
    "kernelspec": {
      "display_name": "Python 3",
      "language": "python",
      "name": "python3"
    },
    "language_info": {
      "codemirror_mode": {
        "name": "ipython",
        "version": 3
      },
      "file_extension": ".py",
      "mimetype": "text/x-python",
      "name": "python",
      "nbconvert_exporter": "python",
      "pygments_lexer": "ipython3",
      "version": "3.8.3"
    }
  },
  "cells": [
    {
      "cell_type": "markdown",
      "metadata": {
        "id": "view-in-github",
        "colab_type": "text"
      },
      "source": [
        "<a href=\"https://colab.research.google.com/github/bdanver/machine_learning/blob/master/labs/a_first_look_at_deep_learning_Lab.ipynb\" target=\"_parent\"><img src=\"https://colab.research.google.com/assets/colab-badge.svg\" alt=\"Open In Colab\"/></a>"
      ]
    },
    {
      "cell_type": "markdown",
      "metadata": {
        "id": "0mKArb-b1_En"
      },
      "source": [
        "### Note:\n",
        "\n",
        "**First let's set the runtime to TPU (Tensor Processing Unit) -- click on 'runtime' in the menu above, select 'Change runtime type' and pick 'TPU'.**"
      ]
    },
    {
      "cell_type": "markdown",
      "metadata": {
        "id": "2ii5clez0HmE"
      },
      "source": [
        "# A First Look at Deep Learning using Keras  \n",
        "\n",
        "This notebook is a remix of one by Francis Cholet (see the end of the notebook for more information)\n",
        "\n",
        "\n",
        "![](http://zacharski.org/files/courses/cs419/keras.jpg)\n",
        "\n",
        "It is intended to be a first quick hands-on introduction to deep learning using TensorFlow and Keras. \n",
        "\n",
        "\n",
        "### Brain engaged\n",
        "Throughout this notebook there are questions for you to answer. It is easy to go through a notebook without understanding---click, click, click through the cells. The questions are designed to help you pause and think.\n",
        "It is always a good idea to pause and think. Regardless of whether you are working through this notebook, or having tea with a friend, it is best to be fully present and in the moment and not have your brain wander all over the place. Regardless of whether you are working on this notebook or having tea with a friend, put away that cell phone and engage with what is in front of you.\n",
        "\n",
        "With that advice out of the way and \n",
        "before the hands-on, let's cover a few definitions.\n",
        "\n",
        "#### Tensor\n",
        "> In mathematics, a **tensor** is an algebraic object that describes a (multilinear) relationship between sets of algebraic objects related to a vector space. Objects that tensors may map between include vectors and scalars, and even other tensors. [Wikipedia](https://colab.research.google.com/drive/1BycU14ycvRTu0wM4OrK34qx8nK84r8Lj#scrollTo=2ii5clez0HmE)\n",
        "\n",
        "\n",
        "#### TensorFlow\n",
        "TensorFlow was developed by the Google Brain Team. It is an open source Tensor library used to develop deep learning models. Google uses it for translate, search, and gmail, among others. And a wide variety of other companies from AirBnb to Twitter use it as well. \n",
        "\n",
        "It isn't the only option to use. **Pytorch**, developed by Facebook's AI Research Lab, is another popular deep learning library. In fact, Tesla's AutoDrive software was built using PyTorch. \n",
        "\n",
        "#### Keras\n",
        "Keras is open source software that functions as an abstract interface to TensorFlow. \n",
        "\n",
        "My difficulty ranking of these (from easiest to hardest) is \n",
        "\n",
        "1. Keras\n",
        "2. PyTorch\n",
        "3. TensorFlow\n",
        "\n",
        "All have their strengths and it is difficult to recommend which one a beginner should start with. The excellent, free, Open.ai course uses PyTorch. However, in our exploration of deep learning we will start with Keras. In your path toward deepening your knowledge in machine learning you will likely encounter all three."
      ]
    },
    {
      "cell_type": "markdown",
      "metadata": {
        "id": "fHO0x8YE0HmF"
      },
      "source": [
        "Let's import the Keras library"
      ]
    },
    {
      "cell_type": "code",
      "metadata": {
        "id": "DS58igpC0HmG",
        "outputId": "fbf997e5-4eae-4af3-f2ca-a40d4b0c1c11",
        "colab": {
          "base_uri": "https://localhost:8080/",
          "height": 35
        }
      },
      "source": [
        "import keras\n",
        "keras.__version__"
      ],
      "execution_count": null,
      "outputs": [
        {
          "output_type": "execute_result",
          "data": {
            "application/vnd.google.colaboratory.intrinsic+json": {
              "type": "string"
            },
            "text/plain": [
              "'2.4.3'"
            ]
          },
          "metadata": {
            "tags": []
          },
          "execution_count": 1
        }
      ]
    },
    {
      "cell_type": "markdown",
      "metadata": {
        "id": "noY1wNno0HmK"
      },
      "source": [
        "# A first look at a neural network\n",
        "\n",
        "\n",
        "![](https://raw.githubusercontent.com/zacharski/ml-class/master/labs/pics/mnist.jpg)\n",
        "\n",
        "Let's go back to the example of recognizing hand written digits. \n",
        "We are using the MNIST dataset (Modified National Institute of Standards) which is a dataset of 60,000 training instances and 10,000 testing instances of 28x28 grayscale images of the digits 0 through 9. This dataset was created in the 1980s as a testbed for various research groups. Back then it was considered a hard problem. Today it is considered the \"hello world\" equivalent in deep learning and you will see it again and again on your path learning about machine learning. \n",
        "\n"
      ]
    },
    {
      "cell_type": "markdown",
      "metadata": {
        "id": "1tUaQ5q20HmK"
      },
      "source": [
        "The MNIST dataset is so common that Keras knows how to download the data into a set of four Numpy arrays:"
      ]
    },
    {
      "cell_type": "code",
      "metadata": {
        "id": "voWJ4eMm0HmL",
        "outputId": "1559a749-dfef-4353-90ae-5dad1a062a68",
        "colab": {
          "base_uri": "https://localhost:8080/"
        }
      },
      "source": [
        "from keras.datasets import mnist\n",
        "\n",
        "(train_images, train_labels), (test_images, test_labels) = mnist.load_data()"
      ],
      "execution_count": null,
      "outputs": [
        {
          "output_type": "stream",
          "text": [
            "Downloading data from https://storage.googleapis.com/tensorflow/tf-keras-datasets/mnist.npz\n",
            "11493376/11490434 [==============================] - 0s 0us/step\n"
          ],
          "name": "stdout"
        }
      ]
    },
    {
      "cell_type": "markdown",
      "metadata": {
        "id": "AsarChQu0HmN"
      },
      "source": [
        "`train_images` and `train_labels` form the \"training set\", the data that the model will learn from. The model will then be tested on the \n",
        "\"test set\", `test_images` and `test_labels`. The Keras version of this dataset encodes the images as Numpy arrays, and the labels are simply an array of digits, ranging \n",
        "from 0 to 9. There is a one-to-one correspondence between the images and the labels.\n",
        "\n",
        "Let's have a look at the training data:"
      ]
    },
    {
      "cell_type": "code",
      "metadata": {
        "id": "Z5UJNpAs0HmN",
        "outputId": "cf683d32-81f1-4956-9451-a4d7b3b422a5",
        "colab": {
          "base_uri": "https://localhost:8080/"
        }
      },
      "source": [
        "train_images.shape"
      ],
      "execution_count": null,
      "outputs": [
        {
          "output_type": "execute_result",
          "data": {
            "text/plain": [
              "(60000, 28, 28)"
            ]
          },
          "metadata": {
            "tags": []
          },
          "execution_count": 3
        }
      ]
    },
    {
      "cell_type": "markdown",
      "metadata": {
        "id": "xfQDHTJ2lz8M"
      },
      "source": [
        "That is not surprising---so 60,000 images that are a 28x28 array of pixel values"
      ]
    },
    {
      "cell_type": "code",
      "metadata": {
        "id": "iGoBVIWU0HmQ",
        "outputId": "ffcce51a-12d3-421e-fd01-f5034ba7f1fc",
        "colab": {
          "base_uri": "https://localhost:8080/"
        }
      },
      "source": [
        "len(train_labels)"
      ],
      "execution_count": null,
      "outputs": [
        {
          "output_type": "execute_result",
          "data": {
            "text/plain": [
              "60000"
            ]
          },
          "metadata": {
            "tags": []
          },
          "execution_count": 4
        }
      ]
    },
    {
      "cell_type": "code",
      "metadata": {
        "id": "6xrzLvCu0HmV",
        "outputId": "0f3986dc-650e-4ce5-a79f-2823828560ee",
        "colab": {
          "base_uri": "https://localhost:8080/"
        }
      },
      "source": [
        "train_labels"
      ],
      "execution_count": null,
      "outputs": [
        {
          "output_type": "execute_result",
          "data": {
            "text/plain": [
              "array([5, 0, 4, ..., 5, 6, 8], dtype=uint8)"
            ]
          },
          "metadata": {
            "tags": []
          },
          "execution_count": 5
        }
      ]
    },
    {
      "cell_type": "markdown",
      "metadata": {
        "id": "sw4IhMIr0Hmm"
      },
      "source": [
        "# The data\n",
        "To get an idea of what the data looks like let's display a few images."
      ]
    },
    {
      "cell_type": "code",
      "metadata": {
        "id": "K4oH15sT0Hmm",
        "outputId": "d12bd943-1cd4-46fd-a776-3cd0de0743f5",
        "colab": {
          "base_uri": "https://localhost:8080/",
          "height": 727
        }
      },
      "source": [
        "import matplotlib.pyplot as plt\n",
        "\n",
        "def viewImage(x):\n",
        "    plt.figure(figsize=(2,2))\n",
        "    plt.imshow(x, interpolation='nearest', cmap='gray')\n",
        "    plt.show()\n",
        "    \n",
        "viewImage(test_images[0])\n",
        "viewImage(test_images[1])\n",
        "viewImage(test_images[2])\n",
        "viewImage(test_images[3])\n",
        "viewImage(test_images[4])\n",
        "\n",
        "\n"
      ],
      "execution_count": null,
      "outputs": [
        {
          "output_type": "display_data",
          "data": {
            "image/png": "[encoded data removed]",
            "text/plain": [
              "<Figure size 144x144 with 1 Axes>"
            ]
          },
          "metadata": {
            "tags": [],
            "needs_background": "light"
          }
        },
        {
          "output_type": "display_data",
          "data": {
            "image/png": "[encoded data removed]",
            "text/plain": [
              "<Figure size 144x144 with 1 Axes>"
            ]
          },
          "metadata": {
            "tags": [],
            "needs_background": "light"
          }
        },
        {
          "output_type": "display_data",
          "data": {
            "image/png": "[encoded data removed]",
            "text/plain": [
              "<Figure size 144x144 with 1 Axes>"
            ]
          },
          "metadata": {
            "tags": [],
            "needs_background": "light"
          }
        },
        {
          "output_type": "display_data",
          "data": {
            "image/png": "[encoded data removed]",
            "text/plain": [
              "<Figure size 144x144 with 1 Axes>"
            ]
          },
          "metadata": {
            "tags": [],
            "needs_background": "light"
          }
        },
        {
          "output_type": "display_data",
          "data": {
            "image/png": "[encoded data removed]",
            "text/plain": [
              "<Figure size 144x144 with 1 Axes>"
            ]
          },
          "metadata": {
            "tags": [],
            "needs_background": "light"
          }
        }
      ]
    },
    {
      "cell_type": "markdown",
      "metadata": {
        "id": "ereJKgeH_-5f"
      },
      "source": [
        "and let's look at the associated labels:"
      ]
    },
    {
      "cell_type": "code",
      "metadata": {
        "id": "h8HKsdisAC_x",
        "outputId": "d959608d-32d5-46f6-b053-c8a92c787774",
        "colab": {
          "base_uri": "https://localhost:8080/"
        }
      },
      "source": [
        "test_labels[:5]"
      ],
      "execution_count": null,
      "outputs": [
        {
          "output_type": "execute_result",
          "data": {
            "text/plain": [
              "array([7, 2, 1, 0, 4], dtype=uint8)"
            ]
          },
          "metadata": {
            "tags": []
          },
          "execution_count": 7
        }
      ]
    },
    {
      "cell_type": "markdown",
      "metadata": {
        "id": "P_XKnAu30Hmp"
      },
      "source": [
        "Well, that is encouraging -- The images and the labels match!\n",
        "\n",
        "### Workflow\n",
        "\n",
        "\n",
        "Our workflow will be as follow: \n",
        "\n",
        "1. we will create a neural network containing a fully connected hidden layer.\n",
        "2. we will present our neural network with the training data, `train_images` and `train_labels`. The \n",
        "network will then learn to associate images and labels. \n",
        "3. we will ask the network to produce predictions for `test_images`\n",
        "4. we will verify if these predictions match the labels from `test_labels`.\n",
        "\n",
        "#### Let's build our network."
      ]
    },
    {
      "cell_type": "code",
      "metadata": {
        "id": "6I0sj6hW0Hmp"
      },
      "source": [
        "from keras import models\n",
        "from keras import layers\n",
        "\n",
        "network = models.Sequential()\n",
        "network.add(layers.Dense(512, activation='relu', input_shape=(28 * 28,)))\n",
        "network.add(layers.Dense(10, activation='softmax'))"
      ],
      "execution_count": null,
      "outputs": []
    },
    {
      "cell_type": "markdown",
      "metadata": {
        "id": "ouiEONIe0Hms"
      },
      "source": [
        "\n",
        "The core building block of neural networks is the \"layer\", a data-processing module which you can conceive as a \"filter\" for data. Some \n",
        "data comes in, and comes out in a more useful form. Precisely, layers extract _representations_ out of the data fed into them -- hopefully \n",
        "representations that are more meaningful for the problem at hand. Most of deep learning really consists of chaining together simple layers \n",
        "which will implement a form of progressive \"data distillation\". A deep learning model is like a sieve for data processing, made of a \n",
        "succession of increasingly refined data filters -- the \"layers\".\n",
        "\n",
        "Here our network consists of a sequence of two `Dense` layers, which are densely-connected (also called \"fully-connected\") neural layers. \n",
        "The second (and last) layer is a 10-way \"softmax\" layer, which means it will return an array of 10 probability scores (summing to 1). Each \n",
        "score will be the probability that the current digit image belongs to one of our 10 digit classes.\n",
        "\n",
        "\n",
        "### Explained yet again\n",
        "Okay, let's look at each of the above code lines\n",
        "\n",
        "     network = models.Sequential()\n",
        "     \n",
        "My English translation of this is \"We want a model with a linear (sequential) stack of layers.\"  The model initially has zero layers.\n",
        "\n",
        "Next we have...\n",
        "\n",
        "     network.add(layers.Dense(512, activation='relu', input_shape=(28 * 28,)))\n",
        "     \n",
        "Here we add a layer to the model. `Dense` means that every input node (since this is the first layer, this means every input feature) is connected to every node in this layer.  The `512` means how many node we want in this layer -- 512. `activation=relu` defines the activation function. We will talk about this later. Finally we define what the shape of the input is. Since every image is 28 x 28, our input shape is 28 * 28 or 784 (and yes, we could have written `input_shape=(784, )`.\n",
        "\n",
        "Next,\n",
        "\n",
        "     network.add(layers.Dense(10, activation='softmax'))\n",
        "     \n",
        "Here we add another layer. Again, `Dense` means that each node of the 512 nodes of the pervious layer are connected to the 10 of this layer. The `10` means there are 10 nodes. \n",
        "\n",
        "#### Compiling the model.\n",
        "To make our network ready for training, we need to pick three more things, as part of a compilation step:\n",
        "\n",
        "* An **optimizer**: this is the mechanism through which the network will update itself based on the data it sees and its loss function.\n",
        "* A **loss function**: this is how the network will be able to measure how good a job it is doing on its training data, and thus how it will be \n",
        "able to steer itself in the right direction.\n",
        "* **Metrics** to monitor during training and testing. Here we will only care about accuracy (the fraction of the images that were correctly \n",
        "classified).\n",
        "\n",
        "Keras makes this compilation step easy:"
      ]
    },
    {
      "cell_type": "code",
      "metadata": {
        "id": "tXUIZUwN0Hmt"
      },
      "source": [
        "network.compile(optimizer='rmsprop',\n",
        "                loss='categorical_crossentropy',\n",
        "                metrics=['accuracy'])"
      ],
      "execution_count": null,
      "outputs": []
    },
    {
      "cell_type": "markdown",
      "metadata": {
        "id": "mcclDPL10Hmu"
      },
      "source": [
        "\n",
        "Why did we select categorical crossentropy as the loss function? From the Tensorflow documentation:\n",
        "\n",
        "> Use this crossentropy loss function when there are two or more label classes. We expect labels to be provided in a one_hot representation. If you want to provide labels as integers, please use SparseCategoricalCrossentropy loss. There should be # classes floating point values per feature.\n",
        "\n",
        "Note that the documentation says that we need to one_hot encode the labels. You probably already know this but that means if we are labeling pictures of dogs, cats, squirrel and moose and our test_labels look like\n",
        "\n",
        "picture | label\n",
        ":---:   | :---\n",
        "1.  | dog\n",
        "2. | dog\n",
        "3. | cat\n",
        "4. | squirel\n",
        "5. | cat\n",
        "6. | moose\n",
        "\n",
        "We will one_hot encode this resulting in \n",
        "\n",
        "\n",
        "picture | dog | cat | squirrel | moose\n",
        ":---: | :----: |:--: | :---: | :---:\n",
        " 1.     | 1 | 0 | 0 | 0\n",
        " 2. | 1 | 0| 0 | 0\n",
        " 3. | 0 | 1 | 0 | 0\n",
        " 4. | 0 | 0 | 1 | 0\n",
        " 5. | 0 | 1 |0 | 0\n",
        " 6. | 0|0|0|1\n",
        "\n",
        "And again, the `metrics=['accuracy']` line means that we are calculating the percentage of predicted values that match with actual values.\n",
        "\n",
        "\n",
        "### Preprocessing the data\n",
        "Before training, we will preprocess our data by reshaping it into the shape that the network expects, and scaling it so that all values are in \n",
        "the `[0, 1]` interval. Previously, our training images for instance were stored in an array of shape `(60000, 28, 28)` of type `uint8` with \n",
        "values in the `[0, 255]` interval. We transform it into a `float32` array of shape `(60000, 28 * 28)` with values between 0 and 1.\n",
        "\n",
        "In other words, each image in our original data was a 28x28 array of integers ranging from 0 to 255. We are going to transform the integers 0-255 to a float between 0 and 1. In addition we are going to flatten each image array to look like\n",
        "\n",
        "```\n",
        "[0, 1, 2, 3, 4, 5 ... 784 ]\n",
        "```\n"
      ]
    },
    {
      "cell_type": "code",
      "metadata": {
        "id": "h-tevXPN0Hmv"
      },
      "source": [
        "train_images = train_images.reshape((60000, 28 * 28))\n",
        "train_images = train_images.astype('float32') / 255\n",
        "\n",
        "test_images = test_images.reshape((10000, 28 * 28))\n",
        "test_images = test_images.astype('float32') / 255"
      ],
      "execution_count": null,
      "outputs": []
    },
    {
      "cell_type": "markdown",
      "metadata": {
        "id": "efw6Tx4x0Hmy"
      },
      "source": [
        "#### Here's a question:\n",
        "Why are we dividing each pixel by 255? What did the original number represent?\n",
        "\n"
      ]
    },
    {
      "cell_type": "markdown",
      "metadata": {
        "id": "Xpqg2qovqrW5"
      },
      "source": [
        "`The pixel values usually range from 0 to 255. If you divide each pixel by 255, then the range will be a float value between 0 and 1. This technique is image normalization and makes the range of values smaller, which helps our model get values faster. `"
      ]
    },
    {
      "cell_type": "markdown",
      "metadata": {
        "id": "mMg1dR_bt4iN"
      },
      "source": [
        "#### Encode the labels\n",
        "We also need to categorically encode the labels:"
      ]
    },
    {
      "cell_type": "code",
      "metadata": {
        "id": "QBoQhwiX0Hmz"
      },
      "source": [
        "from keras.utils import to_categorical\n",
        "\n",
        "train_labels = to_categorical(train_labels)\n",
        "test_labels = to_categorical(test_labels)"
      ],
      "execution_count": null,
      "outputs": []
    },
    {
      "cell_type": "markdown",
      "metadata": {
        "id": "eNSszmzz0Hm1"
      },
      "source": [
        "### What does the first test label look like? (print it out)\n",
        "And what is this called?"
      ]
    },
    {
      "cell_type": "code",
      "metadata": {
        "id": "6de8eFdF0Hm1",
        "outputId": "f79db8cf-a218-4fc4-dd8b-d27a04499d6c",
        "colab": {
          "base_uri": "https://localhost:8080/"
        }
      },
      "source": [
        "test_labels[:1]"
      ],
      "execution_count": null,
      "outputs": [
        {
          "output_type": "execute_result",
          "data": {
            "text/plain": [
              "array([[0., 0., 0., 0., 0., 0., 0., 1., 0., 0.]], dtype=float32)"
            ]
          },
          "metadata": {
            "tags": []
          },
          "execution_count": 18
        }
      ]
    },
    {
      "cell_type": "code",
      "metadata": {
        "id": "Av0PlwbFyGAY"
      },
      "source": [
        "One hot encoding"
      ],
      "execution_count": null,
      "outputs": []
    },
    {
      "cell_type": "markdown",
      "metadata": {
        "id": "_3wWDY0g0Hm3"
      },
      "source": [
        "### Training our first deep learning model\n",
        "\n",
        "We are now ready to train our network, which, unsurprisingly, in Keras is done via a call to the `fit` method of the network: \n",
        "we \"fit\" the model to its training data."
      ]
    },
    {
      "cell_type": "code",
      "metadata": {
        "id": "3JQ7pH630Hm4",
        "outputId": "992ef83a-ea40-4cd3-c9a2-c50626617caa",
        "colab": {
          "base_uri": "https://localhost:8080/"
        }
      },
      "source": [
        "network.fit(train_images, train_labels, epochs=5, batch_size=128)"
      ],
      "execution_count": null,
      "outputs": [
        {
          "output_type": "stream",
          "text": [
            "Epoch 1/5\n",
            "469/469 [==============================] - 4s 8ms/step - loss: 0.2558 - accuracy: 0.9260\n",
            "Epoch 2/5\n",
            "469/469 [==============================] - 4s 8ms/step - loss: 0.1017 - accuracy: 0.9698\n",
            "Epoch 3/5\n",
            "469/469 [==============================] - 4s 9ms/step - loss: 0.0676 - accuracy: 0.9795\n",
            "Epoch 4/5\n",
            "469/469 [==============================] - 4s 8ms/step - loss: 0.0490 - accuracy: 0.9852\n",
            "Epoch 5/5\n",
            "469/469 [==============================] - 4s 8ms/step - loss: 0.0367 - accuracy: 0.9893\n"
          ],
          "name": "stdout"
        },
        {
          "output_type": "execute_result",
          "data": {
            "text/plain": [
              "<tensorflow.python.keras.callbacks.History at 0x7f9240be4588>"
            ]
          },
          "metadata": {
            "tags": []
          },
          "execution_count": 19
        }
      ]
    },
    {
      "cell_type": "markdown",
      "metadata": {
        "id": "37PUt_b-0Hm7"
      },
      "source": [
        "Two quantities are being displayed during training: the \"loss\" of the network over the training data, and the accuracy of the network over \n",
        "the training data.\n",
        "\n",
        "We quickly reach an accuracy of 0.989 (i.e. 98.9%) on the training data. Now let's check that our model performs well on the test set too:"
      ]
    },
    {
      "cell_type": "code",
      "metadata": {
        "id": "Ig8FrFXQ0Hm8",
        "outputId": "61e20106-1f43-4ee6-d67c-4805782416e0",
        "colab": {
          "base_uri": "https://localhost:8080/"
        }
      },
      "source": [
        "test_loss, test_acc = network.evaluate(test_images, test_labels)"
      ],
      "execution_count": null,
      "outputs": [
        {
          "output_type": "stream",
          "text": [
            "313/313 [==============================] - 1s 2ms/step - loss: 0.0694 - accuracy: 0.9799\n"
          ],
          "name": "stdout"
        }
      ]
    },
    {
      "cell_type": "code",
      "metadata": {
        "id": "u6QizHgB0Hm-",
        "outputId": "d390b04a-381f-49fa-fad3-9449dc5c64a9",
        "colab": {
          "base_uri": "https://localhost:8080/"
        }
      },
      "source": [
        "print('test_acc:', test_acc)"
      ],
      "execution_count": null,
      "outputs": [
        {
          "output_type": "stream",
          "text": [
            "test_acc: 0.9799000024795532\n"
          ],
          "name": "stdout"
        }
      ]
    },
    {
      "cell_type": "markdown",
      "metadata": {
        "id": "mEzOBPol0HnA"
      },
      "source": [
        "\n",
        "Our test set accuracy turns out to be 97.8% -- that's quite a bit lower than the training set accuracy. \n",
        "This gap between training accuracy and test accuracy is an example of \"overfitting\", \n",
        "the fact that machine learning models tend to perform worse on new data than on their training data. \n",
        "\n",
        "\n",
        "### Accuracy with 7 epochs\n",
        "What is the accuracy on our test data if we use 7 epochs?  You will need to build, compile, and fit a new model.\n",
        "\n"
      ]
    },
    {
      "cell_type": "code",
      "metadata": {
        "id": "i2awmR340HnA"
      },
      "source": [
        "network_new = models.Sequential()\n",
        "network_new.add(layers.Dense(512, activation='relu', input_shape=(28 * 28,)))\n",
        "network_new.add(layers.Dense(10, activation='softmax'))"
      ],
      "execution_count": null,
      "outputs": []
    },
    {
      "cell_type": "code",
      "metadata": {
        "id": "84z4GMg21XhI"
      },
      "source": [
        "network_new.compile(optimizer='rmsprop',\n",
        "                loss='categorical_crossentropy',\n",
        "                metrics=['accuracy'])"
      ],
      "execution_count": null,
      "outputs": []
    },
    {
      "cell_type": "code",
      "metadata": {
        "id": "vpB7HCeQ1mri",
        "outputId": "ff3433fb-0689-4e76-f620-cc623ce1e064",
        "colab": {
          "base_uri": "https://localhost:8080/"
        }
      },
      "source": [
        "network_new.fit(train_images, train_labels, epochs=7, batch_size=128)"
      ],
      "execution_count": null,
      "outputs": [
        {
          "output_type": "stream",
          "text": [
            "Epoch 1/7\n",
            "469/469 [==============================] - 5s 11ms/step - loss: 0.2581 - accuracy: 0.9254\n",
            "Epoch 2/7\n",
            "469/469 [==============================] - 4s 9ms/step - loss: 0.1043 - accuracy: 0.9690\n",
            "Epoch 3/7\n",
            "469/469 [==============================] - 4s 9ms/step - loss: 0.0678 - accuracy: 0.9794\n",
            "Epoch 4/7\n",
            "469/469 [==============================] - 4s 9ms/step - loss: 0.0492 - accuracy: 0.9850\n",
            "Epoch 5/7\n",
            "469/469 [==============================] - 5s 11ms/step - loss: 0.0366 - accuracy: 0.9893\n",
            "Epoch 6/7\n",
            "469/469 [==============================] - 4s 9ms/step - loss: 0.0282 - accuracy: 0.9917\n",
            "Epoch 7/7\n",
            "469/469 [==============================] - 4s 9ms/step - loss: 0.0213 - accuracy: 0.9940\n"
          ],
          "name": "stdout"
        },
        {
          "output_type": "execute_result",
          "data": {
            "text/plain": [
              "<tensorflow.python.keras.callbacks.History at 0x7f923dcb5748>"
            ]
          },
          "metadata": {
            "tags": []
          },
          "execution_count": 26
        }
      ]
    },
    {
      "cell_type": "code",
      "metadata": {
        "id": "3vhNOJDl2BI3",
        "outputId": "b27d951a-fbfb-4eb5-af36-3f55761e61bc",
        "colab": {
          "base_uri": "https://localhost:8080/"
        }
      },
      "source": [
        "test_loss, test_acc = network_new.evaluate(test_images, test_labels)"
      ],
      "execution_count": null,
      "outputs": [
        {
          "output_type": "stream",
          "text": [
            "313/313 [==============================] - 1s 2ms/step - loss: 0.0635 - accuracy: 0.9829\n"
          ],
          "name": "stdout"
        }
      ]
    },
    {
      "cell_type": "code",
      "metadata": {
        "id": "OQMe6b5a2Q74",
        "outputId": "bf6bd9e2-d749-4710-b365-a322627e1bc2",
        "colab": {
          "base_uri": "https://localhost:8080/"
        }
      },
      "source": [
        "print('test_acc:', test_acc)"
      ],
      "execution_count": null,
      "outputs": [
        {
          "output_type": "stream",
          "text": [
            "test_acc: 0.9829000234603882\n"
          ],
          "name": "stdout"
        }
      ]
    },
    {
      "cell_type": "markdown",
      "metadata": {
        "id": "HjZOO2O10HnD"
      },
      "source": [
        "### Accuracy without training\n",
        "What is the accuracy on our test data using our network before we do any training (before `fit`)? You will need to build, compile, and fit a new model."
      ]
    },
    {
      "cell_type": "code",
      "metadata": {
        "id": "lKR6VDnd0HnD"
      },
      "source": [
        "network_new2 = models.Sequential()\n",
        "network_new2.add(layers.Dense(512, activation='relu', input_shape=(28 * 28,)))\n",
        "network_new2.add(layers.Dense(10, activation='softmax'))"
      ],
      "execution_count": null,
      "outputs": []
    },
    {
      "cell_type": "code",
      "metadata": {
        "id": "OT63qSYC2ths"
      },
      "source": [
        "network_new2.compile(optimizer='rmsprop',\n",
        "                loss='categorical_crossentropy',\n",
        "                metrics=['accuracy'])"
      ],
      "execution_count": null,
      "outputs": []
    },
    {
      "cell_type": "code",
      "metadata": {
        "id": "WW7axC1O2-Cq",
        "outputId": "4c5d911f-2ccc-4d67-f65c-6b4b3ea0da73",
        "colab": {
          "base_uri": "https://localhost:8080/"
        }
      },
      "source": [
        "# no training\n",
        "test_loss, test_acc = network_new2.evaluate(test_images, test_labels)"
      ],
      "execution_count": null,
      "outputs": [
        {
          "output_type": "stream",
          "text": [
            "313/313 [==============================] - 1s 2ms/step - loss: 2.3755 - accuracy: 0.0911\n"
          ],
          "name": "stdout"
        }
      ]
    },
    {
      "cell_type": "code",
      "metadata": {
        "id": "tMFp5tuX3FrK",
        "outputId": "2e4f72db-340a-4e68-d46c-7b7e1d3d66f7",
        "colab": {
          "base_uri": "https://localhost:8080/"
        }
      },
      "source": [
        "print('test_acc:', test_acc)"
      ],
      "execution_count": null,
      "outputs": [
        {
          "output_type": "stream",
          "text": [
            "test_acc: 0.09109999984502792\n"
          ],
          "name": "stdout"
        }
      ]
    },
    {
      "cell_type": "markdown",
      "metadata": {
        "id": "E4qA1lPZ0HnG"
      },
      "source": [
        "### Training\n",
        "As you can see from your above experiment, before we fit the model the accuracy was not very good. Before training, the weight are set at random (not exactly, but let's keep it simple for now). \n",
        "\n",
        "\n",
        "\n",
        "\n",
        "![](http://zacharski.org/files/courses/cs419/deepLearning.png)\n",
        "\n",
        "When we were fitting the model:\n",
        "\n",
        "     network.fit(train_images, train_labels, epochs=5, batch_size=128)\n",
        "    \n",
        "we processed 128 images at a time (this is called batch_size). Everytime we processed the images in that batch we calculated the loss and adjusted the weights to improve the network's  performance. Each time we go through the entire dataset we call it an epoch. So in our initial training, we went through the dataset 5 times.  Once we have gone through the data 5 times we stop and now we have a trained neural network. 'Trained' simply means that we have a network with the weight adjusted to reduce loss.\n",
        "\n",
        "#### Epochs \n",
        "Again, epochs are how many times we go through the training data. You may wonder, are more epochs always better. Stop for a moment and ponder this. \n",
        "\n",
        "* If you have too many epochs, the model could memorize patterns instead of making accurate generalizations\n",
        "* It depends on the size of the dataset, so with more data, more epochs (rounds of going through the data) are needed\n",
        "* Overfitting can happen with too many epochs; the model is trained perfectly on the training data but fails at the validation data\n",
        "If you need a clue let me mention bias and variance. \n",
        "\n",
        "In the next notebook we will be displaying both the accuracy on the training data and the accuracy on the validation error.  If at some point you see the training data accuracy still going gradually down, but the validation error going up. You may be overfitting your data.\n",
        "\n",
        "\n",
        "# You Try  - Fashion.\n",
        "\n",
        "### finally some xp\n",
        "\n",
        "As a small first step try out the FashionMNIST dataset that we've seen before.\n",
        "\n",
        "![](http://zacharski.org/files/courses/cs419/clothes-sprite.png)\n",
        "![](http://zacharski.org/files/courses/cs419/clothing.gif)\n",
        "\n",
        "\n",
        "The dataset consists of small 28x28 grayscale image icons of different articles of clothing. There are 60,000 images in the training set and 10,000 in the test set. Each image has an associated label from a list of 10:\n",
        "\n",
        "\n",
        "| Label | Description |\n",
        "| --- | --- |\n",
        "| 0 | T-shirt/top |\n",
        "| 1 | Trouser |\n",
        "| 2 | Pullover |\n",
        "| 3 | Dress |\n",
        "| 4 | Coat |\n",
        "| 5 | Sandal |\n",
        "| 6 | Shirt |\n",
        "| 7 | Sneaker |\n",
        "| 8 | Bag |\n",
        "| 9 | Ankle boot |\n",
        "\n",
        "\n",
        "\n",
        "#### The files\n",
        "\n",
        "* Training set: [clothes_train.csv](http://zacharski.org/files/courses/cs419/clothes_train.csv)\n",
        "* Test set: [clothing_test.csv](http://zacharski.org/files/courses/cs419/cTest.csv) Note: Don't use the test set for training.\n",
        "\n",
        "Can you create a network with one hidden layer similar to the example above and train it?\n"
      ]
    },
    {
      "cell_type": "code",
      "metadata": {
        "id": "2DZJmQ-g0HnG"
      },
      "source": [
        "import pandas as pd\n",
        "import numpy as np\n",
        "\n",
        "clothes_train = pd.read_csv('http://zacharski.org/files/courses/cs419/clothes_train.csv') \n",
        "clothes_test = pd.read_csv('http://zacharski.org/files/courses/cs419/cTest.csv')\n",
        "\n",
        "# need labels and core images for train \n",
        "clothes_train_features = clothes_train.drop('label', axis=1)\n",
        "clothes_train_features = clothes_train_features.to_numpy()\n",
        "clothes_train_labels = clothes_train['label'].to_numpy() \n",
        "\n",
        "# need labels and core images for test \n",
        "clothes_test_features = clothes_test.drop('label', axis=1)\n",
        "clothes_test_features = clothes_test_features.to_numpy()\n",
        "clothes_test_labels = clothes_test['label'].to_numpy() "
      ],
      "execution_count": null,
      "outputs": []
    },
    {
      "cell_type": "code",
      "metadata": {
        "id": "FZYboCuZ9nV4"
      },
      "source": [
        "# network one hidden layer\n",
        "clothes_network = models.Sequential()\n",
        "clothes_network.add(layers.Dense(512, activation='relu', input_shape=(28 * 28,)))\n",
        "clothes_network.add(layers.Dense(10, activation='softmax'))\n",
        "clothes_network.compile(optimizer='rmsprop',\n",
        "                loss='categorical_crossentropy',\n",
        "                metrics=['accuracy'])"
      ],
      "execution_count": null,
      "outputs": []
    },
    {
      "cell_type": "code",
      "metadata": {
        "id": "5o22jruV_gvO"
      },
      "source": [
        "clothes_train_features = clothes_train_features.reshape((60000, 28 * 28))\n",
        "clothes_train_features = clothes_train_features.astype('float32') / 255\n",
        "\n",
        "clothes_test_features = clothes_test_features.reshape((10000, 28 * 28))\n",
        "clothes_test_features = clothes_test_features.astype('float32') / 255"
      ],
      "execution_count": null,
      "outputs": []
    },
    {
      "cell_type": "code",
      "metadata": {
        "id": "nAgdenfWFU18"
      },
      "source": [
        "train_labels = to_categorical(clothes_train_labels)\n",
        "test_labels = to_categorical(clothes_test_labels)"
      ],
      "execution_count": null,
      "outputs": []
    },
    {
      "cell_type": "code",
      "metadata": {
        "id": "LzOepgOVs0tN",
        "outputId": "246fb6ee-41e7-4556-a5da-402f9a806ff2",
        "colab": {
          "base_uri": "https://localhost:8080/"
        }
      },
      "source": [
        "clothes_train_features.shape"
      ],
      "execution_count": null,
      "outputs": [
        {
          "output_type": "execute_result",
          "data": {
            "text/plain": [
              "(60000, 784)"
            ]
          },
          "metadata": {
            "tags": []
          },
          "execution_count": 46
        }
      ]
    },
    {
      "cell_type": "code",
      "metadata": {
        "id": "1M-b7QqQs1YD",
        "outputId": "7705bd1b-ad36-47cb-c5e7-28d58b1a5c89",
        "colab": {
          "base_uri": "https://localhost:8080/"
        }
      },
      "source": [
        "len(clothes_test_labels)"
      ],
      "execution_count": null,
      "outputs": [
        {
          "output_type": "execute_result",
          "data": {
            "text/plain": [
              "10000"
            ]
          },
          "metadata": {
            "tags": []
          },
          "execution_count": 47
        }
      ]
    },
    {
      "cell_type": "code",
      "metadata": {
        "id": "5Es5NkDCFoUi",
        "outputId": "5267d80f-58e7-46c5-82b9-53c06229463c",
        "colab": {
          "base_uri": "https://localhost:8080/"
        }
      },
      "source": [
        "clothes_network.fit(clothes_train_features, train_labels, epochs=5, batch_size=128)"
      ],
      "execution_count": null,
      "outputs": [
        {
          "output_type": "stream",
          "text": [
            "Epoch 1/5\n",
            "469/469 [==============================] - 4s 8ms/step - loss: 1.2915 - accuracy: 0.6284\n",
            "Epoch 2/5\n",
            "469/469 [==============================] - 5s 10ms/step - loss: 0.6974 - accuracy: 0.7524\n",
            "Epoch 3/5\n",
            "469/469 [==============================] - 5s 10ms/step - loss: 0.5974 - accuracy: 0.7830\n",
            "Epoch 4/5\n",
            "469/469 [==============================] - 4s 9ms/step - loss: 0.5472 - accuracy: 0.8037\n",
            "Epoch 5/5\n",
            "469/469 [==============================] - 4s 9ms/step - loss: 0.5147 - accuracy: 0.8169\n"
          ],
          "name": "stdout"
        },
        {
          "output_type": "execute_result",
          "data": {
            "text/plain": [
              "<tensorflow.python.keras.callbacks.History at 0x7f923a865a90>"
            ]
          },
          "metadata": {
            "tags": []
          },
          "execution_count": 56
        }
      ]
    },
    {
      "cell_type": "markdown",
      "metadata": {
        "id": "NgnlMXV90HnI"
      },
      "source": [
        "### What is its accuracy on the test data?"
      ]
    },
    {
      "cell_type": "code",
      "metadata": {
        "id": "nR_lX8i90HnJ",
        "outputId": "bb7ed810-c72b-43b1-ac1b-f2a13c43f9bb",
        "colab": {
          "base_uri": "https://localhost:8080/"
        }
      },
      "source": [
        "test_loss, clothes_test_acc = clothes_network.evaluate(clothes_test_features, test_labels)\n",
        "print('test_acc:', clothes_test_acc)"
      ],
      "execution_count": null,
      "outputs": [
        {
          "output_type": "stream",
          "text": [
            "313/313 [==============================] - 1s 2ms/step - loss: 0.5048 - accuracy: 0.8246\n",
            "test_acc: 0.8245999813079834\n"
          ],
          "name": "stdout"
        }
      ]
    },
    {
      "cell_type": "markdown",
      "metadata": {
        "id": "tY3fZL-l0HnL"
      },
      "source": [
        "### Q8 a two hidden layer network in Keras.\n",
        "Can you construct and train a new network that has two hidden layers \n",
        "(as before, the first layer can have 512 neurons - the second should have 256)? What is its accuracy on the test data? "
      ]
    },
    {
      "cell_type": "code",
      "metadata": {
        "id": "OiuUUZs30HnL",
        "outputId": "d70553f9-ac9a-4e22-e056-768a3208e236",
        "colab": {
          "base_uri": "https://localhost:8080/"
        }
      },
      "source": [
        "# network with two layers\n",
        "new_clothes_network = models.Sequential()\n",
        "new_clothes_network.add(layers.Dense(512, activation='relu', input_shape=(28 * 28,)))\n",
        "new_clothes_network.add(layers.Dense(256, activation='relu', input_shape=(28 * 28,)))\n",
        "new_clothes_network.add(layers.Dense(10, activation='softmax'))\n",
        "new_clothes_network.compile(optimizer='rmsprop',\n",
        "                loss='categorical_crossentropy',\n",
        "                metrics=['accuracy'])\n",
        "new_clothes_network.fit(clothes_train_features, train_labels, epochs=5, batch_size=128)"
      ],
      "execution_count": null,
      "outputs": [
        {
          "output_type": "stream",
          "text": [
            "Epoch 1/5\n",
            "469/469 [==============================] - 5s 11ms/step - loss: 0.9488 - accuracy: 0.6581\n",
            "Epoch 2/5\n",
            "469/469 [==============================] - 5s 10ms/step - loss: 0.5886 - accuracy: 0.7831\n",
            "Epoch 3/5\n",
            "469/469 [==============================] - 5s 10ms/step - loss: 0.5164 - accuracy: 0.8128\n",
            "Epoch 4/5\n",
            "469/469 [==============================] - 5s 11ms/step - loss: 0.4708 - accuracy: 0.8280\n",
            "Epoch 5/5\n",
            "469/469 [==============================] - 5s 10ms/step - loss: 0.4417 - accuracy: 0.8401\n"
          ],
          "name": "stdout"
        },
        {
          "output_type": "execute_result",
          "data": {
            "text/plain": [
              "<tensorflow.python.keras.callbacks.History at 0x7f923a7485c0>"
            ]
          },
          "metadata": {
            "tags": []
          },
          "execution_count": 58
        }
      ]
    },
    {
      "cell_type": "code",
      "metadata": {
        "id": "QQoO3yn3Hz-S",
        "outputId": "58c6f3b2-e782-4169-d7a2-2e1e42832a93",
        "colab": {
          "base_uri": "https://localhost:8080/"
        }
      },
      "source": [
        "test_loss, clothes_test_acc2 = new_clothes_network.evaluate(clothes_test_features, test_labels)\n",
        "print('test_acc:', clothes_test_acc2)"
      ],
      "execution_count": null,
      "outputs": [
        {
          "output_type": "stream",
          "text": [
            "313/313 [==============================] - 1s 2ms/step - loss: 0.4512 - accuracy: 0.8318\n",
            "test_acc: 0.8317999839782715\n"
          ],
          "name": "stdout"
        }
      ]
    },
    {
      "cell_type": "markdown",
      "metadata": {
        "id": "S8ll6Pz00HnO"
      },
      "source": [
        "# Volcanoes on Venus \n",
        "\n",
        "![](https://upload.wikimedia.org/wikipedia/commons/1/16/Maat_Mons_on_Venus.jpg)\n",
        "\n",
        "\n",
        "### First, no one has been to Venus\n",
        "I felt I needed to say that upfront because we don't really know if there are volcanoes on Venus. An analysis of the data by experts is not 100% accurate so the labels are the experts best guess.\n",
        "\n",
        "The images are from NASA's Magellan spacecraft which was launched on May 4, 1989 and made it to Venus on August 10, 1990. Magellan mapped the surface of Venus using synthetic aperture radar. Some images have black blocks in them caused by either problems with Magellan or with communication back to earth. \n",
        "\n",
        "### The data\n",
        "The images are 110x110 grayscale pixels. The value of each pixel ranges from 0 to 255. Your task it to build a classifier that will predict whether a volcano is present in the image or not.\n",
        "\n",
        "#### The files\n",
        "\n",
        "* Training images: [volcanoes_train_images.csv](http://zacharski.org/files/courses/cs419/volcanoes_train_images.csv)\n",
        "* Training labels: [volcanoes_train_labels.csv](http://zacharski.org/files/courses/cs419/volcanoes_train_labels.csv) \n",
        "* Testing images: [volcanoes_test_images.csv](http://zacharski.org/files/courses/cs419/volcanoes_test_images.csv)\n",
        "* Testing labels: [volcanoes_test_labels.csv](http://zacharski.org/files/courses/cs419/volcanoes_test_labels.csv) \n",
        "\n",
        "\n",
        "\n",
        "\n",
        "## Tasks\n",
        "\n",
        "There are 5 tasks\n",
        "\n",
        "1. A simple task: Can you display a few of the images from the dataset?\n",
        "2. Build a model with one hidden layer. Train it for 2 epochs. What is it's accuracy?\n",
        "3. Build a model with one hidden layer. Train it for 10 epochs. What is it's accuracy? \n",
        "4. Does increasing the epochs beyond 10 improve accuracy?\n",
        "5. Build a model with 2 hidden layers and test."
      ]
    },
    {
      "cell_type": "code",
      "metadata": {
        "id": "6ZFUG8Fx0HnO"
      },
      "source": [
        "import pandas as pd\n",
        "import numpy as np\n",
        "\n",
        "volcanoes_train_images = pd.read_csv('http://zacharski.org/files/courses/cs419/volcanoes_train_images.csv', header=None) \n",
        "volcanoes_train_labels = pd.read_csv('http://zacharski.org/files/courses/cs419/volcanoes_train_labels.csv') \n",
        "volcanoes_test_images = pd.read_csv('http://zacharski.org/files/courses/cs419/volcanoes_test_images.csv', header=None) \n",
        "volcanoes_test_labels = pd.read_csv('http://zacharski.org/files/courses/cs419/volcanoes_test_labels.csv') "
      ],
      "execution_count": 1,
      "outputs": []
    },
    {
      "cell_type": "code",
      "metadata": {
        "id": "vkqtIyQxjqUi",
        "outputId": "98d818ad-6123-4a8c-bd7e-8acc2bfbe398",
        "colab": {
          "base_uri": "https://localhost:8080/",
          "height": 589
        }
      },
      "source": [
        "import matplotlib.pyplot as plt\n",
        "def viewImage(x):\n",
        "    plt.figure(figsize=(2,2))\n",
        "    plt.imshow(x.values.reshape([110,110]), interpolation='nearest', cmap='gray')\n",
        "    plt.show()\n",
        "viewImage(volcanoes_test_images.iloc[1])\n",
        "viewImage(volcanoes_test_images.iloc[2])\n",
        "viewImage(volcanoes_test_images.iloc[3])\n",
        "viewImage(volcanoes_test_images.iloc[4])"
      ],
      "execution_count": 2,
      "outputs": [
        {
          "output_type": "display_data",
          "data": {
            "image/png": "[encoded data removed]",
            "text/plain": [
              "<Figure size 144x144 with 1 Axes>"
            ]
          },
          "metadata": {
            "tags": [],
            "needs_background": "light"
          }
        },
        {
          "output_type": "display_data",
          "data": {
            "image/png": "[encoded data removed]",
            "text/plain": [
              "<Figure size 144x144 with 1 Axes>"
            ]
          },
          "metadata": {
            "tags": [],
            "needs_background": "light"
          }
        },
        {
          "output_type": "display_data",
          "data": {
            "image/png": "[encoded data removed]",
            "text/plain": [
              "<Figure size 144x144 with 1 Axes>"
            ]
          },
          "metadata": {
            "tags": [],
            "needs_background": "light"
          }
        },
        {
          "output_type": "display_data",
          "data": {
            "image/png": "[encoded data removed]",
            "text/plain": [
              "<Figure size 144x144 with 1 Axes>"
            ]
          },
          "metadata": {
            "tags": [],
            "needs_background": "light"
          }
        }
      ]
    },
    {
      "cell_type": "code",
      "metadata": {
        "id": "CfaIBXN_0HnQ"
      },
      "source": [
        "# preprocess data\n",
        "# image is already flattened \n",
        "\n",
        "volcanoes_train_images = volcanoes_train_images.astype('float32') / 255\n",
        "volcanoes_train_images = volcanoes_train_images.to_numpy()\n",
        "\n",
        "volcanoes_test_images = volcanoes_test_images.to_numpy()\n",
        "volcanoes_test_images = volcanoes_test_images.astype('float32') / 255\n"
      ],
      "execution_count": 3,
      "outputs": []
    },
    {
      "cell_type": "code",
      "metadata": {
        "id": "IySED_56nNR5",
        "outputId": "a3dc6837-662a-455e-9281-e1c55a05c9cd",
        "colab": {
          "base_uri": "https://localhost:8080/"
        }
      },
      "source": [
        "# see data \n",
        "print(len(volcanoes_train_labels))\n",
        "print(len(volcanoes_train_images))\n",
        "print(volcanoes_test_labels.iloc[1])"
      ],
      "execution_count": 4,
      "outputs": [
        {
          "output_type": "stream",
          "text": [
            "7000\n",
            "7000\n",
            "Volcano?            0.0\n",
            "Type                NaN\n",
            "Radius              NaN\n",
            "Number Volcanoes    NaN\n",
            "Name: 1, dtype: float64\n"
          ],
          "name": "stdout"
        }
      ]
    },
    {
      "cell_type": "code",
      "metadata": {
        "id": "eBuvRRade5DL",
        "outputId": "54a2a796-8e9d-4f15-c5d1-f2accec12a44",
        "colab": {
          "base_uri": "https://localhost:8080/"
        }
      },
      "source": [
        "volcano_train_y = volcanoes_train_labels['Volcano?'] \n",
        "volcano_test_y = volcanoes_test_labels['Volcano?']\n",
        "volcano_test_y"
      ],
      "execution_count": 8,
      "outputs": [
        {
          "output_type": "execute_result",
          "data": {
            "text/plain": [
              "0       0\n",
              "1       0\n",
              "2       1\n",
              "3       0\n",
              "4       1\n",
              "       ..\n",
              "2729    0\n",
              "2730    0\n",
              "2731    0\n",
              "2732    0\n",
              "2733    0\n",
              "Name: Volcano?, Length: 2734, dtype: int64"
            ]
          },
          "metadata": {
            "tags": []
          },
          "execution_count": 8
        }
      ]
    },
    {
      "cell_type": "markdown",
      "metadata": {
        "id": "vZVtX-dakk2o"
      },
      "source": [
        "### One Hidden Layer - 2 Epochs"
      ]
    },
    {
      "cell_type": "code",
      "metadata": {
        "id": "daypBYMulwiN"
      },
      "source": [
        "from keras import models\n",
        "from keras import layers\n",
        "import keras\n",
        "\n",
        "# one hidden layer - 2 epochs \n",
        "vol_network_1 = models.Sequential()\n",
        "vol_network_1.add(layers.Dense(512, activation='relu', input_shape=(110 * 110,)))\n",
        "vol_network_1.add(layers.Dense(1, activation='sigmoid'))\n",
        "vol_network_1.compile(optimizer='rmsprop',\n",
        "                loss='binary_crossentropy',\n",
        "                metrics=['accuracy'])"
      ],
      "execution_count": 9,
      "outputs": []
    },
    {
      "cell_type": "code",
      "metadata": {
        "id": "bcgzzYiclwgY",
        "outputId": "010d536b-616d-4590-fd4c-862b9b105ce9",
        "colab": {
          "base_uri": "https://localhost:8080/"
        }
      },
      "source": [
        "history_1 = vol_network_1.fit(\n",
        "          volcanoes_train_images, volcano_train_y,\n",
        "          steps_per_epoch=100,\n",
        "          epochs=2,\n",
        "          validation_split=.2)"
      ],
      "execution_count": 10,
      "outputs": [
        {
          "output_type": "stream",
          "text": [
            "Epoch 1/2\n",
            "100/100 [==============================] - 8s 83ms/step - loss: 1.0119 - accuracy: 0.7939 - val_loss: 1.0313 - val_accuracy: 0.1800\n",
            "Epoch 2/2\n",
            "100/100 [==============================] - 8s 83ms/step - loss: 0.5686 - accuracy: 0.8248 - val_loss: 0.4418 - val_accuracy: 0.8514\n"
          ],
          "name": "stdout"
        }
      ]
    },
    {
      "cell_type": "markdown",
      "metadata": {
        "id": "x16Nqa0aliWC"
      },
      "source": [
        "### One Hidden Layer - 10 Epochs"
      ]
    },
    {
      "cell_type": "code",
      "metadata": {
        "id": "HkepiU9S0HnS"
      },
      "source": [
        "# one hidden layer - 10 epochs\n",
        "vol_network_2 = models.Sequential()\n",
        "vol_network_2.add(layers.Dense(512, activation='relu', input_shape=(110 * 110,)))\n",
        "vol_network_2.add(layers.Dense(1, activation='sigmoid'))\n",
        "vol_network_2.compile(optimizer='rmsprop',\n",
        "                loss='binary_crossentropy',\n",
        "                metrics=['accuracy'])"
      ],
      "execution_count": 14,
      "outputs": []
    },
    {
      "cell_type": "code",
      "metadata": {
        "id": "3-qiVqAbk9e9",
        "outputId": "649f387a-3362-4f90-ef8d-69704de1b810",
        "colab": {
          "base_uri": "https://localhost:8080/"
        }
      },
      "source": [
        "history_2 = vol_network_2.fit(\n",
        "          volcanoes_train_images, volcano_train_y,\n",
        "          steps_per_epoch=100,\n",
        "          epochs=10,\n",
        "          validation_split=.2)"
      ],
      "execution_count": 15,
      "outputs": [
        {
          "output_type": "stream",
          "text": [
            "Epoch 1/10\n",
            "100/100 [==============================] - 8s 79ms/step - loss: 3.9009 - accuracy: 0.7487 - val_loss: 4.6259 - val_accuracy: 0.8514\n",
            "Epoch 2/10\n",
            "100/100 [==============================] - 8s 78ms/step - loss: 2.0817 - accuracy: 0.7513 - val_loss: 0.7328 - val_accuracy: 0.2593\n",
            "Epoch 3/10\n",
            "100/100 [==============================] - 8s 79ms/step - loss: 1.0532 - accuracy: 0.7796 - val_loss: 0.4401 - val_accuracy: 0.8514\n",
            "Epoch 4/10\n",
            "100/100 [==============================] - 8s 78ms/step - loss: 0.7361 - accuracy: 0.7943 - val_loss: 1.1920 - val_accuracy: 0.1850\n",
            "Epoch 5/10\n",
            "100/100 [==============================] - 8s 79ms/step - loss: 0.8023 - accuracy: 0.7962 - val_loss: 0.4065 - val_accuracy: 0.8514\n",
            "Epoch 6/10\n",
            "100/100 [==============================] - 8s 78ms/step - loss: 0.4962 - accuracy: 0.8425 - val_loss: 0.5160 - val_accuracy: 0.8507\n",
            "Epoch 7/10\n",
            "100/100 [==============================] - 8s 78ms/step - loss: 0.4348 - accuracy: 0.8525 - val_loss: 0.4109 - val_accuracy: 0.8514\n",
            "Epoch 8/10\n",
            "100/100 [==============================] - 8s 78ms/step - loss: 0.4304 - accuracy: 0.8587 - val_loss: 0.4073 - val_accuracy: 0.8514\n",
            "Epoch 9/10\n",
            "100/100 [==============================] - 8s 78ms/step - loss: 0.4265 - accuracy: 0.8584 - val_loss: 0.4595 - val_accuracy: 0.8514\n",
            "Epoch 10/10\n",
            "100/100 [==============================] - 8s 79ms/step - loss: 0.4387 - accuracy: 0.8573 - val_loss: 0.3995 - val_accuracy: 0.8514\n"
          ],
          "name": "stdout"
        }
      ]
    },
    {
      "cell_type": "markdown",
      "metadata": {
        "id": "4sJ1b-tYmCQF"
      },
      "source": [
        "### One Hidden Layer - 15 epochs "
      ]
    },
    {
      "cell_type": "code",
      "metadata": {
        "id": "gkdJf8nul1E7",
        "outputId": "f211aaad-23d4-47f7-83e9-5f9050ce1dba",
        "colab": {
          "base_uri": "https://localhost:8080/"
        }
      },
      "source": [
        "# more than 10 epochs \n",
        "vol_network_3 = models.Sequential()\n",
        "vol_network_3.add(layers.Dense(512, activation='relu', input_shape=(110 * 110,)))\n",
        "vol_network_3.add(layers.Dense(1, activation='sigmoid'))\n",
        "vol_network_3.compile(optimizer='rmsprop',\n",
        "                loss='binary_crossentropy',\n",
        "                metrics=['accuracy'])\n",
        "history_3 = vol_network_3.fit(\n",
        "          volcanoes_train_images, volcano_train_y,\n",
        "          steps_per_epoch=100,\n",
        "          epochs=15,\n",
        "          validation_split=.2)"
      ],
      "execution_count": 16,
      "outputs": [
        {
          "output_type": "stream",
          "text": [
            "Epoch 1/15\n",
            "100/100 [==============================] - 8s 79ms/step - loss: 0.9871 - accuracy: 0.7929 - val_loss: 0.8413 - val_accuracy: 0.8514\n",
            "Epoch 2/15\n",
            "100/100 [==============================] - 8s 79ms/step - loss: 0.5287 - accuracy: 0.8350 - val_loss: 0.4477 - val_accuracy: 0.8514\n",
            "Epoch 3/15\n",
            "100/100 [==============================] - 8s 80ms/step - loss: 0.4579 - accuracy: 0.8461 - val_loss: 0.4078 - val_accuracy: 0.8514\n",
            "Epoch 4/15\n",
            "100/100 [==============================] - 8s 79ms/step - loss: 0.4729 - accuracy: 0.8379 - val_loss: 0.5692 - val_accuracy: 0.8514\n",
            "Epoch 5/15\n",
            "100/100 [==============================] - 8s 80ms/step - loss: 0.4222 - accuracy: 0.8586 - val_loss: 0.4722 - val_accuracy: 0.8514\n",
            "Epoch 6/15\n",
            "100/100 [==============================] - 8s 78ms/step - loss: 0.4217 - accuracy: 0.8586 - val_loss: 0.4228 - val_accuracy: 0.8514\n",
            "Epoch 7/15\n",
            "100/100 [==============================] - 8s 80ms/step - loss: 0.4245 - accuracy: 0.8586 - val_loss: 0.4100 - val_accuracy: 0.8514\n",
            "Epoch 8/15\n",
            "100/100 [==============================] - 8s 79ms/step - loss: 0.4163 - accuracy: 0.8586 - val_loss: 0.4067 - val_accuracy: 0.8514\n",
            "Epoch 9/15\n",
            "100/100 [==============================] - 8s 78ms/step - loss: 0.4093 - accuracy: 0.8586 - val_loss: 0.4078 - val_accuracy: 0.8514\n",
            "Epoch 10/15\n",
            "100/100 [==============================] - 8s 80ms/step - loss: 0.4027 - accuracy: 0.8586 - val_loss: 0.3990 - val_accuracy: 0.8514\n",
            "Epoch 11/15\n",
            "100/100 [==============================] - 8s 79ms/step - loss: 0.4032 - accuracy: 0.8586 - val_loss: 0.3987 - val_accuracy: 0.8514\n",
            "Epoch 12/15\n",
            "100/100 [==============================] - 8s 79ms/step - loss: 0.4021 - accuracy: 0.8586 - val_loss: 0.4076 - val_accuracy: 0.8514\n",
            "Epoch 13/15\n",
            "100/100 [==============================] - 8s 79ms/step - loss: 0.3950 - accuracy: 0.8586 - val_loss: 0.4271 - val_accuracy: 0.8514\n",
            "Epoch 14/15\n",
            "100/100 [==============================] - 8s 80ms/step - loss: 0.3872 - accuracy: 0.8586 - val_loss: 0.4255 - val_accuracy: 0.8514\n",
            "Epoch 15/15\n",
            "100/100 [==============================] - 8s 79ms/step - loss: 0.3779 - accuracy: 0.8586 - val_loss: 0.3802 - val_accuracy: 0.8514\n"
          ],
          "name": "stdout"
        }
      ]
    },
    {
      "cell_type": "markdown",
      "metadata": {
        "id": "3B4nID30nzoR"
      },
      "source": [
        "##### Looks like increasing epochs does not improve accuracy "
      ]
    },
    {
      "cell_type": "markdown",
      "metadata": {
        "id": "OBjxfgWmoDhe"
      },
      "source": [
        "### Two Hidden Layers and Test"
      ]
    },
    {
      "cell_type": "code",
      "metadata": {
        "id": "2BlxjNLeoJb1",
        "outputId": "3d2dbc28-88a5-4613-c96b-a3a15a524b5b",
        "colab": {
          "base_uri": "https://localhost:8080/"
        }
      },
      "source": [
        "# 2 hidden layers\n",
        "vol_network_4 = models.Sequential()\n",
        "vol_network_4.add(layers.Dense(512, activation='relu', input_shape=(110 * 110,)))\n",
        "vol_network_4.add(layers.Dense(256, activation='relu', input_shape=(110 * 110,)))\n",
        "vol_network_4.add(layers.Dense(1, activation='sigmoid'))\n",
        "vol_network_4.compile(optimizer='rmsprop',\n",
        "                loss='binary_crossentropy',\n",
        "                metrics=['accuracy'])\n",
        "\n",
        "history_4 = vol_network_4.fit(\n",
        "          volcanoes_train_images, volcano_train_y,\n",
        "          steps_per_epoch=100,\n",
        "          epochs=5,\n",
        "          validation_split=.2)"
      ],
      "execution_count": 11,
      "outputs": [
        {
          "output_type": "stream",
          "text": [
            "Epoch 1/5\n",
            "100/100 [==============================] - 8s 85ms/step - loss: 1.6403 - accuracy: 0.7820 - val_loss: 0.4297 - val_accuracy: 0.8514\n",
            "Epoch 2/5\n",
            "100/100 [==============================] - 8s 83ms/step - loss: 0.5297 - accuracy: 0.8261 - val_loss: 0.4172 - val_accuracy: 0.8514\n",
            "Epoch 3/5\n",
            "100/100 [==============================] - 9s 86ms/step - loss: 0.4532 - accuracy: 0.8586 - val_loss: 0.4198 - val_accuracy: 0.8514\n",
            "Epoch 4/5\n",
            "100/100 [==============================] - 8s 84ms/step - loss: 0.4587 - accuracy: 0.8586 - val_loss: 0.5527 - val_accuracy: 0.8514\n",
            "Epoch 5/5\n",
            "100/100 [==============================] - 8s 83ms/step - loss: 0.4265 - accuracy: 0.8564 - val_loss: 0.4443 - val_accuracy: 0.8514\n"
          ],
          "name": "stdout"
        }
      ]
    },
    {
      "cell_type": "code",
      "metadata": {
        "id": "9nA8IPX-rMDd",
        "outputId": "1372d6fb-cd08-4089-cbcd-ae9bb58b1d78",
        "colab": {
          "base_uri": "https://localhost:8080/"
        }
      },
      "source": [
        "test_loss, test_acc = vol_network_4.evaluate(volcanoes_test_images, volcano_test_y)\n",
        "print('test_acc:', test_acc)"
      ],
      "execution_count": 12,
      "outputs": [
        {
          "output_type": "stream",
          "text": [
            "86/86 [==============================] - 1s 14ms/step - loss: 0.4563 - accuracy: 0.8413\n",
            "test_acc: 0.8412582278251648\n"
          ],
          "name": "stdout"
        }
      ]
    },
    {
      "cell_type": "markdown",
      "metadata": {
        "id": "szCtqSDWwxYe"
      },
      "source": [
        "I have neither given nor received any unauthorized info on this lab. - Bridget Danver"
      ]
    },
    {
      "cell_type": "markdown",
      "metadata": {
        "id": "1oPtUCBi0HnU"
      },
      "source": [
        "#### Remix\n",
        "Remix by Ron Zacharski. Orginal Python notebook by François Chollet\n",
        "\n",
        "### MIT License\n",
        "\n",
        "Copyright (c) 2017 François Chollet\n",
        "\n",
        "Permission is hereby granted, free of charge, to any person obtaining a copy\n",
        "of this software and associated documentation files (the \"Software\"), to deal\n",
        "in the Software without restriction, including without limitation the rights\n",
        "to use, copy, modify, merge, publish, distribute, sublicense, and/or sell\n",
        "copies of the Software, and to permit persons to whom the Software is\n",
        "furnished to do so, subject to the following conditions:\n",
        "\n",
        "The above copyright notice and this permission notice shall be included in all\n",
        "copies or substantial portions of the Software.\n",
        "\n",
        "THE SOFTWARE IS PROVIDED \"AS IS\", WITHOUT WARRANTY OF ANY KIND, EXPRESS OR\n",
        "IMPLIED, INCLUDING BUT NOT LIMITED TO THE WARRANTIES OF MERCHANTABILITY,\n",
        "FITNESS FOR A PARTICULAR PURPOSE AND NONINFRINGEMENT. IN NO EVENT SHALL THE\n",
        "AUTHORS OR COPYRIGHT HOLDERS BE LIABLE FOR ANY CLAIM, DAMAGES OR OTHER\n",
        "LIABILITY, WHETHER IN AN ACTION OF CONTRACT, TORT OR OTHERWISE, ARISING FROM,\n",
        "OUT OF OR IN CONNECTION WITH THE SOFTWARE OR THE USE OR OTHER DEALINGS IN THE\n",
        "SOFTWARE."
      ]
    }
  ]
}
